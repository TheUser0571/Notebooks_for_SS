{
 "cells": [
  {
   "cell_type": "code",
   "execution_count": 1,
   "metadata": {
    "ExecuteTime": {
     "end_time": "2021-02-21T18:24:17.757476Z",
     "start_time": "2021-02-21T18:24:14.801396Z"
    }
   },
   "outputs": [],
   "source": [
    "import numpy as np\n",
    "import matplotlib.gridspec\n",
    "import matplotlib.pyplot as plt\n",
    "from ipywidgets import interact, fixed, IntSlider, HBox, Layout, Output, VBox\n",
    "import ipywidgets as widgets\n",
    "from scipy import signal\n",
    "\n",
    "%matplotlib widget"
   ]
  },
  {
   "cell_type": "code",
   "execution_count": 2,
   "metadata": {
    "ExecuteTime": {
     "end_time": "2021-02-21T18:24:17.763423Z",
     "start_time": "2021-02-21T18:24:17.758435Z"
    }
   },
   "outputs": [],
   "source": [
    "def draw_circle(r):\n",
    "    x1 = np.linspace(-r, r, 1000)\n",
    "    y1 = np.sqrt(r**2-x1**2)\n",
    "    x2 = np.linspace(r-r/1000, -r, 1000)\n",
    "    y2 = np.sqrt(r**2-x2**2)\n",
    "    x = np.concatenate([x1, x2])\n",
    "    y = np.concatenate([y1, -y2])\n",
    "    labels = ['-2j', '-1.5j', '-j', '-0.5j', '0', '0.5j', 'j','1.5j','2j']\n",
    "    position=[-2,-1.5,-1,-0.5,0,0.5,1,1.5,2]\n",
    "    plt.yticks(position, labels, rotation='horizontal')\n",
    "    return x, y"
   ]
  },
  {
   "cell_type": "code",
   "execution_count": 3,
   "metadata": {
    "ExecuteTime": {
     "end_time": "2021-02-21T18:24:18.894930Z",
     "start_time": "2021-02-21T18:24:18.852139Z"
    }
   },
   "outputs": [
    {
     "data": {
      "application/vnd.jupyter.widget-view+json": {
       "model_id": "8103e83dd0554283954b5c303191f619",
       "version_major": 2,
       "version_minor": 0
      },
      "text/plain": [
       "Canvas(toolbar=Toolbar(toolitems=[('Home', 'Reset original view', 'home', 'home'), ('Back', 'Back to previous …"
      ]
     },
     "metadata": {},
     "output_type": "display_data"
    }
   ],
   "source": [
    "plt.figure(figsize=(5,5))\n",
    "uc = draw_circle(1)\n",
    "\n",
    "x=[0.25,2/3]\n",
    "y=[0,0]\n",
    "# Pad margins so that markers don't get clipped by the axes\n",
    "#plt.margins(5)\n",
    "# Tweak spacing to prevent clipping of tick-labels\n",
    "#plt.subplots_adjust(bottom=0.5)\n",
    "plt.plot(uc[0], uc[1])\n",
    "plt.plot(x,y)\n",
    "plt.grid()\n",
    "#plt.close('all')\n",
    "plt.show()"
   ]
  },
  {
   "cell_type": "code",
   "execution_count": 4,
   "metadata": {
    "ExecuteTime": {
     "end_time": "2021-02-21T18:24:19.713455Z",
     "start_time": "2021-02-21T18:24:19.640284Z"
    }
   },
   "outputs": [
    {
     "data": {
      "application/vnd.jupyter.widget-view+json": {
       "model_id": "ca81748b09e54287b5e579f7ba4acb99",
       "version_major": 2,
       "version_minor": 0
      },
      "text/plain": [
       "Canvas(toolbar=Toolbar(toolitems=[('Home', 'Reset original view', 'home', 'home'), ('Back', 'Back to previous …"
      ]
     },
     "metadata": {},
     "output_type": "display_data"
    }
   ],
   "source": [
    "plt.close('all')\n",
    "fig, ax = plt.subplots(figsize=(5,5))\n",
    "uc = draw_circle(1)\n",
    "fc = draw_circle(0.25)\n",
    "sc = draw_circle(2/3)\n",
    "inf_circ = draw_circle(5)\n",
    "ax.plot(uc[0],uc[1], color='black', linewidth=0.5)\n",
    "ax.plot(fc[0],fc[1],':')\n",
    "ax.plot(sc[0], sc[1],':')\n",
    "# Display the real and imaginary axes\n",
    "ax.set_yticks([1e-4], minor=True)\n",
    "ax.yaxis.grid(True, which='minor')\n",
    "ax.set_xticks([1e-4], minor=True)\n",
    "ax.xaxis.grid(True, which='minor')\n",
    "ax.plot(x, y, 'xr')\n",
    "#x = [0.5, 0.5, 0.5, 0.5, 0.5]\n",
    "#y = -np.array([0.5, 0.5, 0.5, 0.5, 0.5])\n",
    "#ax.plot(x, y, 'ob', fillstyle='none')\n",
    "ax.set_xlim([-2,2])\n",
    "ax.set_ylim([-2,2])\n",
    "ax.fill(inf_circ[0],inf_circ[1],facecolor='lightgreen')\n",
    "ax.fill(sc[0],sc[1],facecolor='lightskyblue')\n",
    "ax.fill(fc[0],fc[1],facecolor='lightsalmon')\n",
    "plt.show()"
   ]
  },
  {
   "cell_type": "code",
   "execution_count": 5,
   "metadata": {
    "ExecuteTime": {
     "end_time": "2021-02-21T18:24:20.512235Z",
     "start_time": "2021-02-21T18:24:20.508246Z"
    }
   },
   "outputs": [],
   "source": [
    "def H(z):\n",
    "    return (2/5)/(1-2/(3*z)-(3/20)/(1-1/(4*z)))"
   ]
  },
  {
   "cell_type": "code",
   "execution_count": 6,
   "metadata": {
    "ExecuteTime": {
     "end_time": "2021-02-21T18:24:21.554919Z",
     "start_time": "2021-02-21T18:24:21.550767Z"
    }
   },
   "outputs": [],
   "source": [
    "def step_f(causal,n):\n",
    "    if causal:\n",
    "        if n<0: return 0.\n",
    "        else: return 1.\n",
    "    else:\n",
    "        if n<0: return 1.\n",
    "        else: return 0.\n",
    "        \n",
    "#causal=True"
   ]
  },
  {
   "cell_type": "code",
   "execution_count": 7,
   "metadata": {
    "ExecuteTime": {
     "end_time": "2021-02-21T18:24:22.303518Z",
     "start_time": "2021-02-21T18:24:22.299748Z"
    }
   },
   "outputs": [],
   "source": [
    "def impulse_resp(region,n):\n",
    "    if region==1:\n",
    "        return (-2/5*(2/3)**n+3/20*(1/4)**n)*step_f(False,n)\n",
    "    elif region==2:\n",
    "        return (-4/3*(2/3)**n*step_f(False,n)-3/20*(1/4)**n*step_f(True,n))\n",
    "    else:\n",
    "        return (2/5*(2/3)**n-3/20*(1/4)**n)*step_f(True,n)"
   ]
  },
  {
   "cell_type": "code",
   "execution_count": 8,
   "metadata": {
    "ExecuteTime": {
     "end_time": "2021-02-21T18:24:23.849822Z",
     "start_time": "2021-02-21T18:24:23.844835Z"
    }
   },
   "outputs": [
    {
     "data": {
      "text/plain": [
       "-1.1102230246251565e-16"
      ]
     },
     "execution_count": 8,
     "metadata": {},
     "output_type": "execute_result"
    }
   ],
   "source": [
    "impulse_resp(1,-1)"
   ]
  },
  {
   "cell_type": "code",
   "execution_count": 9,
   "metadata": {
    "ExecuteTime": {
     "end_time": "2021-02-21T18:24:24.460588Z",
     "start_time": "2021-02-21T18:24:24.457343Z"
    }
   },
   "outputs": [
    {
     "data": {
      "text/plain": [
       "2.999999999999999"
      ]
     },
     "execution_count": 9,
     "metadata": {},
     "output_type": "execute_result"
    }
   ],
   "source": [
    "H(1)"
   ]
  },
  {
   "cell_type": "code",
   "execution_count": 10,
   "metadata": {
    "ExecuteTime": {
     "end_time": "2021-02-21T18:24:25.814989Z",
     "start_time": "2021-02-21T18:24:25.811503Z"
    }
   },
   "outputs": [
    {
     "data": {
      "text/plain": [
       "(0.27921801954951125-0.22821929451763703j)"
      ]
     },
     "execution_count": 10,
     "metadata": {},
     "output_type": "execute_result"
    }
   ],
   "source": [
    "H(1j)"
   ]
  },
  {
   "cell_type": "code",
   "execution_count": 11,
   "metadata": {
    "ExecuteTime": {
     "end_time": "2021-02-21T18:24:26.905736Z",
     "start_time": "2021-02-21T18:24:26.902888Z"
    }
   },
   "outputs": [],
   "source": [
    "n=np.zeros(10)\n",
    "for i in range(len(n)):\n",
    "    n[i]=-4+i"
   ]
  },
  {
   "cell_type": "code",
   "execution_count": 12,
   "metadata": {
    "ExecuteTime": {
     "end_time": "2021-02-21T18:24:27.574960Z",
     "start_time": "2021-02-21T18:24:27.570696Z"
    }
   },
   "outputs": [
    {
     "data": {
      "text/plain": [
       "array([-4., -3., -2., -1.,  0.,  1.,  2.,  3.,  4.,  5.])"
      ]
     },
     "execution_count": 12,
     "metadata": {},
     "output_type": "execute_result"
    }
   ],
   "source": [
    "n"
   ]
  },
  {
   "cell_type": "code",
   "execution_count": 13,
   "metadata": {
    "ExecuteTime": {
     "end_time": "2021-02-21T18:24:28.202446Z",
     "start_time": "2021-02-21T18:24:28.199398Z"
    }
   },
   "outputs": [],
   "source": [
    "r=np.zeros(10)\n",
    "for i in range(len(n)):\n",
    "    r[i]=impulse_resp(1,n[i])\n",
    "    "
   ]
  },
  {
   "cell_type": "code",
   "execution_count": 14,
   "metadata": {
    "ExecuteTime": {
     "end_time": "2021-02-21T18:24:29.877284Z",
     "start_time": "2021-02-21T18:24:29.872298Z"
    }
   },
   "outputs": [
    {
     "data": {
      "text/plain": [
       "array([ 3.63750000e+01,  8.25000000e+00,  1.50000000e+00, -1.11022302e-16,\n",
       "       -0.00000000e+00, -0.00000000e+00, -0.00000000e+00, -0.00000000e+00,\n",
       "       -0.00000000e+00, -0.00000000e+00])"
      ]
     },
     "execution_count": 14,
     "metadata": {},
     "output_type": "execute_result"
    }
   ],
   "source": [
    "r"
   ]
  },
  {
   "cell_type": "code",
   "execution_count": 15,
   "metadata": {
    "ExecuteTime": {
     "end_time": "2021-02-21T18:24:36.488222Z",
     "start_time": "2021-02-21T18:24:36.365530Z"
    }
   },
   "outputs": [
    {
     "data": {
      "application/vnd.jupyter.widget-view+json": {
       "model_id": "69bfbcaeb88f4c1c811ec955ceea0cc2",
       "version_major": 2,
       "version_minor": 0
      },
      "text/plain": [
       "Canvas(toolbar=Toolbar(toolitems=[('Home', 'Reset original view', 'home', 'home'), ('Back', 'Back to previous …"
      ]
     },
     "metadata": {},
     "output_type": "display_data"
    },
    {
     "ename": "AttributeError",
     "evalue": "'Figure' object has no attribute 'plot'",
     "output_type": "error",
     "traceback": [
      "\u001b[1;31m---------------------------------------------------------------------------\u001b[0m",
      "\u001b[1;31mAttributeError\u001b[0m                            Traceback (most recent call last)",
      "\u001b[1;32m<ipython-input-15-0e36a106b6d8>\u001b[0m in \u001b[0;36m<module>\u001b[1;34m\u001b[0m\n\u001b[0;32m     22\u001b[0m \u001b[0max\u001b[0m\u001b[1;33m.\u001b[0m\u001b[0mfill\u001b[0m\u001b[1;33m(\u001b[0m\u001b[0msc\u001b[0m\u001b[1;33m[\u001b[0m\u001b[1;36m0\u001b[0m\u001b[1;33m]\u001b[0m\u001b[1;33m,\u001b[0m\u001b[0msc\u001b[0m\u001b[1;33m[\u001b[0m\u001b[1;36m1\u001b[0m\u001b[1;33m]\u001b[0m\u001b[1;33m,\u001b[0m\u001b[0mfacecolor\u001b[0m\u001b[1;33m=\u001b[0m\u001b[1;34m'lightskyblue'\u001b[0m\u001b[1;33m)\u001b[0m\u001b[1;33m\u001b[0m\u001b[1;33m\u001b[0m\u001b[0m\n\u001b[0;32m     23\u001b[0m \u001b[0max\u001b[0m\u001b[1;33m.\u001b[0m\u001b[0mfill\u001b[0m\u001b[1;33m(\u001b[0m\u001b[0mfc\u001b[0m\u001b[1;33m[\u001b[0m\u001b[1;36m0\u001b[0m\u001b[1;33m]\u001b[0m\u001b[1;33m,\u001b[0m\u001b[0mfc\u001b[0m\u001b[1;33m[\u001b[0m\u001b[1;36m1\u001b[0m\u001b[1;33m]\u001b[0m\u001b[1;33m,\u001b[0m\u001b[0mfacecolor\u001b[0m\u001b[1;33m=\u001b[0m\u001b[1;34m'lightsalmon'\u001b[0m\u001b[1;33m)\u001b[0m\u001b[1;33m\u001b[0m\u001b[1;33m\u001b[0m\u001b[0m\n\u001b[1;32m---> 24\u001b[1;33m \u001b[0mfig\u001b[0m\u001b[1;33m.\u001b[0m\u001b[0mplot\u001b[0m\u001b[1;33m(\u001b[0m\u001b[1;36m1\u001b[0m\u001b[1;33m,\u001b[0m\u001b[1;36m1\u001b[0m\u001b[1;33m)\u001b[0m\u001b[1;33m\u001b[0m\u001b[1;33m\u001b[0m\u001b[0m\n\u001b[0m\u001b[0;32m     25\u001b[0m \u001b[1;31m#fig.plot(n,r,color='blue', linewidth=0.4)\u001b[0m\u001b[1;33m\u001b[0m\u001b[1;33m\u001b[0m\u001b[1;33m\u001b[0m\u001b[0m\n\u001b[0;32m     26\u001b[0m \u001b[0mplt\u001b[0m\u001b[1;33m.\u001b[0m\u001b[0mshow\u001b[0m\u001b[1;33m(\u001b[0m\u001b[1;33m)\u001b[0m\u001b[1;33m\u001b[0m\u001b[1;33m\u001b[0m\u001b[0m\n",
      "\u001b[1;31mAttributeError\u001b[0m: 'Figure' object has no attribute 'plot'"
     ]
    }
   ],
   "source": [
    "plt.close('all')\n",
    "fig, ax = plt.subplots(figsize=(5,5))\n",
    "uc = draw_circle(1)\n",
    "fc = draw_circle(0.25)\n",
    "sc = draw_circle(2/3)\n",
    "inf_circ = draw_circle(5)\n",
    "ax.plot(uc[0],uc[1], color='black', linewidth=0.5)\n",
    "ax.plot(fc[0],fc[1],':')\n",
    "ax.plot(sc[0], sc[1],':')\n",
    "# Display the real and imaginary axes\n",
    "ax.set_yticks([1e-4], minor=True)\n",
    "ax.yaxis.grid(True, which='minor')\n",
    "ax.set_xticks([1e-4], minor=True)\n",
    "ax.xaxis.grid(True, which='minor')\n",
    "ax.plot(x, y, 'xr')\n",
    "#x = [0.5, 0.5, 0.5, 0.5, 0.5]\n",
    "#y = -np.array([0.5, 0.5, 0.5, 0.5, 0.5])\n",
    "#ax.plot(x, y, 'ob', fillstyle='none')\n",
    "ax.set_xlim([-2,2])\n",
    "ax.set_ylim([-2,2])\n",
    "ax.fill(inf_circ[0],inf_circ[1],facecolor='lightgreen')\n",
    "ax.fill(sc[0],sc[1],facecolor='lightskyblue')\n",
    "ax.fill(fc[0],fc[1],facecolor='lightsalmon')\n",
    "fig.plot(1,1)\n",
    "#fig.plot(n,r,color='blue', linewidth=0.4)\n",
    "plt.show()\n",
    "\n"
   ]
  },
  {
   "cell_type": "code",
   "execution_count": 234,
   "metadata": {
    "ExecuteTime": {
     "end_time": "2021-02-22T08:55:28.940178Z",
     "start_time": "2021-02-22T08:55:28.915245Z"
    }
   },
   "outputs": [],
   "source": [
    "class Region_of_Convergence():\n",
    "    def __init__(self, causal=True, region=1, integer=11):\n",
    "        self.out = Output(layout={'width': '980px', 'height': '450px'})\n",
    "        self.axs = []\n",
    "\n",
    "        # Defining the boolean casual and the region(1:inside, 2:between and 3:outside)\n",
    "        self.causal = causal\n",
    "        self.region = region\n",
    "\n",
    "        # Defining the integers, always has to be an odd number\n",
    "        self.n = np.linspace(-integer//2+1, integer//2, integer)\n",
    "\n",
    "        # Defining the poles\n",
    "        p_x = [0.25, 2/3]\n",
    "        p_y = [0, 0]\n",
    "\n",
    "        # Inizializate the figure\n",
    "        self.init_figure(p_x, p_y)\n",
    "        # Connect axes 0 to the mouse click event\n",
    "        self.c1 = self.axs[0].figure.canvas.mpl_connect(\"button_press_event\", self.click)\n",
    "        # Text field\n",
    "        self.tx = self.axs[0].text(-1.6, 1.5, '', fontdict={'color': 'red', 'size': 15, 'name':'Arial'})\n",
    "\n",
    "    def click(self, event):\n",
    "        if event.button == 3:\n",
    "            # rightclick\n",
    "            self.tx.set_visible(False)\n",
    "            self.axs[2].remove()\n",
    "            self.axs[2] = self.fig.add_subplot(self.gs[1, -1])\n",
    "            self.axs[2].set_title(\"Impulse response\")\n",
    "            return\n",
    "        if event.button == 1:\n",
    "            # leftclick\n",
    "            r = np.sqrt(event.xdata**2 + event.ydata**2)\n",
    "            self.tx.set_visible(True)\n",
    "            if r < 0.25:\n",
    "                self.region = 1\n",
    "                self.tx.set_text('Instable')\n",
    "            elif r < 2/3:\n",
    "                self.region = 2\n",
    "                self.tx.set_text('Instable')\n",
    "            else:\n",
    "                self.region = 3\n",
    "                self.tx.set_text('Stable')\n",
    "            # Update impulse response\n",
    "            h = self.impulse_resp(self.n)\n",
    "            self.axs[2].remove()\n",
    "            self.axs[2] = self.fig.add_subplot(self.gs[1, -1])\n",
    "            self.axs[2].set_title(\"Impulse response\")\n",
    "            self.axs[2].scatter(self.n, h, color='blue')\n",
    "            for i, p in enumerate(h):\n",
    "                self.axs[2].plot([self.n[i], self.n[i]], [0, p], 'b')\n",
    "\n",
    "            self.ax.figure.canvas.draw_idle()\n",
    "        \n",
    "    def init_figure(self, p_x, p_y):\n",
    "        with self.out:\n",
    "            # Create the Complex plane plot and small plots for H and h\n",
    "            self.fig = plt.figure(figsize=(8, 4))\n",
    "            self.gs = self.fig.add_gridspec(2, 2)\n",
    "\n",
    "            self.axs.append(self.fig.add_subplot(self.gs[:, 0]))\n",
    "            self.axs[0].set_title(\"Regions of Convergence\")\n",
    "\n",
    "            self.axs.append(self.fig.add_subplot(self.gs[0, -1]))\n",
    "            self.axs[1].set_title(\"Z transform\")\n",
    "\n",
    "            self.axs.append(self.fig.add_subplot(self.gs[1, -1]))\n",
    "            self.axs[2].set_title(\"Impulse response\")\n",
    "\n",
    "            # Defining the unit circle and regions\n",
    "            uc = self.draw_circle(1)\n",
    "            fc = self.draw_circle(0.25)\n",
    "            sc = self.draw_circle(2/3)\n",
    "            inf_circ = self.draw_circle(5)\n",
    "\n",
    "            # Draw the unit circle and regions filled\n",
    "            self.axs[0].plot(uc[0], uc[1], color='black', linewidth='0.5')\n",
    "            self.axs[0].plot(fc[0], fc[1], ':', color='grey')\n",
    "            self.axs[0].plot(sc[0], sc[1], ':', color='grey')\n",
    "            self.axs[0].fill(inf_circ[0], inf_circ[1], facecolor='lightgreen')\n",
    "            self.axs[0].fill(sc[0], sc[1], facecolor='lightskyblue')\n",
    "            self.axs[0].fill(fc[0], fc[1], facecolor='lightsalmon')\n",
    "            \n",
    "            labels = ['-2j', '-1.5j', '-j', '-0.5j','0', '0.5j', 'j', '1.5j', '2j']\n",
    "            position = [-2, -1.5, -1, -0.5, 0, 0.5, 1, 1.5, 2]\n",
    "            self.axs[0].set_yticks(position)\n",
    "            self.axs[0].set_yticklabels(labels)\n",
    "\n",
    "            # Add zeros and poles\n",
    "            #self.axs[0].plot(z_x, z_y, 'xr', label='Zeros')\n",
    "            self.axs[0].plot(p_x, p_y, 'xr', label='Poles')\n",
    "            self.axs[0].set_xlim([-2, 2])\n",
    "            self.axs[0].set_ylim([-2, 2])\n",
    "\n",
    "            # Display the real and imaginary axes\n",
    "            self.axs[0].set_yticks([1e-4], minor=True)\n",
    "            self.axs[0].yaxis.grid(True, which='minor', color='black', linewidth='0.5')\n",
    "            self.axs[0].set_xticks([1e-4], minor=True)\n",
    "            self.axs[0].xaxis.grid(True, which='minor', color='black', linewidth='0.5')\n",
    "            self.axs[0].set_title('Regions of convergence')\n",
    "            self.axs[0].set_xlabel('Re')\n",
    "            self.axs[0].set_ylabel('Im')\n",
    "\n",
    "            # Enable the legend\n",
    "            self.axs[0].legend()\n",
    "\n",
    "            # H\n",
    "            w, h = self.H()\n",
    "            self.axs[1].plot(w, h)\n",
    "            self.axs[1].set_xticks([-np.pi, -np.pi/2, 0, np.pi/2, np.pi])\n",
    "            self.axs[1].set_xticklabels(['-$\\pi$', '-$\\dfrac{\\pi}{2}$', '0', '$\\dfrac{\\pi}{2}$', '$\\pi$'])\n",
    "            plt.show()\n",
    "            \n",
    "        display(self.out)\n",
    "        plt.tight_layout(pad=0.1, w_pad=1.0, h_pad=0.1)\n",
    "\n",
    "    def H(self):\n",
    "        # Generate the transfer function\n",
    "        H = signal.ZerosPolesGain([], [0.25, 2/3], 0.25, dt=0.1).to_tf()\n",
    "        # Generate dicrete frequency response\n",
    "        w, h = signal.freqz(H.num, H.den, whole=True)\n",
    "        # Shift the angles to [-pi, pi]\n",
    "        w = w-np.pi\n",
    "        # Shift the gain and phase accordingly\n",
    "#         h_ph = np.fft.fftshift(np.angle(h, deg=True))\n",
    "        h = np.abs(np.fft.fftshift(h))\n",
    "        return w, h\n",
    "\n",
    "    def step_f(self, positive, n):\n",
    "        if positive:\n",
    "            return np.where(n >= 0, 1, 0)\n",
    "        else:\n",
    "            return np.where(n < 0, 1, 0)\n",
    "\n",
    "    def impulse_resp(self, n):\n",
    "        if self.region == 1:\n",
    "            # Anticausal\n",
    "            return (-2/5*(2/3)**n+3/20*(1/4)**n)*self.step_f(False, n)\n",
    "        elif self.region == 2:\n",
    "            # Neither\n",
    "            return -4/3*(2/3)**n*self.step_f(False, n)-3/20*(1/4)**n*self.step_f(True, n)\n",
    "        else:\n",
    "            # Causal\n",
    "            return (2/5*(2/3)**n-3/20*(1/4)**n)*self.step_f(True, n)\n",
    "\n",
    "    def draw_circle(self, r):\n",
    "        x1 = np.linspace(-r, r, 1000)\n",
    "        y1 = np.sqrt(r**2-x1**2)\n",
    "        x2 = np.linspace(r-r/1000, -r, 1000)\n",
    "        y2 = np.sqrt(r**2-x2**2)\n",
    "        x = np.concatenate([x1, x2])\n",
    "        y = np.concatenate([y1, -y2])\n",
    "        return x, y"
   ]
  },
  {
   "cell_type": "code",
   "execution_count": 235,
   "metadata": {
    "ExecuteTime": {
     "end_time": "2021-02-22T08:55:29.627211Z",
     "start_time": "2021-02-22T08:55:29.474582Z"
    }
   },
   "outputs": [
    {
     "data": {
      "application/vnd.jupyter.widget-view+json": {
       "model_id": "67e33793f6444e26b93e803972465bd2",
       "version_major": 2,
       "version_minor": 0
      },
      "text/plain": [
       "Output(layout=Layout(height='450px', width='980px'))"
      ]
     },
     "metadata": {},
     "output_type": "display_data"
    }
   ],
   "source": [
    "plt.close('all')\n",
    "roc=Region_of_Convergence(integer=21)"
   ]
  },
  {
   "cell_type": "code",
   "execution_count": 172,
   "metadata": {
    "ExecuteTime": {
     "end_time": "2021-02-21T19:44:28.613447Z",
     "start_time": "2021-02-21T19:44:28.583464Z"
    }
   },
   "outputs": [
    {
     "data": {
      "application/vnd.jupyter.widget-view+json": {
       "model_id": "f80ae9ab83774b18b000bcffde2d05b8",
       "version_major": 2,
       "version_minor": 0
      },
      "text/plain": [
       "Canvas(toolbar=Toolbar(toolitems=[('Home', 'Reset original view', 'home', 'home'), ('Back', 'Back to previous …"
      ]
     },
     "metadata": {},
     "output_type": "display_data"
    },
    {
     "data": {
      "text/plain": [
       "[<matplotlib.lines.Line2D at 0x2d3d5ed36c8>]"
      ]
     },
     "execution_count": 172,
     "metadata": {},
     "output_type": "execute_result"
    }
   ],
   "source": [
    "H = signal.ZerosPolesGain([], [0.25, 2/3], 0.25, dt=0.1).to_tf()\n",
    "# Generate dicrete frequency response\n",
    "w, h = signal.freqz(H.num, H.den, whole=True)\n",
    "# Shift the angles to [-pi, pi]\n",
    "w = w-np.pi\n",
    "# Shift the gain and phase accordingly\n",
    "# h_ph = np.fft.fftshift(np.angle(h, deg=True))\n",
    "h = np.abs(np.fft.fftshift(h))\n",
    "plt.close('all')\n",
    "plt.figure()\n",
    "plt.plot(w, h)"
   ]
  },
  {
   "cell_type": "code",
   "execution_count": 141,
   "metadata": {
    "ExecuteTime": {
     "end_time": "2021-02-21T19:31:02.263387Z",
     "start_time": "2021-02-21T19:31:02.098522Z"
    }
   },
   "outputs": [
    {
     "data": {
      "application/vnd.jupyter.widget-view+json": {
       "model_id": "59cea31412df42c58d3a44fbdbf8409c",
       "version_major": 2,
       "version_minor": 0
      },
      "text/plain": [
       "Canvas(toolbar=Toolbar(toolitems=[('Home', 'Reset original view', 'home', 'home'), ('Back', 'Back to previous …"
      ]
     },
     "metadata": {},
     "output_type": "display_data"
    }
   ],
   "source": [
    "plt.close('all')\n",
    "plt.figure()\n",
    "plt.scatter(np.linspace(0,10,11), np.linspace(-5,5,11), color='blue')\n",
    "for i, x in enumerate(np.linspace(-5,5,11)):\n",
    "    plt.plot([i, i], [0, x], 'b')\n",
    "plt.show()"
   ]
  },
  {
   "cell_type": "code",
   "execution_count": 52,
   "metadata": {
    "ExecuteTime": {
     "end_time": "2021-02-21T18:40:49.783069Z",
     "start_time": "2021-02-21T18:40:49.680752Z"
    }
   },
   "outputs": [
    {
     "data": {
      "application/vnd.jupyter.widget-view+json": {
       "model_id": "483cdae7d5464471b13e0999f3b055a2",
       "version_major": 2,
       "version_minor": 0
      },
      "text/plain": [
       "Canvas(toolbar=Toolbar(toolitems=[('Home', 'Reset original view', 'home', 'home'), ('Back', 'Back to previous …"
      ]
     },
     "metadata": {},
     "output_type": "display_data"
    },
    {
     "data": {
      "text/plain": [
       "Text(0.5, 1.0, 'gs[1:, -1]')"
      ]
     },
     "execution_count": 52,
     "metadata": {},
     "output_type": "execute_result"
    }
   ],
   "source": [
    "fig3 = plt.figure(figsize=(10, 5))\n",
    "gs = fig3.add_gridspec(2, 2)\n",
    "f3_ax1 = fig3.add_subplot(gs[:, 0])\n",
    "f3_ax1.set_title('gs[0, :]')\n",
    "f3_ax2 = fig3.add_subplot(gs[0:, -1])\n",
    "f3_ax2.set_title('gs[1, :-1]')\n",
    "f3_ax3 = fig3.add_subplot(gs[1:, -1])\n",
    "f3_ax3.set_title('gs[1:, -1]')\n"
   ]
  },
  {
   "cell_type": "code",
   "execution_count": null,
   "metadata": {},
   "outputs": [],
   "source": []
  }
 ],
 "metadata": {
  "kernelspec": {
   "display_name": "Python 3",
   "language": "python",
   "name": "python3"
  },
  "language_info": {
   "codemirror_mode": {
    "name": "ipython",
    "version": 3
   },
   "file_extension": ".py",
   "mimetype": "text/x-python",
   "name": "python",
   "nbconvert_exporter": "python",
   "pygments_lexer": "ipython3",
   "version": "3.7.9"
  }
 },
 "nbformat": 4,
 "nbformat_minor": 4
}
