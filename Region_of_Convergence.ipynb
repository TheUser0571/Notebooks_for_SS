{
 "cells": [
  {
   "cell_type": "code",
   "execution_count": 66,
   "metadata": {
    "ExecuteTime": {
     "end_time": "2021-02-21T10:21:29.457879Z",
     "start_time": "2021-02-21T10:21:28.789693Z"
    }
   },
   "outputs": [],
   "source": [
    "import numpy as np\n",
    "import matplotlib.gridspec\n",
    "import matplotlib.pyplot as plt\n",
    "from ipywidgets import interact, fixed, IntSlider, HBox, Layout, Output, VBox\n",
    "import ipywidgets as widgets\n",
    "from scipy import signal\n",
    "\n",
    "%matplotlib widget"
   ]
  },
  {
   "cell_type": "code",
   "execution_count": 67,
   "metadata": {
    "ExecuteTime": {
     "end_time": "2021-02-21T10:21:29.465822Z",
     "start_time": "2021-02-21T10:21:29.458870Z"
    }
   },
   "outputs": [],
   "source": [
    "def draw_circle(r):\n",
    "    x1 = np.linspace(-r, r, 1000)\n",
    "    y1 = np.sqrt(r**2-x1**2)\n",
    "    x2 = np.linspace(r-r/1000, -r, 1000)\n",
    "    y2 = np.sqrt(r**2-x2**2)\n",
    "    x = np.concatenate([x1, x2])\n",
    "    y = np.concatenate([y1, -y2])\n",
    "    labels = ['-2j', '-1.5j', '-j', '-0.5j', '0', '0.5j', 'j','1.5j','2j']\n",
    "    position=[-2,-1.5,-1,-0.5,0,0.5,1,1.5,2]\n",
    "    plt.yticks(position, labels, rotation='horizontal')\n",
    "    return x, y"
   ]
  },
  {
   "cell_type": "code",
   "execution_count": 68,
   "metadata": {
    "ExecuteTime": {
     "end_time": "2021-02-21T10:31:02.884716Z",
     "start_time": "2021-02-21T10:31:02.845902Z"
    }
   },
   "outputs": [
    {
     "data": {
      "application/vnd.jupyter.widget-view+json": {
       "model_id": "91405db3b65f4003bcbcac9596b0d8e1",
       "version_major": 2,
       "version_minor": 0
      },
      "text/plain": [
       "Canvas(toolbar=Toolbar(toolitems=[('Home', 'Reset original view', 'home', 'home'), ('Back', 'Back to previous …"
      ]
     },
     "metadata": {},
     "output_type": "display_data"
    }
   ],
   "source": [
    "plt.figure(figsize=(5,5))\n",
    "uc = draw_circle(1)\n",
    "\n",
    "x=[0.25,2/3]\n",
    "y=[0,0]\n",
    "# Pad margins so that markers don't get clipped by the axes\n",
    "#plt.margins(5)\n",
    "# Tweak spacing to prevent clipping of tick-labels\n",
    "#plt.subplots_adjust(bottom=0.5)\n",
    "plt.plot(uc[0], uc[1])\n",
    "plt.plot(x,y)\n",
    "plt.grid()\n",
    "#plt.close('all')\n",
    "plt.show()"
   ]
  },
  {
   "cell_type": "code",
   "execution_count": 69,
   "metadata": {
    "ExecuteTime": {
     "end_time": "2021-02-21T10:33:39.775320Z",
     "start_time": "2021-02-21T10:33:39.725351Z"
    }
   },
   "outputs": [
    {
     "data": {
      "application/vnd.jupyter.widget-view+json": {
       "model_id": "d63757babf3947c987d14dbfcdc0e217",
       "version_major": 2,
       "version_minor": 0
      },
      "text/plain": [
       "Canvas(toolbar=Toolbar(toolitems=[('Home', 'Reset original view', 'home', 'home'), ('Back', 'Back to previous …"
      ]
     },
     "metadata": {},
     "output_type": "display_data"
    }
   ],
   "source": [
    "plt.close('all')\n",
    "fig, ax = plt.subplots(figsize=(5,5))\n",
    "uc = draw_circle(1)\n",
    "fc = draw_circle(0.25)\n",
    "sc = draw_circle(2/3)\n",
    "inf_circ = draw_circle(5)\n",
    "ax.plot(uc[0],uc[1], color='black', linewidth=0.5)\n",
    "ax.plot(fc[0],fc[1],':')\n",
    "ax.plot(sc[0], sc[1],':')\n",
    "# Display the real and imaginary axes\n",
    "ax.set_yticks([1e-4], minor=True)\n",
    "ax.yaxis.grid(True, which='minor')\n",
    "ax.set_xticks([1e-4], minor=True)\n",
    "ax.xaxis.grid(True, which='minor')\n",
    "ax.plot(x, y, 'xr')\n",
    "#x = [0.5, 0.5, 0.5, 0.5, 0.5]\n",
    "#y = -np.array([0.5, 0.5, 0.5, 0.5, 0.5])\n",
    "#ax.plot(x, y, 'ob', fillstyle='none')\n",
    "ax.set_xlim([-2,2])\n",
    "ax.set_ylim([-2,2])\n",
    "ax.fill(inf_circ[0],inf_circ[1],facecolor='lightgreen')\n",
    "ax.fill(sc[0],sc[1],facecolor='lightskyblue')\n",
    "ax.fill(fc[0],fc[1],facecolor='lightsalmon')\n",
    "plt.show()"
   ]
  },
  {
   "cell_type": "code",
   "execution_count": 6,
   "metadata": {},
   "outputs": [],
   "source": [
    "def H(z):\n",
    "    return (2/5)/(1-2/(3*z)-(3/20)/(1-1/(4*z)))"
   ]
  },
  {
   "cell_type": "code",
   "execution_count": 40,
   "metadata": {},
   "outputs": [],
   "source": [
    "def step_f(causal,n):\n",
    "    if causal:\n",
    "        if n<0: return 0.\n",
    "        else: return 1.\n",
    "    else:\n",
    "        if n<0: return 1.\n",
    "        else: return 0.\n",
    "        \n",
    "#causal=True"
   ]
  },
  {
   "cell_type": "code",
   "execution_count": 48,
   "metadata": {},
   "outputs": [],
   "source": [
    "def impulse_resp(region,n):\n",
    "    if region==1:\n",
    "        return (-2/5*(2/3)**n+3/20*(1/4)**n)*step_f(False,n)\n",
    "    elif region==2:\n",
    "        return (-4/3*(2/3)**n*step_f(False,n)-3/20*(1/4)**n*step_f(True,n))\n",
    "    else:\n",
    "        return (2/5*(2/3)**n-3/20*(1/4)**n)*step_f(True,n)"
   ]
  },
  {
   "cell_type": "code",
   "execution_count": 50,
   "metadata": {},
   "outputs": [
    {
     "data": {
      "text/plain": [
       "-1.1102230246251565e-16"
      ]
     },
     "execution_count": 50,
     "metadata": {},
     "output_type": "execute_result"
    }
   ],
   "source": [
    "impulse_resp(1,-1)"
   ]
  },
  {
   "cell_type": "code",
   "execution_count": 51,
   "metadata": {},
   "outputs": [
    {
     "data": {
      "text/plain": [
       "2.999999999999999"
      ]
     },
     "execution_count": 51,
     "metadata": {},
     "output_type": "execute_result"
    }
   ],
   "source": [
    "H(1)"
   ]
  },
  {
   "cell_type": "code",
   "execution_count": 52,
   "metadata": {},
   "outputs": [
    {
     "data": {
      "text/plain": [
       "(0.27921801954951125-0.22821929451763703j)"
      ]
     },
     "execution_count": 52,
     "metadata": {},
     "output_type": "execute_result"
    }
   ],
   "source": [
    "H(1j)"
   ]
  },
  {
   "cell_type": "code",
   "execution_count": 60,
   "metadata": {},
   "outputs": [],
   "source": [
    "n=np.zeros(10)\n",
    "for i in range(len(n)):\n",
    "    n[i]=-4+i"
   ]
  },
  {
   "cell_type": "code",
   "execution_count": 61,
   "metadata": {},
   "outputs": [
    {
     "data": {
      "text/plain": [
       "array([-4., -3., -2., -1.,  0.,  1.,  2.,  3.,  4.,  5.])"
      ]
     },
     "execution_count": 61,
     "metadata": {},
     "output_type": "execute_result"
    }
   ],
   "source": [
    "n"
   ]
  },
  {
   "cell_type": "code",
   "execution_count": 62,
   "metadata": {},
   "outputs": [],
   "source": [
    "r=np.zeros(10)\n",
    "for i in range(len(n)):\n",
    "    r[i]=impulse_resp(1,n[i])\n",
    "    "
   ]
  },
  {
   "cell_type": "code",
   "execution_count": 63,
   "metadata": {},
   "outputs": [
    {
     "data": {
      "text/plain": [
       "array([ 3.63750000e+01,  8.25000000e+00,  1.50000000e+00, -1.11022302e-16,\n",
       "       -0.00000000e+00, -0.00000000e+00, -0.00000000e+00, -0.00000000e+00,\n",
       "       -0.00000000e+00, -0.00000000e+00])"
      ]
     },
     "execution_count": 63,
     "metadata": {},
     "output_type": "execute_result"
    }
   ],
   "source": [
    "r"
   ]
  },
  {
   "cell_type": "code",
   "execution_count": 76,
   "metadata": {},
   "outputs": [
    {
     "data": {
      "application/vnd.jupyter.widget-view+json": {
       "model_id": "6854c9aff4604d71acbf6f00d5383d9b",
       "version_major": 2,
       "version_minor": 0
      },
      "text/plain": [
       "Canvas(toolbar=Toolbar(toolitems=[('Home', 'Reset original view', 'home', 'home'), ('Back', 'Back to previous …"
      ]
     },
     "metadata": {},
     "output_type": "display_data"
    },
    {
     "ename": "AttributeError",
     "evalue": "'Figure' object has no attribute 'plot'",
     "output_type": "error",
     "traceback": [
      "\u001b[0;31m---------------------------------------------------------------------------\u001b[0m",
      "\u001b[0;31mAttributeError\u001b[0m                            Traceback (most recent call last)",
      "\u001b[0;32m<ipython-input-76-0e36a106b6d8>\u001b[0m in \u001b[0;36m<module>\u001b[0;34m\u001b[0m\n\u001b[1;32m     22\u001b[0m \u001b[0max\u001b[0m\u001b[0;34m.\u001b[0m\u001b[0mfill\u001b[0m\u001b[0;34m(\u001b[0m\u001b[0msc\u001b[0m\u001b[0;34m[\u001b[0m\u001b[0;36m0\u001b[0m\u001b[0;34m]\u001b[0m\u001b[0;34m,\u001b[0m\u001b[0msc\u001b[0m\u001b[0;34m[\u001b[0m\u001b[0;36m1\u001b[0m\u001b[0;34m]\u001b[0m\u001b[0;34m,\u001b[0m\u001b[0mfacecolor\u001b[0m\u001b[0;34m=\u001b[0m\u001b[0;34m'lightskyblue'\u001b[0m\u001b[0;34m)\u001b[0m\u001b[0;34m\u001b[0m\u001b[0;34m\u001b[0m\u001b[0m\n\u001b[1;32m     23\u001b[0m \u001b[0max\u001b[0m\u001b[0;34m.\u001b[0m\u001b[0mfill\u001b[0m\u001b[0;34m(\u001b[0m\u001b[0mfc\u001b[0m\u001b[0;34m[\u001b[0m\u001b[0;36m0\u001b[0m\u001b[0;34m]\u001b[0m\u001b[0;34m,\u001b[0m\u001b[0mfc\u001b[0m\u001b[0;34m[\u001b[0m\u001b[0;36m1\u001b[0m\u001b[0;34m]\u001b[0m\u001b[0;34m,\u001b[0m\u001b[0mfacecolor\u001b[0m\u001b[0;34m=\u001b[0m\u001b[0;34m'lightsalmon'\u001b[0m\u001b[0;34m)\u001b[0m\u001b[0;34m\u001b[0m\u001b[0;34m\u001b[0m\u001b[0m\n\u001b[0;32m---> 24\u001b[0;31m \u001b[0mfig\u001b[0m\u001b[0;34m.\u001b[0m\u001b[0mplot\u001b[0m\u001b[0;34m(\u001b[0m\u001b[0;36m1\u001b[0m\u001b[0;34m,\u001b[0m\u001b[0;36m1\u001b[0m\u001b[0;34m)\u001b[0m\u001b[0;34m\u001b[0m\u001b[0;34m\u001b[0m\u001b[0m\n\u001b[0m\u001b[1;32m     25\u001b[0m \u001b[0;31m#fig.plot(n,r,color='blue', linewidth=0.4)\u001b[0m\u001b[0;34m\u001b[0m\u001b[0;34m\u001b[0m\u001b[0;34m\u001b[0m\u001b[0m\n\u001b[1;32m     26\u001b[0m \u001b[0mplt\u001b[0m\u001b[0;34m.\u001b[0m\u001b[0mshow\u001b[0m\u001b[0;34m(\u001b[0m\u001b[0;34m)\u001b[0m\u001b[0;34m\u001b[0m\u001b[0;34m\u001b[0m\u001b[0m\n",
      "\u001b[0;31mAttributeError\u001b[0m: 'Figure' object has no attribute 'plot'"
     ]
    }
   ],
   "source": [
    "plt.close('all')\n",
    "fig, ax = plt.subplots(figsize=(5,5))\n",
    "uc = draw_circle(1)\n",
    "fc = draw_circle(0.25)\n",
    "sc = draw_circle(2/3)\n",
    "inf_circ = draw_circle(5)\n",
    "ax.plot(uc[0],uc[1], color='black', linewidth=0.5)\n",
    "ax.plot(fc[0],fc[1],':')\n",
    "ax.plot(sc[0], sc[1],':')\n",
    "# Display the real and imaginary axes\n",
    "ax.set_yticks([1e-4], minor=True)\n",
    "ax.yaxis.grid(True, which='minor')\n",
    "ax.set_xticks([1e-4], minor=True)\n",
    "ax.xaxis.grid(True, which='minor')\n",
    "ax.plot(x, y, 'xr')\n",
    "#x = [0.5, 0.5, 0.5, 0.5, 0.5]\n",
    "#y = -np.array([0.5, 0.5, 0.5, 0.5, 0.5])\n",
    "#ax.plot(x, y, 'ob', fillstyle='none')\n",
    "ax.set_xlim([-2,2])\n",
    "ax.set_ylim([-2,2])\n",
    "ax.fill(inf_circ[0],inf_circ[1],facecolor='lightgreen')\n",
    "ax.fill(sc[0],sc[1],facecolor='lightskyblue')\n",
    "ax.fill(fc[0],fc[1],facecolor='lightsalmon')\n",
    "fig.plot(1,1)\n",
    "#fig.plot(n,r,color='blue', linewidth=0.4)\n",
    "plt.show()\n",
    "\n"
   ]
  },
  {
   "cell_type": "code",
   "execution_count": 107,
   "metadata": {},
   "outputs": [],
   "source": [
    "class Region_of_Convergence():\n",
    "    def __init__(self,causal=True,region=1,integer=11):\n",
    "        \n",
    "        self.out = Output(layout={'width': '980px', 'height': '450px'})\n",
    "        self.axs=[]\n",
    "        \n",
    "        #Defining the boolean casual and the region(1:inside, 2:between and 3:outside)\n",
    "        self.causal=causal\n",
    "        self.region=region\n",
    "        \n",
    "        #Defining the integers, always has to be an odd number\n",
    "        n=np.zeros(integer)\n",
    "        for i in range(integer):\n",
    "            n[i]=(integer-1)/2+i\n",
    "            \n",
    "        #Defining the array to store the impulse response\n",
    "        h=np.zeros(integer)\n",
    "        \n",
    "        #Defining the poles\n",
    "        p_x=[0.25,2/3]\n",
    "        p_y=[0,0]\n",
    "        \n",
    "        \n",
    "        # Debug text field\n",
    "        self.tx_deb = self.axs[0].text(-2,0,'')\n",
    "        \n",
    "        #Inizializate the figure\n",
    "        self.init_figure(p_x, p_y)\n",
    "        \n",
    "    def init_figure(self, p_x, p_y):\n",
    "        with self.out:\n",
    "            \n",
    "            # Create the Complex plane plot and small plots for H and h\n",
    "            self.fig = plt.figure(figsize=(8, 4))\n",
    "            self.gs = self.fig.add_gridspec(2, 2)\n",
    "            \n",
    "            self.axs[0]=self.fig.add_subplot(self.gs[:,0])\n",
    "            self.axs[0].set_title(\"Regions of Convergence\")\n",
    "            \n",
    "            self.axs[1]=self.fig.add_subplot(self.gs[0:, -1])\n",
    "            self.axs[1].set_title(\"Z transform\")\n",
    "            \n",
    "            self.axs[2]=self.fig.add_subplot(self.gs[1:, -1])\n",
    "            self.axs[2].set_title(\"Impulse response\")\n",
    "            \n",
    "            #Defining the unit circle and regions\n",
    "            uc = self.draw_circle(1)\n",
    "            fc = self.draw_circle(0.25)\n",
    "            sc = self.draw_circle(2/3)\n",
    "            inf_circ = self.draw_circle(5)\n",
    "            \n",
    "            # Draw the unit circle and regions filled\n",
    "            self.axs[0].plot(uc[0], uc[1], color='black', linewidth='0.5')\n",
    "            self.axs[0].plot(fc[0],fc[1],':')\n",
    "            self.axs[0].plot(sc[0], sc[1],':')\n",
    "            self.axs[0].fill(inf_circ[0],inf_circ[1],facecolor='lightgreen')\n",
    "            self.axs[0].fill(sc[0],sc[1],facecolor='lightskyblue')\n",
    "            self.axs[0].fill(fc[0],fc[1],facecolor='lightsalmon')\n",
    "            #if not self.discrete_mode:\n",
    "                #self.axs[0].lines[0].set_visible(False)\n",
    "                \n",
    "            \n",
    "            # Add zeros and poles\n",
    "            #self.axs[0].plot(z_x, z_y, 'xr', label='Zeros')\n",
    "            self.axs[0].plot(p_x, p_y, 'ob', fillstyle='none', label='Poles')\n",
    "            self.axs[0].set_xlim([-2, 2])\n",
    "            self.axs[0].set_ylim([-2, 2])\n",
    "            \n",
    "            # Display the real and imaginary axes\n",
    "            self.axs[0].set_yticks([1e-4], minor=True)\n",
    "            self.axs[0].yaxis.grid(True, which='minor')\n",
    "            self.axs[0].set_xticks([1e-4], minor=True)\n",
    "            self.axs[0].xaxis.grid(True, which='minor')\n",
    "            self.axs[0].set_title('Regions of convergence')\n",
    "            self.axs[0].set_xlabel('Re')\n",
    "            self.axs[0].set_ylabel('Im')\n",
    "            \n",
    "            # Enable the legend\n",
    "            self.axs[0].legend()  \n",
    "    \n",
    "    def H(z):\n",
    "        return (2/5)/(1-2/(3*z)-(3/20)/(1-1/(4*z)))\n",
    "        \n",
    "    def step_f(self):\n",
    "        if self.causal:\n",
    "            if n<0: return 0.\n",
    "            else: return 1.\n",
    "        else:\n",
    "            if n<0: return 1.\n",
    "            else: return 0.       \n",
    "    \n",
    "    def impulse_resp(self):\n",
    "        if self.region==1:\n",
    "            return (-2/5*(2/3)**n+3/20*(1/4)**n)*self.step_f(False,n)\n",
    "        elif self.region==2:\n",
    "            return (-4/3*(2/3)**n*self.step_f(False,n)-3/20*(1/4)**n*self.step_f(True,n))\n",
    "        else:\n",
    "            return (2/5*(2/3)**n-3/20*(1/4)**n)*self.step_f(True,n)\n",
    "    \n",
    "    def draw_circle(r):\n",
    "        x1 = np.linspace(-r, r, 1000)\n",
    "        y1 = np.sqrt(r**2-x1**2)\n",
    "        x2 = np.linspace(r-r/1000, -r, 1000)\n",
    "        y2 = np.sqrt(r**2-x2**2)\n",
    "        x = np.concatenate([x1, x2])\n",
    "        y = np.concatenate([y1, -y2])\n",
    "        labels = ['-2j', '-1.5j', '-j', '-0.5j', '0', '0.5j', 'j','1.5j','2j']\n",
    "        position=[-2,-1.5,-1,-0.5,0,0.5,1,1.5,2]\n",
    "        plt.yticks(position, labels, rotation='horizontal')\n",
    "        return x, y"
   ]
  },
  {
   "cell_type": "code",
   "execution_count": 108,
   "metadata": {},
   "outputs": [
    {
     "ename": "IndexError",
     "evalue": "list index out of range",
     "output_type": "error",
     "traceback": [
      "\u001b[0;31m---------------------------------------------------------------------------\u001b[0m",
      "\u001b[0;31mIndexError\u001b[0m                                Traceback (most recent call last)",
      "\u001b[0;32m<ipython-input-108-b418832d5f92>\u001b[0m in \u001b[0;36m<module>\u001b[0;34m\u001b[0m\n\u001b[1;32m      1\u001b[0m \u001b[0mplt\u001b[0m\u001b[0;34m.\u001b[0m\u001b[0mclose\u001b[0m\u001b[0;34m(\u001b[0m\u001b[0;34m'all'\u001b[0m\u001b[0;34m)\u001b[0m\u001b[0;34m\u001b[0m\u001b[0;34m\u001b[0m\u001b[0m\n\u001b[0;32m----> 2\u001b[0;31m \u001b[0mroc\u001b[0m\u001b[0;34m=\u001b[0m\u001b[0mRegion_of_Convergence\u001b[0m\u001b[0;34m(\u001b[0m\u001b[0;34m)\u001b[0m\u001b[0;34m\u001b[0m\u001b[0;34m\u001b[0m\u001b[0m\n\u001b[0m",
      "\u001b[0;32m<ipython-input-107-fd5012620735>\u001b[0m in \u001b[0;36m__init__\u001b[0;34m(self, causal, region, integer)\u001b[0m\n\u001b[1;32m     22\u001b[0m \u001b[0;34m\u001b[0m\u001b[0m\n\u001b[1;32m     23\u001b[0m         \u001b[0;31m# Debug text field\u001b[0m\u001b[0;34m\u001b[0m\u001b[0;34m\u001b[0m\u001b[0;34m\u001b[0m\u001b[0m\n\u001b[0;32m---> 24\u001b[0;31m         \u001b[0mself\u001b[0m\u001b[0;34m.\u001b[0m\u001b[0mtx_deb\u001b[0m \u001b[0;34m=\u001b[0m \u001b[0mself\u001b[0m\u001b[0;34m.\u001b[0m\u001b[0maxs\u001b[0m\u001b[0;34m[\u001b[0m\u001b[0;36m0\u001b[0m\u001b[0;34m]\u001b[0m\u001b[0;34m.\u001b[0m\u001b[0mtext\u001b[0m\u001b[0;34m(\u001b[0m\u001b[0;34m-\u001b[0m\u001b[0;36m2\u001b[0m\u001b[0;34m,\u001b[0m\u001b[0;36m0\u001b[0m\u001b[0;34m,\u001b[0m\u001b[0;34m''\u001b[0m\u001b[0;34m)\u001b[0m\u001b[0;34m\u001b[0m\u001b[0;34m\u001b[0m\u001b[0m\n\u001b[0m\u001b[1;32m     25\u001b[0m \u001b[0;34m\u001b[0m\u001b[0m\n\u001b[1;32m     26\u001b[0m         \u001b[0;31m#Inizializate the figure\u001b[0m\u001b[0;34m\u001b[0m\u001b[0;34m\u001b[0m\u001b[0;34m\u001b[0m\u001b[0m\n",
      "\u001b[0;31mIndexError\u001b[0m: list index out of range"
     ]
    }
   ],
   "source": [
    "plt.close('all')\n",
    "roc=Region_of_Convergence()\n"
   ]
  },
  {
   "cell_type": "code",
   "execution_count": 85,
   "metadata": {},
   "outputs": [
    {
     "ename": "IndexError",
     "evalue": "list index out of range",
     "output_type": "error",
     "traceback": [
      "\u001b[0;31m---------------------------------------------------------------------------\u001b[0m",
      "\u001b[0;31mIndexError\u001b[0m                                Traceback (most recent call last)",
      "\u001b[0;32m<ipython-input-85-9b25ab609345>\u001b[0m in \u001b[0;36m<module>\u001b[0;34m\u001b[0m\n\u001b[0;32m----> 1\u001b[0;31m \u001b[0mroc\u001b[0m\u001b[0;34m.\u001b[0m\u001b[0maxs\u001b[0m\u001b[0;34m[\u001b[0m\u001b[0;36m1\u001b[0m\u001b[0;34m]\u001b[0m\u001b[0;34m\u001b[0m\u001b[0;34m\u001b[0m\u001b[0m\n\u001b[0m",
      "\u001b[0;31mIndexError\u001b[0m: list index out of range"
     ]
    }
   ],
   "source": [
    "roc.axs[1]"
   ]
  },
  {
   "cell_type": "code",
   "execution_count": 103,
   "metadata": {},
   "outputs": [
    {
     "data": {
      "application/vnd.jupyter.widget-view+json": {
       "model_id": "4a261225be0f46db9b2fd3ca414727e5",
       "version_major": 2,
       "version_minor": 0
      },
      "text/plain": [
       "Canvas(toolbar=Toolbar(toolitems=[('Home', 'Reset original view', 'home', 'home'), ('Back', 'Back to previous …"
      ]
     },
     "metadata": {},
     "output_type": "display_data"
    },
    {
     "data": {
      "text/plain": [
       "Text(0.5, 1.0, 'gs[1:, -1]')"
      ]
     },
     "execution_count": 103,
     "metadata": {},
     "output_type": "execute_result"
    }
   ],
   "source": [
    "fig3 = plt.figure(figsize=(10, 5),constrained_layout=True)\n",
    "gs = fig3.add_gridspec(2, 2)\n",
    "f3_ax1 = fig3.add_subplot(gs[:, 0])\n",
    "f3_ax1.set_title('gs[0, :]')\n",
    "f3_ax2 = fig3.add_subplot(gs[0:, -1])\n",
    "f3_ax2.set_title('gs[1, :-1]')\n",
    "f3_ax3 = fig3.add_subplot(gs[1:, -1])\n",
    "f3_ax3.set_title('gs[1:, -1]')\n"
   ]
  },
  {
   "cell_type": "code",
   "execution_count": null,
   "metadata": {},
   "outputs": [],
   "source": []
  }
 ],
 "metadata": {
  "kernelspec": {
   "display_name": "Python 3",
   "language": "python",
   "name": "python3"
  },
  "language_info": {
   "codemirror_mode": {
    "name": "ipython",
    "version": 3
   },
   "file_extension": ".py",
   "mimetype": "text/x-python",
   "name": "python",
   "nbconvert_exporter": "python",
   "pygments_lexer": "ipython3",
   "version": "3.8.5"
  }
 },
 "nbformat": 4,
 "nbformat_minor": 4
}
