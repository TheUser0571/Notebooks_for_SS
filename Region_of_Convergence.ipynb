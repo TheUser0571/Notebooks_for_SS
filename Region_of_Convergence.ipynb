{
 "cells": [
  {
   "cell_type": "code",
   "execution_count": 1,
   "metadata": {
    "ExecuteTime": {
     "end_time": "2021-02-21T10:21:29.457879Z",
     "start_time": "2021-02-21T10:21:28.789693Z"
    }
   },
   "outputs": [],
   "source": [
    "import numpy as np\n",
    "import matplotlib.gridspec\n",
    "import matplotlib.pyplot as plt\n",
    "from ipywidgets import interact, fixed, IntSlider, HBox, Layout, Output, VBox\n",
    "import ipywidgets as widgets\n",
    "from scipy import signal\n",
    "\n",
    "%matplotlib widget"
   ]
  },
  {
   "cell_type": "code",
   "execution_count": 2,
   "metadata": {
    "ExecuteTime": {
     "end_time": "2021-02-21T10:21:29.465822Z",
     "start_time": "2021-02-21T10:21:29.458870Z"
    }
   },
   "outputs": [],
   "source": [
    "def draw_circle(r):\n",
    "    x1 = np.linspace(-r, r, 1000)\n",
    "    y1 = np.sqrt(r**2-x1**2)\n",
    "    x2 = np.linspace(r-r/1000, -r, 1000)\n",
    "    y2 = np.sqrt(r**2-x2**2)\n",
    "    x = np.concatenate([x1, x2])\n",
    "    y = np.concatenate([y1, -y2])\n",
    "    labels = ['-2j', '-1.5j', '-j', '-0.5j', '0', '0.5j', 'j','1.5j','2j']\n",
    "    position=[-2,-1.5,-1,-0.5,0,0.5,1,1.5,2]\n",
    "    plt.yticks(position, labels, rotation='horizontal')\n",
    "    return x, y"
   ]
  },
  {
   "cell_type": "code",
   "execution_count": 19,
   "metadata": {
    "ExecuteTime": {
     "end_time": "2021-02-21T10:31:02.884716Z",
     "start_time": "2021-02-21T10:31:02.845902Z"
    }
   },
   "outputs": [
    {
     "data": {
      "application/vnd.jupyter.widget-view+json": {
       "model_id": "4314f5fdcdfb4a9daafe9acd28b13f07",
       "version_major": 2,
       "version_minor": 0
      },
      "text/plain": [
       "Canvas(toolbar=Toolbar(toolitems=[('Home', 'Reset original view', 'home', 'home'), ('Back', 'Back to previous …"
      ]
     },
     "metadata": {},
     "output_type": "display_data"
    }
   ],
   "source": [
    "plt.figure(figsize=(5,5))\n",
    "uc = draw_circle(1)\n",
    "\n",
    "x=[0.25,2/3]\n",
    "y=[0,0]\n",
    "# Pad margins so that markers don't get clipped by the axes\n",
    "#plt.margins(5)\n",
    "# Tweak spacing to prevent clipping of tick-labels\n",
    "#plt.subplots_adjust(bottom=0.5)\n",
    "plt.plot(uc[0], uc[1])\n",
    "plt.plot(x,y)\n",
    "plt.grid()\n",
    "#plt.close('all')\n",
    "plt.show()"
   ]
  },
  {
   "cell_type": "code",
   "execution_count": 26,
   "metadata": {
    "ExecuteTime": {
     "end_time": "2021-02-21T10:33:39.775320Z",
     "start_time": "2021-02-21T10:33:39.725351Z"
    }
   },
   "outputs": [
    {
     "data": {
      "application/vnd.jupyter.widget-view+json": {
       "model_id": "7d00510bd4d041d6a94f610f789b8e24",
       "version_major": 2,
       "version_minor": 0
      },
      "text/plain": [
       "Canvas(toolbar=Toolbar(toolitems=[('Home', 'Reset original view', 'home', 'home'), ('Back', 'Back to previous …"
      ]
     },
     "metadata": {},
     "output_type": "display_data"
    }
   ],
   "source": [
    "plt.close('all')\n",
    "fig, ax = plt.subplots(figsize=(5,5))\n",
    "uc = draw_circle(1)\n",
    "fc = draw_circle(0.25)\n",
    "sc = draw_circle(2/3)\n",
    "inf_circ = draw_circle(5)\n",
    "ax.plot(uc[0],uc[1], color='black', linewidth=0.5)\n",
    "ax.plot(fc[0],fc[1],':')\n",
    "ax.plot(sc[0], sc[1],':')\n",
    "# Display the real and imaginary axes\n",
    "ax.set_yticks([1e-4], minor=True)\n",
    "ax.yaxis.grid(True, which='minor')\n",
    "ax.set_xticks([1e-4], minor=True)\n",
    "ax.xaxis.grid(True, which='minor')\n",
    "ax.plot(x, y, 'xr')\n",
    "#x = [0.5, 0.5, 0.5, 0.5, 0.5]\n",
    "#y = -np.array([0.5, 0.5, 0.5, 0.5, 0.5])\n",
    "#ax.plot(x, y, 'ob', fillstyle='none')\n",
    "ax.set_xlim([-2,2])\n",
    "ax.set_ylim([-2,2])\n",
    "ax.fill(inf_circ[0],inf_circ[1],facecolor='lightgreen')\n",
    "ax.fill(sc[0],sc[1],facecolor='lightskyblue')\n",
    "ax.fill(fc[0],fc[1],facecolor='lightsalmon')\n",
    "plt.show()"
   ]
  },
  {
   "cell_type": "code",
   "execution_count": null,
   "metadata": {},
   "outputs": [],
   "source": []
  }
 ],
 "metadata": {
  "kernelspec": {
   "display_name": "Python 3",
   "language": "python",
   "name": "python3"
  },
  "language_info": {
   "codemirror_mode": {
    "name": "ipython",
    "version": 3
   },
   "file_extension": ".py",
   "mimetype": "text/x-python",
   "name": "python",
   "nbconvert_exporter": "python",
   "pygments_lexer": "ipython3",
   "version": "3.7.9"
  }
 },
 "nbformat": 4,
 "nbformat_minor": 4
}
