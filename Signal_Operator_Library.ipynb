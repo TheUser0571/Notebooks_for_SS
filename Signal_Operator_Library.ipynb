{
 "cells": [
  {
   "cell_type": "code",
   "execution_count": 1,
   "id": "flexible-packet",
   "metadata": {},
   "outputs": [],
   "source": [
    "import numpy as np\n",
    "import matplotlib.pyplot as plt\n",
    "import warnings"
   ]
  },
  {
   "cell_type": "code",
   "execution_count": 148,
   "id": "middle-merit",
   "metadata": {},
   "outputs": [],
   "source": [
    "class discrete:\n",
    "    # Elementary signal definition\n",
    "    #########################################\n",
    "    \n",
    "    # Kronecker impulsion\n",
    "    def kronecker_imp(n):\n",
    "        assert np.all(np.array(n, dtype=int) == n), 'kronecker_imp: n sould be an integer or an array of integers.'\n",
    "        return np.where(n == 0, 1, 0)\n",
    "        \n",
    "    # Unit jump\n",
    "    def unit_jump(n):\n",
    "        assert np.all(np.array(n, dtype=int) == n), 'unit_jump: n sould be an integer or an array of integers.'\n",
    "        return np.where(n >= 0, 1, 0)\n",
    "     \n",
    "    # Causal polynomial of degree N>=1. N\n",
    "    # is the degree and n is the value to evaluate the polynomial\n",
    "    def causal_poly(n, N):\n",
    "        # Check input parameters\n",
    "        assert np.all(np.array(n, dtype=int) == n), 'causal_poly: n sould be an integer or an array of integers.'\n",
    "        assert int(N) == N, 'causalpol: The provided polynomial degree is not an integer.'\n",
    "        assert N >= 1, 'causalpol: The polynomial degree should be bigger than 0.'\n",
    "        N = int(N)\n",
    "        # Construct plynomial array where each row corresponds to an n value and each column corresponds to an N value\n",
    "        A = np.zeros((len(n), N))\n",
    "        A[:][n>=0] = np.linspace(1, N, N)\n",
    "        A.T[:, n>=0] += n[n>=0]\n",
    "        # Calculate product over rows and normalize\n",
    "        return np.prod(A, axis=1) / np.math.factorial(N)\n",
    "    \n",
    "    # Rectangular signal\n",
    "    def rect_signal(n, n1, n2):\n",
    "        assert np.all(np.array(n, dtype=int) == n), 'rect_signal: n sould be an integer or an array of integers.'\n",
    "        return np.where(np.logical_and(n>=n1, n<=n2), 1, 0)\n",
    "        \n",
    "    # Complex exponential\n",
    "    def complex_exp(n, w0):\n",
    "        assert np.all(np.array(n, dtype=int) == n), 'complex_exp: n sould be an integer or an array of integers.'\n",
    "        assert type(w0) != complex, 'complex_exp: w0 should be a real number.'\n",
    "        return np.exp(1j * w0 * n)\n",
    "    \n",
    "    # Cosine\n",
    "    def cos(n, w0=1, degrees=False):\n",
    "        assert np.all(np.array(n, dtype=int) == n), 'cos: n sould be an integer or an array of integers.'\n",
    "        assert type(w0) != complex, 'cos: w0 should be a real number.'\n",
    "        if degrees:\n",
    "            n = n * np.pi / 180\n",
    "        return np.cos(w0 * n)\n",
    "    \n",
    "    # Sine\n",
    "    def sin(n, w0=1, degrees=False):\n",
    "        assert np.all(np.array(n, dtype=int) == n), 'sin: n sould be an integer or an array of integers.'\n",
    "        assert type(w0) != complex, 'sin: w0 should be a real number.'\n",
    "        if degrees:\n",
    "            n = n * np.pi / 180\n",
    "        return np.sin(w0 * n)\n",
    "    \n",
    "    #Discrete signal transformations/operations\n",
    "    ####################################################\n",
    "    \n",
    "    #Discrete convolution. First argument: array of length N. Second argument: array of lenght M\n",
    "    #Third argument, mode:\n",
    "        #1) \"full\", it returns the convolution at each point of overlap, with an output shape of N+M-1. \n",
    "        #At the end-points of the convolution, the signals do not overlap completely, and boundary effects may be seen\n",
    "        #2) \"same\" returns output of length max(M, N). Boundary effects are still visible.\n",
    "        #3) \"valid\" returns output of length max(M, N) - min(M, N) + 1. The convolution product is only given for points where the signals overlap completely. \n",
    "        #Values outside the signal boundary have no effect.\n",
    "    def convolve(f, g, mode='full'):\n",
    "        return np.convolve(f, g, mode=mode)\n",
    "    \n",
    "    #Circular convolution. Use of the convolution theorem to perform a circular convolution\n",
    "    #The two arrays must have the same length N and be N-periodic\n",
    "    def convolve_circ(f, g):\n",
    "        assert len(f)==len(g), 'convolve_circ: f and g should have the same length.'\n",
    "        return np.real(np.fft.fftshift(np.fft.ifft( np.fft.fft(f)*np.fft.fft(g))))\n",
    "    \n",
    "    # Calculates the z transform and evaluates it at z\n",
    "    def z_transform(h, z, n=None):\n",
    "        # Checking input params\n",
    "        if n is None or len(h) != len(n):\n",
    "            warnings.warn('z_transform: length of n is not the same as h, assuming h starts at time 0.')\n",
    "            n = np.linspace(0, len(h)-1, len(h))\n",
    "        else:\n",
    "            assert np.all(np.array(n, dtype=int) == n), 'z_transform: n sould be an integer or an array of integers.'\n",
    "        # Construct array of z^-n where each row corresponds to a z value and each column corresponds to a n value\n",
    "        A = np.fromfunction(lambda i, j: z[i.astype(int)]**(-n[j.astype(int)]), shape=(len(z), len(n)))\n",
    "        # Calculate sum over all n for each z\n",
    "        return np.dot(A, h)\n",
    "    \n",
    "    # Calculates the DTFT and evaluates it at w\n",
    "    def DTFT(h, w, n=None):\n",
    "        # Checking input params\n",
    "        if n is None or len(h) != len(n):\n",
    "            warnings.warn('DTFT: length of n is not the same as h, assuming h starts at time 0.')\n",
    "            n = np.linspace(0, len(h)-1, len(h))\n",
    "        else:\n",
    "            assert np.all(np.array(n, dtype=int) == n), 'DTFT: n sould be an integer or an array of integers.'\n",
    "        # Construct array of e^-jwn where each row corresponds to a w value and each column corresponds to a n value\n",
    "        A = np.fromfunction(lambda i, j: np.exp(-1j*w[i.astype(int)]*n[j.astype(int)]), shape=(len(w), len(n)))\n",
    "        # Calculate sum over all n for each w\n",
    "        return np.dot(A, h)\n",
    "    \n",
    "    def DFT(h, m, N=None):\n",
    "        # Check input params\n",
    "        assert np.all(np.array(m, dtype=int) == m), 'DFT: m sould be an integer or an array of integers.'\n",
    "        if N is None:\n",
    "            warnings.warn('DFT: N not specified, assuming N is the length of h.')\n",
    "            N = len(h)\n",
    "        else:\n",
    "            assert int(N)==N, 'DFT: N sould be an integer number.'\n",
    "        n = np.linspace(0, N-1, N)\n",
    "        # Construct array of e^-jwn where each row corresponds to a w value and each column corresponds to a n value\n",
    "        A = np.fromfunction(lambda i, j: np.exp(-1j*m[i.astype(int)]*2*np.pi*n[j.astype(int)]/N), shape=(len(m), N))\n",
    "        # Calculate sum over all n (0 to N-1) for each m\n",
    "        return np.dot(A, h[:N])\n",
    "    \n",
    "    def shift(h, k, periodic=False):\n",
    "        assert int(k)==k, 'shift: k sould be an integer number.'\n",
    "        out = np.zeros((len(h),))\n",
    "        if k > 0:\n",
    "            out[:-k] = h[k:]\n",
    "            if periodic:\n",
    "                out[-k:] = h[:k]\n",
    "        else:\n",
    "            out[-k:] = h[:k]\n",
    "            if periodic:\n",
    "                out[:-k] = h[k:]\n",
    "        return out\n",
    "        "
   ]
  },
  {
   "cell_type": "code",
   "execution_count": 149,
   "id": "cordless-advertising",
   "metadata": {},
   "outputs": [
    {
     "data": {
      "text/plain": [
       "False"
      ]
     },
     "execution_count": 149,
     "metadata": {},
     "output_type": "execute_result"
    }
   ],
   "source": [
    "a = [1.2, 2, 3]\n",
    "np.all(np.array(a, dtype=int) == a)"
   ]
  },
  {
   "cell_type": "code",
   "execution_count": 158,
   "id": "municipal-hampton",
   "metadata": {},
   "outputs": [],
   "source": [
    "m = np.linspace(0, 49, 50)\n",
    "n = np.linspace(0, 50, 51)\n",
    "h = discrete.rect_signal(n, 20, 30)\n",
    "sig = discrete.shift(h, 30, periodic=True)"
   ]
  },
  {
   "cell_type": "code",
   "execution_count": 159,
   "id": "special-gauge",
   "metadata": {},
   "outputs": [
    {
     "data": {
      "image/png": "[encoded data removed]",
      "text/plain": [
       "<Figure size 1080x576 with 4 Axes>"
      ]
     },
     "metadata": {
      "needs_background": "light"
     },
     "output_type": "display_data"
    }
   ],
   "source": [
    "plt.close('all')\n",
    "plt.figure(figsize=(15, 8))\n",
    "plt.subplot(221)\n",
    "plt.plot(h, '-o')\n",
    "plt.subplot(222)\n",
    "plt.plot(sig, '-o')\n",
    "plt.subplot(223)\n",
    "plt.plot(np.abs(sig), '-o')\n",
    "plt.subplot(224)\n",
    "plt.show()"
   ]
  }
 ],
 "metadata": {
  "kernelspec": {
   "display_name": "Python 3",
   "language": "python",
   "name": "python3"
  },
  "language_info": {
   "codemirror_mode": {
    "name": "ipython",
    "version": 3
   },
   "file_extension": ".py",
   "mimetype": "text/x-python",
   "name": "python",
   "nbconvert_exporter": "python",
   "pygments_lexer": "ipython3",
   "version": "3.7.9"
  }
 },
 "nbformat": 4,
 "nbformat_minor": 5
}
