{
 "cells": [
  {
   "cell_type": "code",
   "execution_count": 1,
   "metadata": {},
   "outputs": [
    {
     "data": {
      "image/png": "[encoded data removed]",
      "text/plain": [
       "<Figure size 432x288 with 1 Axes>"
      ]
     },
     "metadata": {
      "needs_background": "light"
     },
     "output_type": "display_data"
    },
    {
     "data": {
      "text/plain": [
       "<Figure size 720x360 with 0 Axes>"
      ]
     },
     "metadata": {},
     "output_type": "display_data"
    },
    {
     "name": "stdout",
     "output_type": "stream",
     "text": [
      "41\n"
     ]
    }
   ],
   "source": [
    "import numpy as np\n",
    "from scipy.interpolate import interp1d\n",
    "\n",
    "\n",
    "x = np.linspace(0, 10, num=11, endpoint=True)\n",
    "y = np.cos(-x**2/9.0)\n",
    "f = interp1d(x, y)\n",
    "f2 = interp1d(x, y, kind='cubic')\n",
    "\n",
    "\n",
    "xnew = np.linspace(0, 10, num=41, endpoint=True)\n",
    "import matplotlib.pyplot as plt\n",
    "plt.plot(x, y, 'o', xnew, f(xnew), '-', xnew, f2(xnew), '--')\n",
    "plt.legend(['data', 'linear', 'cubic'], loc='best')\n",
    "plt.figure(figsize=(10,5))\n",
    "plt.show()\n",
    "\n",
    "print(len(xnew))\n"
   ]
  },
  {
   "cell_type": "code",
   "execution_count": 2,
   "metadata": {},
   "outputs": [
    {
     "data": {
      "text/plain": [
       "[<matplotlib.lines.Line2D at 0x7fcd39cc8280>]"
      ]
     },
     "execution_count": 2,
     "metadata": {},
     "output_type": "execute_result"
    },
    {
     "data": {
      "image/png": "[encoded data removed]",
      "text/plain": [
       "<Figure size 432x288 with 1 Axes>"
      ]
     },
     "metadata": {
      "needs_background": "light"
     },
     "output_type": "display_data"
    }
   ],
   "source": [
    "a = np.linspace(0,10,num=11, endpoint=True)\n",
    "b = np.array([0,1,1,0,2,1,2,0,1,0,1])\n",
    "\n",
    "plt.plot(a,b,\"o\")"
   ]
  },
  {
   "cell_type": "code",
   "execution_count": 3,
   "metadata": {},
   "outputs": [
    {
     "data": {
      "application/vnd.jupyter.widget-view+json": {
       "model_id": "196f475d1dca43a5844d236c76982403",
       "version_major": 2,
       "version_minor": 0
      },
      "text/plain": [
       "Canvas(toolbar=Toolbar(toolitems=[('Home', 'Reset original view', 'home', 'home'), ('Back', 'Back to previous …"
      ]
     },
     "metadata": {},
     "output_type": "display_data"
    },
    {
     "data": {
      "text/plain": [
       "[<matplotlib.lines.Line2D at 0x7fcd33c23730>]"
      ]
     },
     "execution_count": 3,
     "metadata": {},
     "output_type": "execute_result"
    }
   ],
   "source": [
    "from scipy import signal\n",
    "%matplotlib widget\n",
    "\n",
    "plt.plot(a, signal.square(b), \"o\")"
   ]
  },
  {
   "cell_type": "code",
   "execution_count": 11,
   "metadata": {},
   "outputs": [
    {
     "data": {
      "application/vnd.jupyter.widget-view+json": {
       "model_id": "291a49bd48414fdeae7e0e460c489288",
       "version_major": 2,
       "version_minor": 0
      },
      "text/plain": [
       "Canvas(toolbar=Toolbar(toolitems=[('Home', 'Reset original view', 'home', 'home'), ('Back', 'Back to previous …"
      ]
     },
     "metadata": {},
     "output_type": "display_data"
    }
   ],
   "source": [
    "from scipy.interpolate import interp1d\n",
    "\n",
    "x = np.linspace(0, 10, num=11, endpoint=True)\n",
    "y = np.array([0,1,1,0,2,1,2,0,1,0,1])\n",
    "\n",
    "f1 = interp1d(x, y, kind='nearest')\n",
    "#f2 = interp1d(x, y, kind='previous')\n",
    "#f3 = interp1d(x, y, kind='next')\n",
    "\n",
    "\n",
    "xnew = np.linspace(0, 10, num=1001, endpoint=True)\n",
    "import matplotlib.pyplot as plt\n",
    "plt.figure(figsize=(8,4))\n",
    "plt.plot(x, y, 'o')\n",
    "plt.plot(xnew, f1(xnew), '-')\n",
    "plt.legend(['data', 'nearest', 'previous', 'next'], loc='best')\n",
    "plt.show()\n",
    "\n"
   ]
  },
  {
   "cell_type": "code",
   "execution_count": 6,
   "metadata": {},
   "outputs": [
    {
     "data": {
      "text/plain": [
       "100"
      ]
     },
     "execution_count": 6,
     "metadata": {},
     "output_type": "execute_result"
    }
   ],
   "source": [
    "a = np.linspace(-1, 1, num=100, endpoint= True)\n",
    "len(a)"
   ]
  },
  {
   "cell_type": "code",
   "execution_count": 7,
   "metadata": {},
   "outputs": [],
   "source": [
    "import numpy as np\n",
    "import matplotlib.gridspec\n",
    "import matplotlib.pyplot as plt\n",
    "from ipywidgets import interact, fixed, IntSlider, HBox, Layout, Output, VBox\n",
    "import ipywidgets as widgets\n",
    "from scipy import signal\n",
    "from scipy.interpolate import interp1d\n",
    "\n",
    "%matplotlib widget"
   ]
  },
  {
   "cell_type": "code",
   "execution_count": 36,
   "metadata": {},
   "outputs": [],
   "source": [
    "class Interpolation():\n",
    "    \n",
    "    def __init__(self):\n",
    "        self.out = Output(layout={'width': '980px', 'height': '500px'})\n",
    "        self.axs = []\n",
    "        \n",
    "        \n",
    "        # Interpolation function type\n",
    "        self.interp_funct_types = {'rect':0, 'tri':1, 'quadratic spline':2, 'cubic spline':3, 'sinc':4}\n",
    "        \n",
    "        #self.funct returns the string of above that is chosen. I'll use it later for the type of interpolation\n",
    "        self.funct = list(self.interp_funct_types.keys())[0]\n",
    "        self.funct_idx = self.interp_funct_types[self.funct]\n",
    "        \n",
    "        #Here I define the array to draw the interpolating function\n",
    "        self.interp_f_x = np.linspace(-1,1,num=201, endpoint=True)\n",
    "        self.interp_f_y = np.zeros(201)\n",
    "        #self.interp_f_y = np.cos(self.interp_f_y)\n",
    "        \n",
    "        # Dropdown menu to select interpolation function type \n",
    "        self.funct_menu = widgets.Dropdown(options=self.interp_funct_types.keys(), value=self.funct, \n",
    "                                            description=\"Choisir fonction d'interpolation:\", layout=Layout(width='max-content'))\n",
    "        self.funct_menu.observe(self.menu_callback, names='value')\n",
    "        \n",
    "        #self.x_funct = np.linspace(0, 10, num= 1000, endpoint=True)\n",
    "        #self.y_funct = np.sin(self.x_funct)\n",
    "        self.x = np.linspace(0, 20, num=201, endpoint=True)\n",
    "        self.y = np.sin(self.x)\n",
    "        self.x_val = np.linspace(0, 20, num=21, endpoint=True)\n",
    "        self.y_val = np.sin(self.x_val)\n",
    "        self.x_interp = np.linspace(0, 20, num=201, endpoint=True)\n",
    "        self.y_interp = np.zeros(201)\n",
    "        #self.f = interp1d(self.x, self.y, kind='nearest')\n",
    "        #self.y_interp = self.f(self.x_interp)\n",
    "        \n",
    "        #For the interpolation function\n",
    "        #self.functx = np.linspace(-1, 1, num=100, endpoint= True)\n",
    "        #self.functy = np.full(shape=100, fill_value=1, dtype=np.int)\n",
    "        \n",
    "        self.init_figure()\n",
    "        #plt.show()\n",
    "        \n",
    "        display(VBox([self.out,]),VBox([self.funct_menu]))\n",
    "        plt.tight_layout(pad=0.1, w_pad=1.0, h_pad=0.1)\n",
    "        \n",
    "\n",
    "    \n",
    "    \n",
    "    def init_figure(self):\n",
    "        with self.out:\n",
    "            self.fig = plt.figure(constrained_layout=False)\n",
    "            self.gs = self.fig.add_gridspec(2,2)\n",
    "    \n",
    "            #Plot the interpolating function\n",
    "            self.axs.append(self.fig.add_subplot(self.gs[:1, -1]))\n",
    "            self.axs[0].set_title(\"Interpolating function\")\n",
    "            self.axs[0].set_yticks([1e-4], minor=True)\n",
    "            self.axs[0].yaxis.grid(True, which='minor',\n",
    "                                   color='black', linewidth='0.5')\n",
    "            self.axs[0].set_xticks([1e-4], minor=True)\n",
    "            self.axs[0].xaxis.grid(True, which='minor',\n",
    "                                   color='black', linewidth='0.5')\n",
    "            self.axs[0].set_xlabel(\"t[s]\")\n",
    "            position = [-2, -1, 0, 1, 2]\n",
    "            self.axs[0].set_xticks(position)\n",
    "            #self.axs[0].plot(self.interp_f_x, self.interp_f_y, color='blue', linewidth=0.2)\n",
    "            self.update_interp_f(init=True)\n",
    "            #Plot the signal interpolated\n",
    "           \n",
    "            self.axs.append(self.fig.add_subplot(self.gs[1,:]))\n",
    "            self.axs[1].set_title(\"Interpolation\")\n",
    "            self.axs[1].plot(self.x, self.y, '--')\n",
    "            self.axs[1].plot(self.x_interp, self.interpolation(), '-')\n",
    "            self.axs[1].plot(self.x_val, self.y_val, 'or')\n",
    "        \n",
    "    def interpolation(self):\n",
    "        if(self.funct_idx==0):\n",
    "            f = interp1d(self.x_val, self.y_val, kind=\"nearest\")\n",
    "            return f(self.x_interp)\n",
    "        if(self.funct_idx==1): \n",
    "            f = interp1d(self.x_val, self.y_val, kind=\"linear\")\n",
    "            return f(self.x_interp)\n",
    "        if(self.funct_idx==2): \n",
    "            f = interp1d(self.x_val, self.y_val, kind=\"quadratic\")\n",
    "            return f(self.x_interp)\n",
    "        if(self.funct_idx==3): \n",
    "            f = interp1d(self.x_val, self.y_val, kind=\"cubic\")\n",
    "            return f(self.x_interp)\n",
    "        \n",
    "    \n",
    "    def menu_callback(self, value):\n",
    "        self.funct = value['new']\n",
    "        self.funct_idx = self.interp_funct_types[self.funct]\n",
    "        self.update_interp_f()\n",
    "        self.axs[1].lines[1].set_data(self.x_interp, self.interpolation())\n",
    "        \n",
    "     \n",
    "        #self.update_filter()\n",
    "        \n",
    "    #Definition of the rect function\n",
    "    def rect(val):\n",
    "        return np.where(np.abs(val)<=0.5, 1, 0)\n",
    "    \n",
    "    #Definition of the linear spline function\n",
    "    def tri(self,x):\n",
    "        if(x>=-1. and x<0.): return(x+1.)\n",
    "        elif(x>=0. and x<=1.): return(-x+1.)\n",
    "        else: return 0.\n",
    "        \n",
    "    def quadratic_spline(self,x):\n",
    "        return x**2\n",
    "            \n",
    "    def cubic_spline(self,x):\n",
    "        return x**3\n",
    "    \n",
    "    def sinc(self, x):\n",
    "        return np.sinc(x)\n",
    "    \n",
    "    #Function to update the interpolation function, so it changes the interpolation function plot and the\n",
    "    #interpolation plot\n",
    "    def update_interp_f(self, init=False):\n",
    "       \n",
    "        if(self.funct_idx==0):\n",
    "            y = np.where(np.abs(self.interp_f_x)<=0.5, 1, 0)\n",
    "        \n",
    "        if(self.funct_idx==1):\n",
    "            y = np.where(self.interp_f_x <=0, self.interp_f_x+1, 1-self.interp_f_x)\n",
    "            \n",
    "        if(self.funct_idx==2):\n",
    "            y = list(map(self.quadratic_spline,self.interp_f_x))\n",
    "            \n",
    "        if(self.funct_idx==3):\n",
    "            y = list(map(self.cubic_spline,self.interp_f_x))\n",
    "            \n",
    "        if(self.funct_idx==4):\n",
    "            y = list(map(self.sinc,self.interp_f_x))\n",
    "        if init:\n",
    "            self.axs[0].plot(self.interp_f_x, y, color='blue', linewidth=0.5)\n",
    "        else:\n",
    "            self.axs[0].lines[0].set_data(self.interp_f_x, y)\n",
    "        \n",
    "            \n",
    "        \n",
    "        \n",
    "        "
   ]
  },
  {
   "cell_type": "code",
   "execution_count": 37,
   "metadata": {},
   "outputs": [
    {
     "data": {
      "application/vnd.jupyter.widget-view+json": {
       "model_id": "0cc002eaea9e4adf8a78726dc7c167cc",
       "version_major": 2,
       "version_minor": 0
      },
      "text/plain": [
       "VBox(children=(Output(layout=Layout(height='500px', width='980px')),))"
      ]
     },
     "metadata": {},
     "output_type": "display_data"
    },
    {
     "data": {
      "application/vnd.jupyter.widget-view+json": {
       "model_id": "5cd47fc0269b494ca93da317ba84eb10",
       "version_major": 2,
       "version_minor": 0
      },
      "text/plain": [
       "VBox(children=(Dropdown(description=\"Choisir fonction d'interpolation:\", layout=Layout(width='max-content'), o…"
      ]
     },
     "metadata": {},
     "output_type": "display_data"
    }
   ],
   "source": [
    "plt.close(\"all\")\n",
    "interp = Interpolation()"
   ]
  },
  {
   "cell_type": "code",
   "execution_count": 26,
   "metadata": {},
   "outputs": [],
   "source": [
    "interp.axs[0].lines[0].set_data(np.linspace(-1, 1, 201), np.ones(201)*0.5)"
   ]
  },
  {
   "cell_type": "code",
   "execution_count": null,
   "metadata": {},
   "outputs": [],
   "source": [
    "fig3 = plt.figure(constrained_layout=True)\n",
    "gs = fig3.add_gridspec(2, 2)\n",
    "f3_ax1 = fig3.add_subplot(gs[0, :])\n",
    "f3_ax1.set_title('gs[0, :]')\n",
    "f3_ax2 = fig3.add_subplot(gs[1, :-1])\n",
    "f3_ax2.set_title('gs[1, :-1]')\n",
    "f3_ax3 = fig3.add_subplot(gs[1:, -1])\n",
    "f3_ax3.set_title('gs[1:, -1]')\n"
   ]
  },
  {
   "cell_type": "code",
   "execution_count": null,
   "metadata": {},
   "outputs": [],
   "source": [
    "def tri(x):\n",
    "    if(x>=-1. and x<0.): return(x+1.)\n",
    "    elif(x>=0. and x<=1.): return(-x+1.)\n",
    "    else: return 0."
   ]
  },
  {
   "cell_type": "code",
   "execution_count": null,
   "metadata": {},
   "outputs": [],
   "source": [
    "interp_f_x = np.linspace(-2,2,num=205, endpoint=True)\n",
    "interp_f_y = np.zeros(205)"
   ]
  },
  {
   "cell_type": "code",
   "execution_count": null,
   "metadata": {},
   "outputs": [],
   "source": [
    "interp_f_y=np.array(list(map(tri,interp_f_x)))"
   ]
  },
  {
   "cell_type": "code",
   "execution_count": null,
   "metadata": {},
   "outputs": [],
   "source": [
    "interp_f_y"
   ]
  },
  {
   "cell_type": "code",
   "execution_count": null,
   "metadata": {},
   "outputs": [],
   "source": []
  }
 ],
 "metadata": {
  "kernelspec": {
   "display_name": "Python 3",
   "language": "python",
   "name": "python3"
  },
  "language_info": {
   "codemirror_mode": {
    "name": "ipython",
    "version": 3
   },
   "file_extension": ".py",
   "mimetype": "text/x-python",
   "name": "python",
   "nbconvert_exporter": "python",
   "pygments_lexer": "ipython3",
   "version": "3.8.5"
  }
 },
 "nbformat": 4,
 "nbformat_minor": 4
}
