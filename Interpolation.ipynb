{
 "cells": [
  {
   "cell_type": "code",
   "execution_count": 1,
   "metadata": {},
   "outputs": [
    {
     "data": {
      "image/png": "[encoded data removed]",
      "text/plain": [
       "<Figure size 432x288 with 1 Axes>"
      ]
     },
     "metadata": {
      "needs_background": "light"
     },
     "output_type": "display_data"
    },
    {
     "data": {
      "text/plain": [
       "<Figure size 720x360 with 0 Axes>"
      ]
     },
     "metadata": {},
     "output_type": "display_data"
    },
    {
     "name": "stdout",
     "output_type": "stream",
     "text": [
      "41\n"
     ]
    }
   ],
   "source": [
    "import numpy as np\n",
    "from scipy.interpolate import interp1d\n",
    "\n",
    "\n",
    "x = np.linspace(0, 10, num=11, endpoint=True)\n",
    "y = np.cos(-x**2/9.0)\n",
    "f = interp1d(x, y)\n",
    "f2 = interp1d(x, y, kind='cubic')\n",
    "\n",
    "\n",
    "xnew = np.linspace(0, 10, num=41, endpoint=True)\n",
    "import matplotlib.pyplot as plt\n",
    "plt.plot(x, y, 'o', xnew, f(xnew), '-', xnew, f2(xnew), '--')\n",
    "plt.legend(['data', 'linear', 'cubic'], loc='best')\n",
    "plt.figure(figsize=(10,5))\n",
    "plt.show()\n",
    "\n",
    "print(len(xnew))\n"
   ]
  },
  {
   "cell_type": "code",
   "execution_count": 2,
   "metadata": {},
   "outputs": [
    {
     "data": {
      "text/plain": [
       "[<matplotlib.lines.Line2D at 0x7f30c763ca00>]"
      ]
     },
     "execution_count": 2,
     "metadata": {},
     "output_type": "execute_result"
    },
    {
     "data": {
      "image/png": "[encoded data removed]",
      "text/plain": [
       "<Figure size 432x288 with 1 Axes>"
      ]
     },
     "metadata": {
      "needs_background": "light"
     },
     "output_type": "display_data"
    }
   ],
   "source": [
    "a = np.linspace(0,10,num=11, endpoint=True)\n",
    "b = np.array([0,1,1,0,2,1,2,0,1,0,1])\n",
    "\n",
    "plt.plot(a,b,\"o\")"
   ]
  },
  {
   "cell_type": "code",
   "execution_count": 3,
   "metadata": {},
   "outputs": [
    {
     "data": {
      "application/vnd.jupyter.widget-view+json": {
       "model_id": "8e43780244474a9d8b5ac40d3038fc05",
       "version_major": 2,
       "version_minor": 0
      },
      "text/plain": [
       "Canvas(toolbar=Toolbar(toolitems=[('Home', 'Reset original view', 'home', 'home'), ('Back', 'Back to previous …"
      ]
     },
     "metadata": {},
     "output_type": "display_data"
    },
    {
     "data": {
      "text/plain": [
       "[<matplotlib.lines.Line2D at 0x7f30c6981130>]"
      ]
     },
     "execution_count": 3,
     "metadata": {},
     "output_type": "execute_result"
    }
   ],
   "source": [
    "from scipy import signal\n",
    "%matplotlib widget\n",
    "\n",
    "plt.plot(a, signal.square(b), \"o\")"
   ]
  },
  {
   "cell_type": "code",
   "execution_count": 4,
   "metadata": {},
   "outputs": [
    {
     "data": {
      "application/vnd.jupyter.widget-view+json": {
       "model_id": "7137f9a7d7ce4f75830785f4d735c760",
       "version_major": 2,
       "version_minor": 0
      },
      "text/plain": [
       "Canvas(toolbar=Toolbar(toolitems=[('Home', 'Reset original view', 'home', 'home'), ('Back', 'Back to previous …"
      ]
     },
     "metadata": {},
     "output_type": "display_data"
    }
   ],
   "source": [
    "from scipy.interpolate import interp1d\n",
    "\n",
    "x = np.linspace(0, 10, num=11, endpoint=True)\n",
    "y = np.array([0,1,1,0,2,1,2,0,1,0,1])\n",
    "\n",
    "f1 = interp1d(x, y, kind='nearest')\n",
    "#f2 = interp1d(x, y, kind='previous')\n",
    "#f3 = interp1d(x, y, kind='next')\n",
    "\n",
    "\n",
    "xnew = np.linspace(0, 10, num=1001, endpoint=True)\n",
    "import matplotlib.pyplot as plt\n",
    "plt.figure(figsize=(8,4))\n",
    "plt.plot(x, y, 'o')\n",
    "plt.plot(xnew, f1(xnew), '-')\n",
    "plt.legend(['data', 'nearest', 'previous', 'next'], loc='best')\n",
    "plt.show()\n",
    "\n"
   ]
  },
  {
   "cell_type": "code",
   "execution_count": 5,
   "metadata": {},
   "outputs": [
    {
     "data": {
      "text/plain": [
       "100"
      ]
     },
     "execution_count": 5,
     "metadata": {},
     "output_type": "execute_result"
    }
   ],
   "source": [
    "a = np.linspace(-1, 1, num=100, endpoint= True)\n",
    "len(a)"
   ]
  },
  {
   "cell_type": "code",
   "execution_count": 6,
   "metadata": {},
   "outputs": [],
   "source": [
    "import numpy as np\n",
    "import matplotlib.gridspec\n",
    "import matplotlib.pyplot as plt\n",
    "from ipywidgets import interact, fixed, IntSlider, HBox, Layout, Output, VBox\n",
    "import ipywidgets as widgets\n",
    "from scipy import signal\n",
    "from scipy.interpolate import interp1d\n",
    "\n",
    "%matplotlib widget"
   ]
  },
  {
   "cell_type": "code",
   "execution_count": 41,
   "metadata": {},
   "outputs": [],
   "source": [
    "class Interpolation():\n",
    "    \n",
    "    def __init__(self):\n",
    "        self.out = Output(layout={'width': '980px', 'height': '500px'})\n",
    "        self.axs = []\n",
    "        \n",
    "        \n",
    "        # Interpolation function type\n",
    "        self.interp_funct_types = {'rect':0, 'tri':1, 'quadratic spline':2, 'cubic spline':3, 'sinc':4}\n",
    "        \n",
    "        #self.funct returns the string of above that is chosen. I'll use it later for the type of interpolation\n",
    "        self.funct = list(self.interp_funct_types.keys())[0]\n",
    "        self.funct_idx = self.interp_funct_types[self.funct]\n",
    "        \n",
    "        #Here I define the array to draw the interpolating function\n",
    "        self.interp_f_x = np.linspace(-5,5,num=1001, endpoint=True)\n",
    "        self.interp_f_y = np.zeros(1001)\n",
    "        #self.interp_f_y = np.cos(self.interp_f_y)\n",
    "        \n",
    "        # Dropdown menu to select interpolation function type \n",
    "        self.funct_menu = widgets.Dropdown(options=self.interp_funct_types.keys(), value=self.funct, \n",
    "                                            description=\"Choisir fonction d'interpolation:\", layout=Layout(width='max-content'))\n",
    "        self.funct_menu.observe(self.menu_callback, names='value')\n",
    "        \n",
    "        \n",
    "        #self.x_funct = np.linspace(0, 10, num= 1000, endpoint=True)\n",
    "        #self.y_funct = np.sin(self.x_funct)\n",
    "        self.x = np.linspace(0, 20, num=201, endpoint=True)\n",
    "        self.y = np.sin(self.x)\n",
    "        self.x_val = np.linspace(0, 20, num=21, endpoint=True)\n",
    "        self.y_val = np.sin(self.x_val)\n",
    "        self.x_interp = np.linspace(0, 20, num=201, endpoint=True)\n",
    "        self.y_interp = np.zeros(201)\n",
    "        #self.f = interp1d(self.x, self.y, kind='nearest')\n",
    "        #self.y_interp = self.f(self.x_interp)\n",
    "        \n",
    "        self.print_err = widgets.Text(\n",
    "            value=str(self.error()), description=\"Erreur d'approximation:\")\n",
    "        \n",
    "        #For the interpolation function\n",
    "        #self.functx = np.linspace(-1, 1, num=100, endpoint= True)\n",
    "        #self.functy = np.full(shape=100, fill_value=1, dtype=np.int)\n",
    "        \n",
    "        self.init_figure()\n",
    "        #plt.show()\n",
    "        \n",
    "        display(VBox([self.out,]),VBox([self.funct_menu, self.print_err]))\n",
    "        plt.tight_layout(pad=0.1, w_pad=1.0, h_pad=0.1)\n",
    "        \n",
    "\n",
    "    \n",
    "    \n",
    "    def init_figure(self):\n",
    "        with self.out:\n",
    "            self.fig = plt.figure(constrained_layout=False)\n",
    "            self.gs = self.fig.add_gridspec(2,2)\n",
    "    \n",
    "            #Plot the interpolating function\n",
    "            self.axs.append(self.fig.add_subplot(self.gs[:1, -1]))\n",
    "            self.axs[0].set_title(\"Interpolating function\")\n",
    "            self.axs[0].set_yticks([1e-4], minor=True)\n",
    "            self.axs[0].yaxis.grid(True, which='minor',\n",
    "                                   color='black', linewidth='0.5')\n",
    "            self.axs[0].set_xticks([1e-4], minor=True)\n",
    "            self.axs[0].xaxis.grid(True, which='minor',\n",
    "                                   color='black', linewidth='0.5')\n",
    "            self.axs[0].set_xlabel(\"t[s]\")\n",
    "            position = [-3,-2, -1, 0, 1, 2, 3]\n",
    "            self.axs[0].set_xticks(position)\n",
    "            self.axs[0].set_xlim([-3,3])\n",
    "            self.axs[0].set_ylim([-2,2])\n",
    "            #self.axs[0].plot(self.interp_f_x, self.interp_f_y, color='blue', linewidth=0.2)\n",
    "            self.update_interp_f(init=True)\n",
    "            #Plot the signal interpolated\n",
    "           \n",
    "            self.axs.append(self.fig.add_subplot(self.gs[1,:]))\n",
    "            self.axs[1].set_title(\"Interpolation\")\n",
    "            self.axs[1].plot(self.x, self.y, '--')\n",
    "            self.axs[1].plot(self.x_interp, self.interpolation(), '-')\n",
    "            self.axs[1].plot(self.x_val, self.y_val, 'or')\n",
    "        \n",
    "    def interpolation(self):\n",
    "        if(self.funct_idx==0):\n",
    "            f = interp1d(self.x_val, self.y_val, kind=\"nearest\")\n",
    "            return f(self.x_interp)\n",
    "        if(self.funct_idx==1): \n",
    "            f = interp1d(self.x_val, self.y_val, kind=\"linear\")\n",
    "            return f(self.x_interp)\n",
    "        if(self.funct_idx==2): \n",
    "            f = interp1d(self.x_val, self.y_val, kind=\"quadratic\")\n",
    "            return f(self.x_interp)\n",
    "        if(self.funct_idx==3): \n",
    "            f = interp1d(self.x_val, self.y_val, kind=\"cubic\")\n",
    "            return f(self.x_interp)\n",
    "        if(self.funct_idx==4): \n",
    "            return self.sinc_interp(self.y_val, self.x_val, self.x_interp)\n",
    "        \n",
    "    def sinc_interp(self, x, s, u):\n",
    "        \"\"\"\n",
    "        Interpolates x, sampled at \"s\" instants\n",
    "        Output y is sampled at \"u\" instants (\"u\" for \"upsampled\")     \n",
    "        \"\"\"\n",
    "\n",
    "        if len(x) != len(s):\n",
    "            raise Exception('x and s must be the same length')\n",
    "\n",
    "        # Find the period    \n",
    "        T = s[1] - s[0]\n",
    "\n",
    "        sincM = np.tile(u, (len(s), 1)) - np.tile(s[:, np.newaxis], (1, len(u)))\n",
    "        y = np.dot(x, np.sinc(sincM/T))\n",
    "        return y\n",
    "        \n",
    "    \n",
    "    def menu_callback(self, value):\n",
    "        self.funct = value['new']\n",
    "        self.funct_idx = self.interp_funct_types[self.funct]\n",
    "        self.update_interp_f()\n",
    "        self.y_interp = self.interpolation()\n",
    "        self.axs[1].lines[1].set_data(self.x_interp, self.y_interp)\n",
    "        self.print_err_callback()\n",
    "        \n",
    "     \n",
    "    def print_err_callback(self):\n",
    "        self.print_err.value = str(self.error())\n",
    "        \n",
    "        \n",
    "    #Definition of the rect function\n",
    "    def rect(val):\n",
    "        return np.where(np.abs(val)<=0.5, 1, 0)\n",
    "    \n",
    "    #Definition of the linear spline function\n",
    "    def tri(self,x):\n",
    "        if(x>=-1. and x<0.): return(x+1.)\n",
    "        elif(x>=0. and x<=1.): return(-x+1.)\n",
    "        else: return 0.\n",
    "        \n",
    "    def quadratic_spline(self,x):\n",
    "        return x**2\n",
    "            \n",
    "    def cubic_spline(self,x):\n",
    "        return x**3\n",
    "    \n",
    "    def sinc(self, x):\n",
    "        return np.sinc(x)\n",
    "    \n",
    "    #Funtion to calculate the aproximation error\n",
    "    def error(self):\n",
    "        err = 0.\n",
    "        for i in range(len(self.x_interp)):\n",
    "            err += (self.y_interp[i] - self.y[i])**2\n",
    "            \n",
    "        return err\n",
    "    \n",
    "    #Function to update the interpolation function, so it changes the interpolation function plot and the\n",
    "    #interpolation plot\n",
    "    def update_interp_f(self, init=False):\n",
    "       \n",
    "        if(self.funct_idx==0):\n",
    "            y = np.where(np.abs(self.interp_f_x)<=0.5, 1, 0)\n",
    "            \n",
    "        \n",
    "        if(self.funct_idx==1):\n",
    "            y = list(map(self.tri,self.interp_f_x))\n",
    "            \n",
    "        if(self.funct_idx==2):\n",
    "            y = list(map(self.quadratic_spline,self.interp_f_x))\n",
    "            \n",
    "        if(self.funct_idx==3):\n",
    "            y = list(map(self.cubic_spline,self.interp_f_x))\n",
    "            \n",
    "            \n",
    "        if(self.funct_idx==4):\n",
    "            y = list(map(self.sinc,self.interp_f_x))\n",
    "            \n",
    "        if init:\n",
    "            self.axs[0].plot(self.interp_f_x, y, color='blue', linewidth=0.5)\n",
    "        else:\n",
    "            self.axs[0].lines[0].set_data(self.interp_f_x, y)\n",
    "        \n",
    "            \n",
    "        \n",
    "        \n",
    "        "
   ]
  },
  {
   "cell_type": "code",
   "execution_count": 42,
   "metadata": {},
   "outputs": [],
   "source": [
    "def create_multipleChoice_widget(description, options, correct_answer):\n",
    "    if correct_answer not in options:\n",
    "        options.append(correct_answer)\n",
    "    \n",
    "    correct_answer_index = options.index(correct_answer)\n",
    "    \n",
    "    radio_options = [(words, i) for i, words in enumerate(options)]\n",
    "    alternativ = widgets.RadioButtons(\n",
    "        options = radio_options,\n",
    "        description = '',\n",
    "        disabled = False\n",
    "    )\n",
    "    \n",
    "    description_out = widgets.Output()\n",
    "    with description_out:\n",
    "        print(description)\n",
    "        \n",
    "    feedback_out = widgets.Output()\n",
    "\n",
    "    def check_selection(b):\n",
    "        a = int(alternativ.value)\n",
    "        if a==correct_answer_index:\n",
    "            s = '\\x1b[6;30;42m' + \"Correct\" + '\\x1b[0m' +\"\\n\" #green color\n",
    "        else:\n",
    "            s = '\\x1b[5;30;41m' + \"Incorrect\" + '\\x1b[0m' +\"\\n\" #red color\n",
    "        with feedback_out:\n",
    "            clear_output()\n",
    "            print(s)\n",
    "        return\n",
    "    \n",
    "    check = widgets.Button(description=\"submit\")\n",
    "    check.on_click(check_selection)\n",
    "    \n",
    "    \n",
    "    return widgets.VBox([description_out, alternativ, check, feedback_out])\n",
    "\n",
    "Q1 = create_multipleChoice_widget('Which function approximates f best?',['Rect','Tri','Quadratic spline', 'Cubic spline', 'Sinc'],'Cubic spline')\n",
    "Q2 = create_multipleChoice_widget('What is the maximum sampling period that allows perfect reconstruction?',['Rect','Tri','Quadratic spline', 'Cubic spline', 'Sinc'],'Cubic spline')"
   ]
  },
  {
   "cell_type": "code",
   "execution_count": 43,
   "metadata": {},
   "outputs": [
    {
     "data": {
      "application/vnd.jupyter.widget-view+json": {
       "model_id": "4d46259ef1ce49f5b26c7532efff0ad8",
       "version_major": 2,
       "version_minor": 0
      },
      "text/plain": [
       "VBox(children=(Output(layout=Layout(height='500px', width='980px')),))"
      ]
     },
     "metadata": {},
     "output_type": "display_data"
    },
    {
     "data": {
      "application/vnd.jupyter.widget-view+json": {
       "model_id": "4fda22bccc5b495083c4458b530b0b7c",
       "version_major": 2,
       "version_minor": 0
      },
      "text/plain": [
       "VBox(children=(Dropdown(description=\"Choisir fonction d'interpolation:\", layout=Layout(width='max-content'), o…"
      ]
     },
     "metadata": {},
     "output_type": "display_data"
    },
    {
     "data": {
      "application/vnd.jupyter.widget-view+json": {
       "model_id": "ace55ebee14b48a9aea0d172a920d4b5",
       "version_major": 2,
       "version_minor": 0
      },
      "text/plain": [
       "VBox(children=(Output(outputs=({'name': 'stdout', 'text': 'Which function approximates f best?\\n', 'output_typ…"
      ]
     },
     "metadata": {},
     "output_type": "display_data"
    },
    {
     "data": {
      "application/vnd.jupyter.widget-view+json": {
       "model_id": "05ebd319b09241449650382cf22b6444",
       "version_major": 2,
       "version_minor": 0
      },
      "text/plain": [
       "VBox(children=(Output(outputs=({'name': 'stdout', 'text': 'What is the maximum sampling period that allows per…"
      ]
     },
     "metadata": {},
     "output_type": "display_data"
    }
   ],
   "source": [
    "plt.close(\"all\")\n",
    "interp = Interpolation()\n",
    "display(Q1)\n",
    "display(Q2)"
   ]
  },
  {
   "cell_type": "code",
   "execution_count": 40,
   "metadata": {},
   "outputs": [
    {
     "data": {
      "application/vnd.jupyter.widget-view+json": {
       "model_id": "75488977dbfd4a6f8004aeaa1244d9ef",
       "version_major": 2,
       "version_minor": 0
      },
      "text/plain": [
       "Canvas(toolbar=Toolbar(toolitems=[('Home', 'Reset original view', 'home', 'home'), ('Back', 'Back to previous …"
      ]
     },
     "metadata": {},
     "output_type": "display_data"
    },
    {
     "data": {
      "text/plain": [
       "Text(0.5, 1.0, 'gs[1:, -1]')"
      ]
     },
     "execution_count": 40,
     "metadata": {},
     "output_type": "execute_result"
    }
   ],
   "source": [
    "fig3 = plt.figure(constrained_layout=True)\n",
    "gs = fig3.add_gridspec(2, 2)\n",
    "f3_ax1 = fig3.add_subplot(gs[0, :])\n",
    "f3_ax1.set_title('gs[0, :]')\n",
    "f3_ax2 = fig3.add_subplot(gs[1, :-1])\n",
    "f3_ax2.set_title('gs[1, :-1]')\n",
    "f3_ax3 = fig3.add_subplot(gs[1:, -1])\n",
    "f3_ax3.set_title('gs[1:, -1]')\n"
   ]
  },
  {
   "cell_type": "code",
   "execution_count": 10,
   "metadata": {},
   "outputs": [],
   "source": [
    "def tri(x):\n",
    "    if(x>=-1. and x<0.): return(x+1.)\n",
    "    elif(x>=0. and x<=1.): return(-x+1.)\n",
    "    else: return 0."
   ]
  },
  {
   "cell_type": "code",
   "execution_count": 11,
   "metadata": {},
   "outputs": [],
   "source": [
    "interp_f_x = np.linspace(-2,2,num=205, endpoint=True)\n",
    "interp_f_y = np.zeros(205)"
   ]
  },
  {
   "cell_type": "code",
   "execution_count": null,
   "metadata": {},
   "outputs": [],
   "source": [
    "interp_f_y=np.array(list(map(tri,interp_f_x)))"
   ]
  },
  {
   "cell_type": "code",
   "execution_count": null,
   "metadata": {},
   "outputs": [],
   "source": [
    "interp_f_y"
   ]
  },
  {
   "cell_type": "code",
   "execution_count": 9,
   "metadata": {},
   "outputs": [
    {
     "name": "stdout",
     "output_type": "stream",
     "text": [
      "What is 1 + 1\n"
     ]
    },
    {
     "name": "stdin",
     "output_type": "stream",
     "text": [
      "a)1\n",
      "b)2\n",
      "c)3\n",
      "d)4\n",
      ": 1\n"
     ]
    },
    {
     "name": "stdout",
     "output_type": "stream",
     "text": [
      "Incorrect 1 + 1 is 2\n",
      "Who is the 45th president of the United States?\n"
     ]
    },
    {
     "name": "stdin",
     "output_type": "stream",
     "text": [
      "a)Barack Obama\n",
      "b)Hillary Clinton\n",
      "c)Donald Trump\n",
      "d)Tom Brady\n",
      ": b\n"
     ]
    },
    {
     "name": "stdout",
     "output_type": "stream",
     "text": [
      "Incorrect The 45th president is Donald Trump\n",
      "True or False... The Toronto Maple Leafs have won 13 Stanley   Cups?\n"
     ]
    },
    {
     "name": "stdin",
     "output_type": "stream",
     "text": [
      ": m\n"
     ]
    },
    {
     "name": "stdout",
     "output_type": "stream",
     "text": [
      "Incorrect \n",
      "What was the last year the Toronto Maple Leafs won the Stanley   Cup?\n"
     ]
    },
    {
     "name": "stdin",
     "output_type": "stream",
     "text": [
      "a)1967\n",
      "b)1955\n",
      "c)1987\n",
      "d)1994\n",
      ": m\n"
     ]
    },
    {
     "name": "stdout",
     "output_type": "stream",
     "text": [
      "Incorrect The last time the Toronto Maple Leafs won the Stanley Cup was 1967\n",
      "True or False... The current Prime Minister of Canada is Pierre Elliot Tredeau?\n"
     ]
    },
    {
     "name": "stdin",
     "output_type": "stream",
     "text": [
      ": k\n"
     ]
    },
    {
     "name": "stdout",
     "output_type": "stream",
     "text": [
      "Incorrect The current Prime Minster of Canada is Justin Tredeau\n",
      "0 out of 5 that is 0.0 %\n"
     ]
    }
   ],
   "source": [
    "questions = [\"What is 1 + 1\",\n",
    "             \"Who is the 45th president of the United States?\",\n",
    "             \"True or False... The Toronto Maple Leafs have won 13 Stanley   Cups?\",\n",
    "             \"What was the last year the Toronto Maple Leafs won the Stanley   Cup?\",\n",
    "             \"True or False... The current Prime Minister of Canada is Pierre Elliot Tredeau?\"]\n",
    "answer_choices = [\"a)1\\nb)2\\nc)3\\nd)4\\n:\",\n",
    "                  \"a)Barack Obama\\nb)Hillary Clinton\\nc)Donald Trump\\nd)Tom Brady\\n:\",\n",
    "                  \":\",\n",
    "                  \"a)1967\\nb)1955\\nc)1987\\nd)1994\\n:\",\n",
    "                  \":\"]\n",
    "correct_choices = [{\"b\", \"2\"},\n",
    "                   {\"c\", \"donald trump\"},\n",
    "                   {\"true\", \"t\"},\n",
    "                   {\"a\", \"1967\"},\n",
    "                   {\"false\", \"f\"}]\n",
    "answers = [\"1 + 1 is 2\",\n",
    "           \"The 45th president is Donald Trump\",\n",
    "           \"\",\n",
    "           \"The last time the Toronto Maple Leafs won the Stanley Cup was 1967\",\n",
    "           \"The current Prime Minster of Canada is Justin Tredeau\"]\n",
    "\n",
    "\n",
    "def quiz():\n",
    "    score = 0\n",
    "    for question, choices, correct_choice, answer in zip(questions, answer_choices, correct_choices, answers):\n",
    "        print(question)\n",
    "        user_answer = input(choices).lower()\n",
    "        if user_answer in correct_choice:\n",
    "            print(\"Correct\")\n",
    "            score += 1\n",
    "        else:\n",
    "            print(\"Incorrect\", answer)\n",
    "    print(score, \"out of\", len(questions), \"that is\", float(score / len(questions)) * 100, \"%\")\n",
    "\n",
    "if __name__ == \"__main__\":\n",
    "    quiz()"
   ]
  },
  {
   "cell_type": "code",
   "execution_count": null,
   "metadata": {},
   "outputs": [],
   "source": []
  }
 ],
 "metadata": {
  "kernelspec": {
   "display_name": "Python 3",
   "language": "python",
   "name": "python3"
  },
  "language_info": {
   "codemirror_mode": {
    "name": "ipython",
    "version": 3
   },
   "file_extension": ".py",
   "mimetype": "text/x-python",
   "name": "python",
   "nbconvert_exporter": "python",
   "pygments_lexer": "ipython3",
   "version": "3.8.5"
  }
 },
 "nbformat": 4,
 "nbformat_minor": 4
}
