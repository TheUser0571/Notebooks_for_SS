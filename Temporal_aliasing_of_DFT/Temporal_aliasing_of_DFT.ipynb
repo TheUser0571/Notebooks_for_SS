{
 "cells": [
  {
   "cell_type": "markdown",
   "metadata": {},
   "source": [
    "## Temoral aliasing of DFT"
   ]
  },
  {
   "cell_type": "markdown",
   "metadata": {},
   "source": [
    "Begining with a casual cubic spline function: $\\beta^3_t(t)=\\beta^3(t-2)$, centered at $t=2$ and sampled with a period $T=\\frac{1}{5}$ in the range [0,4], we obtain a total number of 20 nonzeros samples"
   ]
  },
  {
   "cell_type": "markdown",
   "metadata": {},
   "source": [
    "After that, the N-periodization of the funtion is computed, being N a variable: $f_N[n]=\\sum_{k\\in\\mathbb Z} f[n-kN]$\n",
    "\n",
    "In practice, the summation is not done in the whole range of integers numbers but in the [-50,+50] range, for example.\n",
    "\n",
    "\n"
   ]
  },
  {
   "cell_type": "markdown",
   "metadata": {},
   "source": [
    "Finally, the DFT of $f_N[n]$ is computed:\n",
    "\n",
    "$F_N[m]=\\sum_{n=0}^{N-1} f_N[n]\\exp(-2j\\pi\\frac{nm}{N})$"
   ]
  },
  {
   "cell_type": "code",
   "execution_count": 1,
   "metadata": {},
   "outputs": [],
   "source": [
    "from Temporal_aliasing_of_DFT_utils import *\n",
    "\n",
    "%matplotlib widget"
   ]
  },
  {
   "cell_type": "code",
   "execution_count": 18,
   "metadata": {
    "scrolled": false
   },
   "outputs": [
    {
     "data": {
      "application/vnd.jupyter.widget-view+json": {
       "model_id": "06ace2b7bcf44b27a68707b3c462f2fc",
       "version_major": 2,
       "version_minor": 0
      },
      "text/plain": [
       "VBox(children=(IntSlider(value=21, description='Periodization cosntant', max=50, min=5), Output(layout=Layout(…"
      ]
     },
     "metadata": {},
     "output_type": "display_data"
    }
   ],
   "source": [
    "plt.close(\"all\")\n",
    "demo = DFT_temporal_aliasing()"
   ]
  },
  {
   "cell_type": "code",
   "execution_count": null,
   "metadata": {},
   "outputs": [],
   "source": []
  }
 ],
 "metadata": {
  "kernelspec": {
   "display_name": "Python 3",
   "language": "python",
   "name": "python3"
  },
  "language_info": {
   "codemirror_mode": {
    "name": "ipython",
    "version": 3
   },
   "file_extension": ".py",
   "mimetype": "text/x-python",
   "name": "python",
   "nbconvert_exporter": "python",
   "pygments_lexer": "ipython3",
   "version": "3.7.9"
  }
 },
 "nbformat": 4,
 "nbformat_minor": 4
}
