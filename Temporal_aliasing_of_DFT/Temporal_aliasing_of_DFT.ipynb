{
 "cells": [
  {
   "cell_type": "code",
   "execution_count": 1,
   "metadata": {},
   "outputs": [],
   "source": [
    "from Temporal_aliasing_of_DFT_utils import *\n",
    "\n",
    "%matplotlib widget"
   ]
  },
  {
   "cell_type": "markdown",
   "metadata": {},
   "source": [
    "# Temoral aliasing of DFT\n",
    "\n",
    "Begining with a casual cubic spline function: $\\beta^3_t(t)=\\beta^3(t-2)$, centered at $t=2$ and sampled with a period $T=\\frac{1}{5}$ in the range [0,4], we obtain a total number of 20 nonzeros samples\n",
    "\n",
    "After that, the N-periodization of the funtion is computed, being N a variable: $f_N[n]=\\sum_{k\\in\\mathbb Z} f[n-kN]$\n",
    "\n",
    "In practice, the summation is not done in the whole range of integers numbers but in the [-50,+50] range, for example.\n",
    "\n",
    "Finally, the DFT of $f_N[n]$ is computed:\n",
    "\n",
    "$F_N[m]=\\sum_{n=0}^{N-1} f_N[n]\\exp(-2j\\pi\\frac{nm}{N})$"
   ]
  },
  {
   "cell_type": "code",
   "execution_count": 2,
   "metadata": {},
   "outputs": [
    {
     "data": {
      "application/vnd.jupyter.widget-view+json": {
       "model_id": "2cd726cc31334bbc83b4c14750c80c0e",
       "version_major": 2,
       "version_minor": 0
      },
      "text/plain": [
       "VBox(children=(IntSlider(value=21, description='Periodization cosntant', layout=Layout(width='400px'), max=50,…"
      ]
     },
     "metadata": {},
     "output_type": "display_data"
    }
   ],
   "source": [
    "plt.close(\"all\")\n",
    "demo = DFT_temporal_aliasing()"
   ]
  }
 ],
 "metadata": {
  "kernelspec": {
   "display_name": "Python 3 (ipykernel)",
   "language": "python",
   "name": "python3"
  },
  "language_info": {
   "codemirror_mode": {
    "name": "ipython",
    "version": 3
   },
   "file_extension": ".py",
   "mimetype": "text/x-python",
   "name": "python",
   "nbconvert_exporter": "python",
   "pygments_lexer": "ipython3",
   "version": "3.8.10"
  }
 },
 "nbformat": 4,
 "nbformat_minor": 4
}
