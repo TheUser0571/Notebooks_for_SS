{
 "cells": [
  {
   "cell_type": "markdown",
   "metadata": {},
   "source": [
    "## Temoral aliasing of DFT"
   ]
  },
  {
   "cell_type": "markdown",
   "metadata": {},
   "source": [
    "Begining with a casual cubic spline function: $\\beta^3_t(t)=\\beta^3(t-2)$, centered at $t=2$ and sampled with a period $T=\\frac{1}{5}$ in the range [0,4], we obtain a total number of 20 nonzeros samples"
   ]
  },
  {
   "cell_type": "markdown",
   "metadata": {},
   "source": [
    "After that, the N-periodization of the funtion is computed, being N a variable: $f_N[n]=\\sum_{k\\in\\mathbb Z} f[n-kN]$\n",
    "\n",
    "In practice, the summation is not done in the whole range of integers numbers but in the [-50,+50] range, for example.\n",
    "\n",
    "\n"
   ]
  },
  {
   "cell_type": "markdown",
   "metadata": {},
   "source": [
    "Finally, the DFT of $f_N[n]$ is computed:\n",
    "\n",
    "$F_N[m]=\\sum_{n=0}^{N-1} f_N[n]\\exp(-2j\\pi\\frac{nm}{N})$"
   ]
  },
  {
   "cell_type": "code",
   "execution_count": 1,
   "metadata": {},
   "outputs": [],
   "source": [
    "import numpy as np\n",
    "import matplotlib.gridspec\n",
    "import matplotlib.pyplot as plt\n",
    "from ipywidgets import interact, fixed, IntSlider, HBox, Layout, Output, VBox\n",
    "import ipywidgets as widgets\n",
    "from scipy import signal\n",
    "from scipy.interpolate import interp1d\n",
    "from IPython.display import clear_output\n",
    "from numpy.fft import fft, fftfreq, fftshift\n",
    "from Signal_Operator_Library import discrete\n",
    "%matplotlib widget"
   ]
  },
  {
   "cell_type": "code",
   "execution_count": 66,
   "metadata": {},
   "outputs": [],
   "source": [
    "class DFT_temporal_aliasing():\n",
    "    \n",
    "    def __init__(self):\n",
    "        \n",
    "        self.out = Output(layout={'width': '1400px', 'height': '700px'})\n",
    "        self.axs = []\n",
    "        self.period = 1/5\n",
    "        self.N = 1\n",
    "        \n",
    "        self.x = np.linspace(0, 4, num = 21, endpoint=True)\n",
    "        self.f = np.vectorize(self.cubic_spline, otypes=[complex])\n",
    "        self.y = self.f(self.x)\n",
    "        \n",
    "        self.x_period = np.linspace(-self.N*10, 4+self.N*10, num=5*(2*10*self.N+4)+1, endpoint=True)\n",
    "        self.y_period = np.zeros(5*(2*10*self.N+4)+1)\n",
    "        \n",
    "        #Creating a matrix to store all the functions in the final range\n",
    "        self.matrix = np.zeros((21,len(self.x_period)), dtype = \"complex_\")\n",
    "        #Array with index\n",
    "        self.index = np.arange(5*(2*10*self.N+5))\n",
    "        \n",
    "        \n",
    "        self.choose_N = widgets.IntSlider(value = self.N, min = 1, max = 30, step = 1, description = 'Periodization cosntant')\n",
    "        self.choose_N.observe(self.choose_N_callback, names='value')\n",
    "        \n",
    "        self.__init__figure()\n",
    "        #box_layout = Layout(display='flex',\n",
    "        #            flex_flow='column',justify_content='space-around',margin='solid')\n",
    "        \n",
    "        display(VBox([self.choose_N, self.out]))\n",
    "        plt.tight_layout(pad=0.1, w_pad=1.0, h_pad=0.1)\n",
    "        \n",
    "    def __init__figure(self):\n",
    "        \n",
    "        with self.out:\n",
    "            \n",
    "            self.fig = plt.figure(figsize=(13,5),constrained_layout=False)\n",
    "            self.gs = self.fig.add_gridspec(3,1)\n",
    "    \n",
    "            #Plot the original function\n",
    "            self.axs.append(self.fig.add_subplot(self.gs[0,0]))\n",
    "            self.axs[0].set_title(\"$f[n]$\")\n",
    "            self.axs[0].set_yticks([1e-4], minor=True)\n",
    "            self.axs[0].yaxis.grid(True, which='minor',\n",
    "                                   color='black', linewidth='0.5')\n",
    "            self.axs[0].set_xticks([1e-4], minor=True)\n",
    "            self.axs[0].xaxis.grid(True, which='minor',\n",
    "                                   color='black', linewidth='0.5')\n",
    "            self.axs[0].stem(self.x,self.y, use_line_collection=True)\n",
    "            \n",
    "            #Plot the N-periodization function\n",
    "            self.axs.append(self.fig.add_subplot(self.gs[1,0]))\n",
    "            self.N_periodization()\n",
    "            \n",
    "            #Plot the DFT\n",
    "            self.axs.append(self.fig.add_subplot(self.gs[2,0]))\n",
    "            self.plot_DFT()\n",
    "         \n",
    "        \n",
    "    def plot_N_period(self):\n",
    "        \n",
    "        self.axs[1].set_title(\"$f_N[n]$\")\n",
    "        self.axs[1].set_yticks([1e-4], minor=True)\n",
    "        self.axs[1].yaxis.grid(True, which='minor',\n",
    "                                   color='black', linewidth='0.5')\n",
    "        self.axs[1].set_xticks([1e-4], minor=True)\n",
    "        self.axs[1].xaxis.grid(True, which='minor',\n",
    "                                   color='black', linewidth='0.5')\n",
    "        self.markerline, self.stemline, self.baseline = self.axs[1].stem(self.x_period,self.y_period, linefmt='C2-',  markerfmt='C2o', use_line_collection=True)\n",
    "        self.markerline.set_markersize(2)\n",
    "        self.stemline.set_linewidth(1)\n",
    "        \n",
    "    \n",
    "    def plot_DFT(self):\n",
    "        \n",
    "        self.axs[2].set_title(\"$F_N[m]$\")\n",
    "        self.axs[2].set_yticks([1e-4], minor=True)\n",
    "        self.axs[2].yaxis.grid(True, which='minor',\n",
    "                                   color='black', linewidth='0.5')\n",
    "        self.axs[2].set_xticks([1e-4], minor=True)\n",
    "        self.axs[2].xaxis.grid(True, which='minor',\n",
    "                                   color='black', linewidth='0.5')\n",
    "        vector = np.vectorize(np.int)\n",
    "        x_fourier = fftshift(fftfreq(self.x_period.size, d=int(1)))\n",
    "        y_fourier = fftshift(discrete.DFT(self.y_period, vector(x_fourier)))\n",
    "        self.axs[2].stem(x_fourier,np.abs(y_fourier), linefmt='C3-',  markerfmt='C3o', use_line_collection=True)\n",
    "    \n",
    "    \n",
    "    def choose_N_callback(self, value):\n",
    "        self.N = value['new']\n",
    "        self.x_period = np.linspace(-self.N*10, 4+self.N*10, num=5*(2*10*self.N+5), endpoint=True)\n",
    "        self.y_period = np.zeros(5*(2*10*self.N+5))\n",
    "        self.matrix = np.zeros((21,len(self.x_period)), dtype = \"complex_\")\n",
    "        #Array with index\n",
    "        self.index = np.arange(5*(2*10*self.N+5))\n",
    "        \n",
    "        self.N_periodization()\n",
    "        self.axs[2].clear()\n",
    "        self.plot_DFT()\n",
    "    \n",
    "        \n",
    "        \n",
    "    def cubic_spline(self,x):\n",
    "        if(abs(x-2)<1): return(2/3.-abs(x-2)**2+(abs(x-2)**3)/2.)\n",
    "        elif(abs(x-2)>=1 and abs(x-2)<2): return((2-abs(x-2))**3)/6.\n",
    "        else: return 0\n",
    "        \n",
    "    def N_periodization(self):\n",
    "        \n",
    "        for i,row in enumerate(self.matrix):\n",
    "            start = i\n",
    "            step = self.N*5\n",
    "            num = len(self.x)\n",
    "            indices = np.arange(0,num)+step*start\n",
    "            self.matrix[i, indices] = self.y\n",
    "        \n",
    "        self.y_period = np.sum(self.matrix, axis=0)\n",
    "        self.axs[1].clear()\n",
    "        self.plot_N_period()\n",
    "        \n",
    "        \n",
    "        "
   ]
  },
  {
   "cell_type": "code",
   "execution_count": 67,
   "metadata": {},
   "outputs": [
    {
     "data": {
      "application/vnd.jupyter.widget-view+json": {
       "model_id": "0cd9b14235904442a164a3d9aea28560",
       "version_major": 2,
       "version_minor": 0
      },
      "text/plain": [
       "VBox(children=(IntSlider(value=1, description='Periodization cosntant', max=30, min=1), Output(layout=Layout(h…"
      ]
     },
     "metadata": {},
     "output_type": "display_data"
    }
   ],
   "source": [
    "plt.close(\"all\")\n",
    "demo = DFT_temporal_aliasing()"
   ]
  },
  {
   "cell_type": "code",
   "execution_count": 9,
   "metadata": {},
   "outputs": [],
   "source": [
    "a = np.array([np.zeros(3),np.zeros(3)])"
   ]
  },
  {
   "cell_type": "code",
   "execution_count": 31,
   "metadata": {},
   "outputs": [
    {
     "data": {
      "text/plain": [
       "45"
      ]
     },
     "execution_count": 31,
     "metadata": {},
     "output_type": "execute_result"
    }
   ],
   "source": [
    "len(demo.matrix[1])"
   ]
  },
  {
   "cell_type": "code",
   "execution_count": 27,
   "metadata": {},
   "outputs": [
    {
     "data": {
      "text/plain": [
       "array([0.00000000e+00, 1.33333333e-03, 1.20000000e-02, 4.80000000e-02,\n",
       "       1.32000000e-01, 2.88000000e-01, 5.34666667e-01, 8.64000000e-01,\n",
       "       1.23600000e+00, 1.58400000e+00, 1.83600000e+00, 1.92800000e+00,\n",
       "       1.83600000e+00, 1.58400000e+00, 1.23600000e+00, 8.64000000e-01,\n",
       "       5.34666667e-01, 2.88000000e-01, 1.32000000e-01, 4.80000000e-02,\n",
       "       1.20000000e-02, 1.33333333e-03, 0.00000000e+00, 0.00000000e+00,\n",
       "       0.00000000e+00, 0.00000000e+00, 0.00000000e+00, 0.00000000e+00,\n",
       "       0.00000000e+00, 0.00000000e+00, 0.00000000e+00])"
      ]
     },
     "execution_count": 27,
     "metadata": {},
     "output_type": "execute_result"
    }
   ],
   "source": [
    "np.sum(demo.matrix, axis=0)"
   ]
  },
  {
   "cell_type": "code",
   "execution_count": 29,
   "metadata": {},
   "outputs": [
    {
     "data": {
      "text/plain": [
       "41"
      ]
     },
     "execution_count": 29,
     "metadata": {},
     "output_type": "execute_result"
    }
   ],
   "source": [
    "len(demo.index)"
   ]
  },
  {
   "cell_type": "code",
   "execution_count": null,
   "metadata": {},
   "outputs": [],
   "source": []
  }
 ],
 "metadata": {
  "kernelspec": {
   "display_name": "Python 3",
   "language": "python",
   "name": "python3"
  },
  "language_info": {
   "codemirror_mode": {
    "name": "ipython",
    "version": 3
   },
   "file_extension": ".py",
   "mimetype": "text/x-python",
   "name": "python",
   "nbconvert_exporter": "python",
   "pygments_lexer": "ipython3",
   "version": "3.8.5"
  }
 },
 "nbformat": 4,
 "nbformat_minor": 4
}
