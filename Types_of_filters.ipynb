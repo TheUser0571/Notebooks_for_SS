{
 "cells": [
  {
   "cell_type": "code",
   "execution_count": 58,
   "id": "bigger-loading",
   "metadata": {},
   "outputs": [],
   "source": [
    "import matplotlib.pyplot as plt\n",
    "import numpy as np\n",
    "import IPython\n",
    "from scipy import signal\n",
    "from scipy.io import wavfile\n",
    "from ipywidgets import interact, fixed, IntSlider, HBox, Layout, Output, VBox\n",
    "import ipywidgets as widgets\n",
    "\n",
    "%matplotlib widget"
   ]
  },
  {
   "cell_type": "markdown",
   "id": "differential-damage",
   "metadata": {},
   "source": [
    "# Experimentation"
   ]
  },
  {
   "cell_type": "code",
   "execution_count": 175,
   "id": "convinced-pride",
   "metadata": {},
   "outputs": [
    {
     "data": {
      "text/plain": [
       "(44100, 882151)"
      ]
     },
     "execution_count": 175,
     "metadata": {},
     "output_type": "execute_result"
    }
   ],
   "source": [
    "SF, s = wavfile.read('audiofile.wav')\n",
    "# s = s[::10]\n",
    "# SF = SF//10\n",
    "IPython.display.Audio(s, rate=SF)\n",
    "SF, len(s)"
   ]
  },
  {
   "cell_type": "code",
   "execution_count": 176,
   "id": "great-access",
   "metadata": {},
   "outputs": [
    {
     "data": {
      "application/vnd.jupyter.widget-view+json": {
       "model_id": "b8a2b55b83664847816d18bbe7afe2ba",
       "version_major": 2,
       "version_minor": 0
      },
      "text/plain": [
       "Canvas(toolbar=Toolbar(toolitems=[('Home', 'Reset original view', 'home', 'home'), ('Back', 'Back to previous …"
      ]
     },
     "metadata": {},
     "output_type": "display_data"
    }
   ],
   "source": [
    "plt.close('all')\n",
    "plt.figure(figsize=(8, 2))\n",
    "plt.plot(np.linspace(0, len(s)/SF, len(s)), s, linewidth=0.1)\n",
    "plt.show()"
   ]
  },
  {
   "cell_type": "code",
   "execution_count": 177,
   "id": "final-shield",
   "metadata": {},
   "outputs": [
    {
     "data": {
      "application/vnd.jupyter.widget-view+json": {
       "model_id": "eed38afd156242e0811b836e3977d25e",
       "version_major": 2,
       "version_minor": 0
      },
      "text/plain": [
       "Canvas(toolbar=Toolbar(toolitems=[('Home', 'Reset original view', 'home', 'home'), ('Back', 'Back to previous …"
      ]
     },
     "metadata": {},
     "output_type": "display_data"
    }
   ],
   "source": [
    "s_FT = np.abs(np.fft.fftshift(np.fft.fft(s)))\n",
    "s_FT = s_FT / s_FT.max()\n",
    "w_FT = np.linspace(-SF//2, SF//2, len(s))\n",
    "\n",
    "plt.close('all')\n",
    "plt.figure(figsize=(8, 4))\n",
    "plt.plot(w_FT[3*len(w_FT)//8:5*len(w_FT)//8], s_FT[3*len(s_FT)//8:5*len(s_FT)//8])\n",
    "plt.show()"
   ]
  },
  {
   "cell_type": "code",
   "execution_count": 221,
   "id": "unsigned-marker",
   "metadata": {},
   "outputs": [],
   "source": [
    "# Constructing the filter\n",
    "order = 5\n",
    "f_crit = [1000, 5000]\n",
    "b, a = signal.butter(N=order, Wn=f_crit, btype='bandstop', fs=SF)\n",
    "# Frequency response\n",
    "w, h = signal.freqz(b, a, whole=True, fs=SF)\n",
    "h = np.abs(np.fft.fftshift(h))\n",
    "w -= SF//2\n",
    "# Filtering\n",
    "s_filtered = signal.lfilter(b, a, s)"
   ]
  },
  {
   "cell_type": "code",
   "execution_count": 224,
   "id": "ancient-reasoning",
   "metadata": {},
   "outputs": [
    {
     "data": {
      "application/vnd.jupyter.widget-view+json": {
       "model_id": "1b6530065aad4c0caaa95bcc97d4ba8b",
       "version_major": 2,
       "version_minor": 0
      },
      "text/plain": [
       "Canvas(toolbar=Toolbar(toolitems=[('Home', 'Reset original view', 'home', 'home'), ('Back', 'Back to previous …"
      ]
     },
     "metadata": {},
     "output_type": "display_data"
    }
   ],
   "source": [
    "plt.close('all')\n",
    "plt.figure(figsize=(10,5))\n",
    "q = 10\n",
    "plt.subplot(121)\n",
    "# plt.plot(w_FT[(q//2-1)*len(w_FT)//q:(q//2+1)*len(w_FT)//q], s_FT[(q//2-1)*len(s_FT)//q:(q//2+1)*len(s_FT)//q], linewidth=0.2)\n",
    "# plt.plot(w[(q//2-1)*len(w)//q:(q//2+1)*len(w)//q], h[(q//2-1)*len(w)//q:(q//2+1)*len(w)//q])\n",
    "plt.plot(w_FT, s_FT, linewidth=0.2)\n",
    "plt.plot(w, h)\n",
    "plt.subplot(122)\n",
    "s_FT_filt = np.abs(np.fft.fftshift(np.fft.fft(s_filtered)))\n",
    "# plt.plot(w_FT[(q//2-1)*len(w_FT)//q:(q//2+1)*len(w_FT)//q], s_FT_filt[(q//2-1)*len(s_FT)//q:(q//2+1)*len(s_FT)//q], linewidth=0.2)\n",
    "plt.plot(w_FT, s_FT_filt, linewidth=0.2)\n",
    "plt.show()"
   ]
  },
  {
   "cell_type": "code",
   "execution_count": 204,
   "id": "cultural-clearing",
   "metadata": {},
   "outputs": [
    {
     "data": {
      "application/vnd.jupyter.widget-view+json": {
       "model_id": "6e0b58e4fb5a4ca088f70162d8776e36",
       "version_major": 2,
       "version_minor": 0
      },
      "text/plain": [
       "Canvas(toolbar=Toolbar(toolitems=[('Home', 'Reset original view', 'home', 'home'), ('Back', 'Back to previous …"
      ]
     },
     "metadata": {},
     "output_type": "display_data"
    },
    {
     "data": {
      "application/vnd.jupyter.widget-view+json": {
       "model_id": "e4ca552885a84aecaf1d9bcc3fa3bcbf",
       "version_major": 2,
       "version_minor": 0
      },
      "text/plain": [
       "VBox(children=(HBox(children=(HTML(value='<h3>Original</h3>'), Output(layout=Layout(height='60px', width='320p…"
      ]
     },
     "metadata": {},
     "output_type": "display_data"
    }
   ],
   "source": [
    "plt.close('all')\n",
    "plt.figure(figsize=(8, 4))\n",
    "plt.subplot(211)\n",
    "plt.plot(np.linspace(0, len(s)/SF, len(s)), s, linewidth=0.1)\n",
    "plt.subplot(212)\n",
    "plt.plot(np.linspace(0, len(s)/SF, len(s)), s_filtered, linewidth=0.1)\n",
    "plt.show()\n",
    "out1 = Output(layout={'width': '320px', 'height': '60px'})\n",
    "out2 = Output(layout={'width': '320px', 'height': '60px'})\n",
    "out1.append_display_data(IPython.display.Audio(s, rate=SF))\n",
    "out2.append_display_data(IPython.display.Audio(s_filtered, rate=SF))\n",
    "\n",
    "text1 = widgets.HTML(value=\"<h3>Original</h3>\")\n",
    "text2 = widgets.HTML(value=\"<h3>Filtered</h3>\")\n",
    "\n",
    "display(VBox([HBox([text1, out1]), HBox([text2, out2])]))"
   ]
  },
  {
   "cell_type": "markdown",
   "id": "exposed-jesus",
   "metadata": {},
   "source": [
    "# Class definition"
   ]
  },
  {
   "cell_type": "code",
   "execution_count": 71,
   "id": "modern-athens",
   "metadata": {},
   "outputs": [],
   "source": [
    "class Filter_Demo():\n",
    "    def __init__(self, filename):\n",
    "        self.out = Output(layout={'width': '980px', 'height': '450px'})\n",
    "        self.axs = []\n",
    "        \n",
    "        # Read the audio signal from file\n",
    "        self.SF, self.s = wavfile.read(filename)\n",
    "        self.t = np.linspace(0, len(self.s)/self.SF, len(self.s))\n",
    "        \n",
    "        # Generate Fourier Transform of audio signal\n",
    "        s_FT = np.abs(np.fft.fftshift(np.fft.fft(self.s)))\n",
    "        self.s_FT = s_FT / s_FT.max()\n",
    "        self.w_FT = np.linspace(-self.SF//2, self.SF//2, len(self.s))\n",
    "        \n",
    "        # Filter types\n",
    "        self.filter_types = ['lowpass', 'highpass', 'bandpass', 'bandstop']\n",
    "        \n",
    "        self.f_crit = self.SF//6\n",
    "        self.filter = self.filter_types[0]\n",
    "        self.s_filtered = None\n",
    "        self.h = None\n",
    "        self.w = None\n",
    "\n",
    "        # Compute the initial filter\n",
    "        self.update_filter()\n",
    "        \n",
    "        # Inizializate the figure\n",
    "        self.init_figure()\n",
    "        \n",
    "        # Add audio players\n",
    "        self.play_orig = Output(layout={'width': '320px', 'height': '60px'})\n",
    "        self.play_filt = Output(layout={'width': '320px', 'height': '60px'})\n",
    "        self.play_orig.append_display_data(IPython.display.Audio(self.s, rate=self.SF))\n",
    "        self.play_filt.append_display_data(IPython.display.Audio(self.s_filtered, rate=self.SF))\n",
    "        # Descriptive text\n",
    "        self.text_orig = widgets.HTML(value=\"<h3>Original</h3>\")\n",
    "        self.text_filt = widgets.HTML(value=\"<h3>Filtered</h3>\")\n",
    "\n",
    "        # Add frequency sliders\n",
    "        self.f0_slider = widgets.IntSlider(value=self.SF//6, min=0, max=self.SF//2, description='$f_0$:')\n",
    "#         self.phase_check.observe(self.show_phase_callback, names='value')\n",
    "        self.f1_slider = widgets.IntSlider(value=2*self.SF//6, min=0, max=self.SF//2, description='$f_1$:')\n",
    "        \n",
    "        # Add dropdown menu\n",
    "        self.filter_menu = widgets.Dropdown(options=self.filter_types, value=self.filter_types[0], \n",
    "                                            description='Filter type:', layout={'width': 'max-content'})\n",
    "        \n",
    "        display(VBox([self.out, HBox([self.filter_menu, VBox([self.f0_slider, self.f1_slider]), VBox([HBox([self.text_orig, self.play_orig]), HBox([self.text_filt, self.play_filt])])])]))\n",
    "        plt.tight_layout(pad=0.1, w_pad=1.0, h_pad=0.1)\n",
    "        \n",
    "    \n",
    "    def init_figure(self):\n",
    "        with self.out:\n",
    "            self.fig = plt.figure(figsize=(8.5, 4))\n",
    "            self.gs = self.fig.add_gridspec(2, 2)\n",
    "\n",
    "            # Plot the FT\n",
    "            self.axs.append(self.fig.add_subplot(self.gs[:, 0]))\n",
    "            self.axs[0].set_title(\"Filter and signal spectrum\")\n",
    "            self.axs[0].plot(self.w_FT, self.s_FT, color='blue', linewidth=0.2)\n",
    "            self.axs[0].plot(self.w, self.h, color='lightsalmon', linewidth=0.5)\n",
    "            self.axs[0].set_xlabel('f [Hz]')\n",
    "            self.axs[0].fill(self.w, self.h, facecolor='lightsalmon')\n",
    "            self.axs[0].legend(['Signal', 'Filter'], loc='upper right')\n",
    "            \n",
    "            # Plot the original waveform\n",
    "            self.axs.append(self.fig.add_subplot(self.gs[0, -1]))\n",
    "            self.axs[1].set_title('Original signal')\n",
    "            self.axs[1].plot(self.t, self.s, color='blue', linewidth=0.2)\n",
    "            self.axs[1].set_xlabel('t [s]')\n",
    "            self.axs[1].set_xlim([np.min(self.t), np.max(self.t)])\n",
    "            self.axs[1].set_ylim([np.min(self.s), np.max(self.s)])\n",
    "            self.axs[1].get_yaxis().set_visible(False)\n",
    "            \n",
    "            # Plot the filtered waveform\n",
    "            self.axs.append(self.fig.add_subplot(self.gs[1, -1]))\n",
    "            self.axs[2].set_title(\"Filtered signal\")\n",
    "            self.axs[2].plot(self.t, self.s_filtered, color='blue', linewidth=0.2)\n",
    "            self.axs[2].set_xlabel('t [s]')\n",
    "            self.axs[2].set_xlim([np.min(self.t), np.max(self.t)])\n",
    "            self.axs[2].set_ylim([np.min(self.s), np.max(self.s)])\n",
    "            self.axs[2].get_yaxis().set_visible(False)\n",
    "\n",
    "    def update_filter(self):\n",
    "        # Constructing the filter\n",
    "        b, a = signal.butter(N=5, Wn=self.f_crit, btype=self.filter, fs=self.SF)\n",
    "        # Frequency response\n",
    "        w, h = signal.freqz(b, a, whole=True, fs=self.SF)\n",
    "        self.h = np.abs(np.fft.fftshift(h))\n",
    "        self.w = w - self.SF//2\n",
    "        # Filtering\n",
    "        self.s_filtered = signal.lfilter(b, a, self.s)\n",
    "\n"
   ]
  },
  {
   "cell_type": "code",
   "execution_count": 72,
   "id": "chemical-alfred",
   "metadata": {},
   "outputs": [
    {
     "data": {
      "application/vnd.jupyter.widget-view+json": {
       "model_id": "818ee511b75b4467926f151f60492063",
       "version_major": 2,
       "version_minor": 0
      },
      "text/plain": [
       "VBox(children=(Output(layout=Layout(height='450px', width='980px')), HBox(children=(Dropdown(description='Filt…"
      ]
     },
     "metadata": {},
     "output_type": "display_data"
    }
   ],
   "source": [
    "plt.close('all')\n",
    "fd = Filter_Demo('audiofile.wav')"
   ]
  }
 ],
 "metadata": {
  "kernelspec": {
   "display_name": "Python 3",
   "language": "python",
   "name": "python3"
  },
  "language_info": {
   "codemirror_mode": {
    "name": "ipython",
    "version": 3
   },
   "file_extension": ".py",
   "mimetype": "text/x-python",
   "name": "python",
   "nbconvert_exporter": "python",
   "pygments_lexer": "ipython3",
   "version": "3.7.9"
  }
 },
 "nbformat": 4,
 "nbformat_minor": 5
}
