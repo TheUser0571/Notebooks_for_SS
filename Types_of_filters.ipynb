{
 "cells": [
  {
   "cell_type": "code",
   "execution_count": 1,
   "metadata": {},
   "outputs": [],
   "source": [
    "import matplotlib.pyplot as plt\n",
    "import numpy as np\n",
    "import IPython\n",
    "from scipy import signal\n",
    "from scipy.io import wavfile\n",
    "from ipywidgets import interact, fixed, IntSlider, HBox, Layout, Output, VBox\n",
    "import ipywidgets as widgets\n",
    "\n",
    "%matplotlib widget"
   ]
  },
  {
   "cell_type": "markdown",
   "metadata": {},
   "source": [
    "Click here to get to the [Demo](#Demo) part."
   ]
  },
  {
   "cell_type": "markdown",
   "metadata": {},
   "source": [
    "# Experimentation"
   ]
  },
  {
   "cell_type": "code",
   "execution_count": 2,
   "metadata": {},
   "outputs": [
    {
     "data": {
      "text/plain": [
       "(44100, 882151)"
      ]
     },
     "execution_count": 2,
     "metadata": {},
     "output_type": "execute_result"
    }
   ],
   "source": [
    "SF, s = wavfile.read('audiofile.wav')\n",
    "# s = s[::10]\n",
    "# SF = SF//10\n",
    "IPython.display.Audio(s, rate=SF)\n",
    "SF, len(s)"
   ]
  },
  {
   "cell_type": "code",
   "execution_count": 3,
   "metadata": {},
   "outputs": [
    {
     "data": {
      "application/vnd.jupyter.widget-view+json": {
       "model_id": "14e01affe77f4867a0032d86439cbee5",
       "version_major": 2,
       "version_minor": 0
      },
      "text/plain": [
       "Canvas(toolbar=Toolbar(toolitems=[('Home', 'Reset original view', 'home', 'home'), ('Back', 'Back to previous …"
      ]
     },
     "metadata": {},
     "output_type": "display_data"
    }
   ],
   "source": [
    "plt.close('all')\n",
    "plt.figure(figsize=(8, 2))\n",
    "plt.plot(np.linspace(0, len(s)/SF, len(s)), s, linewidth=0.1)\n",
    "plt.show()"
   ]
  },
  {
   "cell_type": "code",
   "execution_count": 4,
   "metadata": {},
   "outputs": [
    {
     "data": {
      "application/vnd.jupyter.widget-view+json": {
       "model_id": "6778b9d294324ac4afc2d0190a3ac703",
       "version_major": 2,
       "version_minor": 0
      },
      "text/plain": [
       "Canvas(toolbar=Toolbar(toolitems=[('Home', 'Reset original view', 'home', 'home'), ('Back', 'Back to previous …"
      ]
     },
     "metadata": {},
     "output_type": "display_data"
    }
   ],
   "source": [
    "s_FT = np.abs(np.fft.fftshift(np.fft.fft(s)))\n",
    "s_FT = s_FT / s_FT.max()\n",
    "w_FT = np.linspace(-SF//2, SF//2, len(s))\n",
    "\n",
    "plt.close('all')\n",
    "plt.figure(figsize=(8, 4))\n",
    "plt.plot(w_FT[3*len(w_FT)//8:5*len(w_FT)//8], s_FT[3*len(s_FT)//8:5*len(s_FT)//8])\n",
    "plt.show()"
   ]
  },
  {
   "cell_type": "code",
   "execution_count": 5,
   "metadata": {},
   "outputs": [
    {
     "name": "stdout",
     "output_type": "stream",
     "text": [
      "2\n"
     ]
    }
   ],
   "source": [
    "# Constructing the filter\n",
    "f_crit = 200\n",
    "order, _ = signal.buttord(f_crit-100, f_crit+100, 3, 10, fs=SF)\n",
    "print(order)\n",
    "b, a = signal.butter(N=order, Wn=f_crit, btype='lowpass', fs=SF)\n",
    "# Frequency response\n",
    "w, h = signal.freqz(b, a, whole=True, fs=SF)\n",
    "h = np.abs(np.fft.fftshift(h))\n",
    "w -= SF//2\n",
    "# Filtering\n",
    "s_filtered = signal.lfilter(b, a, s)"
   ]
  },
  {
   "cell_type": "code",
   "execution_count": 6,
   "metadata": {},
   "outputs": [
    {
     "data": {
      "application/vnd.jupyter.widget-view+json": {
       "model_id": "d932616a092848a282382f3a6860c66d",
       "version_major": 2,
       "version_minor": 0
      },
      "text/plain": [
       "Canvas(toolbar=Toolbar(toolitems=[('Home', 'Reset original view', 'home', 'home'), ('Back', 'Back to previous …"
      ]
     },
     "metadata": {},
     "output_type": "display_data"
    }
   ],
   "source": [
    "plt.close('all')\n",
    "plt.figure(figsize=(10,5))\n",
    "q = 10\n",
    "plt.subplot(121)\n",
    "# plt.plot(w_FT[(q//2-1)*len(w_FT)//q:(q//2+1)*len(w_FT)//q], s_FT[(q//2-1)*len(s_FT)//q:(q//2+1)*len(s_FT)//q], linewidth=0.2)\n",
    "# plt.plot(w[(q//2-1)*len(w)//q:(q//2+1)*len(w)//q], h[(q//2-1)*len(w)//q:(q//2+1)*len(w)//q])\n",
    "plt.plot(w_FT, s_FT, linewidth=0.2)\n",
    "plt.plot(w, h)\n",
    "plt.subplot(122)\n",
    "s_FT_filt = np.abs(np.fft.fftshift(np.fft.fft(s_filtered)))\n",
    "# plt.plot(w_FT[(q//2-1)*len(w_FT)//q:(q//2+1)*len(w_FT)//q], s_FT_filt[(q//2-1)*len(s_FT)//q:(q//2+1)*len(s_FT)//q], linewidth=0.2)\n",
    "plt.plot(w_FT, s_FT_filt, linewidth=0.2)\n",
    "plt.show()"
   ]
  },
  {
   "cell_type": "code",
   "execution_count": 7,
   "metadata": {},
   "outputs": [
    {
     "data": {
      "application/vnd.jupyter.widget-view+json": {
       "model_id": "bca140352b4e40b5b2eaadc92ae4fa05",
       "version_major": 2,
       "version_minor": 0
      },
      "text/plain": [
       "Canvas(toolbar=Toolbar(toolitems=[('Home', 'Reset original view', 'home', 'home'), ('Back', 'Back to previous …"
      ]
     },
     "metadata": {},
     "output_type": "display_data"
    },
    {
     "data": {
      "application/vnd.jupyter.widget-view+json": {
       "model_id": "fbea50c784cb45c4b54fe801a884fc67",
       "version_major": 2,
       "version_minor": 0
      },
      "text/plain": [
       "VBox(children=(HBox(children=(HTML(value='<h3>Original</h3>'), Output(layout=Layout(height='60px', width='320p…"
      ]
     },
     "metadata": {},
     "output_type": "display_data"
    }
   ],
   "source": [
    "plt.close('all')\n",
    "plt.figure(figsize=(8, 4))\n",
    "plt.subplot(211)\n",
    "plt.plot(np.linspace(0, len(s)/SF, len(s)), s, linewidth=0.1)\n",
    "plt.subplot(212)\n",
    "plt.plot(np.linspace(0, len(s)/SF, len(s)), s_filtered, linewidth=0.1)\n",
    "plt.show()\n",
    "out1 = Output(layout={'width': '320px', 'height': '60px'})\n",
    "out2 = Output(layout={'width': '320px', 'height': '60px'})\n",
    "out1.append_display_data(IPython.display.Audio(s, rate=SF))\n",
    "out2.append_display_data(IPython.display.Audio(s_filtered, rate=SF))\n",
    "\n",
    "text1 = widgets.HTML(value=\"<h3>Original</h3>\")\n",
    "text2 = widgets.HTML(value=\"<h3>Filtered</h3>\")\n",
    "\n",
    "display(VBox([HBox([text1, out1]), HBox([text2, out2])]))"
   ]
  },
  {
   "cell_type": "markdown",
   "metadata": {},
   "source": [
    "# Class definition"
   ]
  },
  {
   "cell_type": "code",
   "execution_count": 9,
   "metadata": {},
   "outputs": [],
   "source": [
    "class Filter_Demo():\n",
    "    def __init__(self, filename, filter_method='butter'):\n",
    "        self.out = Output(layout={'width': '980px', 'height': '380px'})\n",
    "        self.axs = []\n",
    "        self.fill_color = 'lightgreen'\n",
    "        self.filter_method = filter_method\n",
    "        \n",
    "        # Read the audio signal from file\n",
    "        self.SF, self.s = wavfile.read(filename)\n",
    "        self.t = np.linspace(0, len(self.s)/self.SF, len(self.s))\n",
    "        \n",
    "        # Generate Fourier Transform of audio signal\n",
    "        s_FT = np.abs(np.fft.fftshift(np.fft.fft(self.s)))\n",
    "        self.s_FT = s_FT / s_FT.max()\n",
    "        self.w_FT = np.linspace(-self.SF//2, self.SF//2, len(self.s))\n",
    "        \n",
    "        # Filter types\n",
    "        self.filter_types = {'lowpass':0, 'highpass':1, 'bandpass':2, 'bandstop':3}\n",
    "        \n",
    "        self.f_crit = self.SF//6\n",
    "        self.filter = list(self.filter_types.keys())[0]\n",
    "        self.filter_idx = self.filter_types[self.filter]\n",
    "        self.s_filtered = None\n",
    "        self.h = None\n",
    "        self.w = None\n",
    "\n",
    "        # Compute the initial filter\n",
    "        self.update_filter(init=True)\n",
    "        \n",
    "        # Inizializate the figure\n",
    "        self.init_figure()\n",
    "        \n",
    "        # Add audio players\n",
    "        self.play_orig = Output(layout={'width': '320px', 'height': '60px'})\n",
    "        self.play_filt = Output(layout={'width': '320px', 'height': '60px'})\n",
    "        self.play_orig.append_display_data(IPython.display.Audio(self.s, rate=self.SF))\n",
    "        self.play_filt.append_display_data(IPython.display.Audio(self.s_filtered, rate=self.SF))\n",
    "\n",
    "        # Descriptive text\n",
    "        self.text_orig = widgets.HTML(value=\"<h3>Original</h3>\")\n",
    "        self.text_filt = widgets.HTML(value=\"<h3>Filtered</h3>\")\n",
    "\n",
    "        # Add frequency sliders\n",
    "        self.f0_slider = widgets.IntSlider(value=self.SF//6, min=10, max=self.SF//2-300, description='$f_0$:',\n",
    "                                          continuous_update=False)\n",
    "        self.f0_slider.observe(self.f0_callback, names='value')\n",
    "        self.f1_slider = widgets.IntSlider(value=2*self.SF//6, min=10, max=self.SF//2-300, description='$f_1$:', \n",
    "                                           continuous_update=False, disabled=True)\n",
    "        self.f1_slider.observe(self.f1_callback, names='value')\n",
    "        \n",
    "        self.apply_button = widgets.Button(description='Apply filter', layout=Layout(width='95%'))\n",
    "        self.apply_button.on_click(self.apply_filter_callback)\n",
    "        \n",
    "        # Add dropdown menu for filter type\n",
    "        self.filter_menu = widgets.Dropdown(options=self.filter_types.keys(), value=self.filter, \n",
    "                                            description='Filter type:', layout=Layout(width='max-content'))\n",
    "        self.filter_menu.observe(self.menu_callback, names='value')\n",
    "        \n",
    "        # Add dropdown menu for filter method\n",
    "        self.method_menu = widgets.Dropdown(options=['butter', 'ellip', 'cheby'], value=self.filter_method, \n",
    "                                            description='Filter method:', layout=Layout(width='max-content'))\n",
    "        self.method_menu.observe(self.method_callback, names='value')\n",
    "        \n",
    "        display(VBox([self.out, HBox([VBox([self.filter_menu,  self.method_menu]), VBox([self.f0_slider, self.f1_slider, self.apply_button]), \n",
    "                                      VBox([HBox([self.text_orig, self.play_orig]), HBox([self.text_filt, self.play_filt])])])]))\n",
    "        plt.tight_layout(pad=0.1, w_pad=1.0, h_pad=0.1)\n",
    "        \n",
    "        self.apply_filter_callback()\n",
    "        \n",
    "    \n",
    "    def init_figure(self):\n",
    "        with self.out:\n",
    "            self.fig = plt.figure(figsize=(8.5, 3.5))\n",
    "            self.gs = self.fig.add_gridspec(2, 2)\n",
    "\n",
    "            # Plot the FT\n",
    "            self.axs.append(self.fig.add_subplot(self.gs[:, 0]))\n",
    "            self.axs[0].set_title(\"Filter and signal spectrum\")\n",
    "            self.axs[0].plot(self.w_FT, self.s_FT, color='blue', linewidth=0.2)\n",
    "            self.axs[0].plot(self.w, self.h, color=self.fill_color, linewidth=0.7)\n",
    "            self.axs[0].set_xlabel('f [Hz]')\n",
    "            self.axs[0].fill(self.w, self.h, facecolor=self.fill_color)\n",
    "            self.axs[0].legend(['Signal', 'Filter'], loc='upper right')\n",
    "            \n",
    "            # Plot the original waveform\n",
    "            self.axs.append(self.fig.add_subplot(self.gs[0, -1]))\n",
    "            self.axs[1].set_title('Original signal')\n",
    "            self.axs[1].plot(self.t, self.s, color='blue', linewidth=0.2)\n",
    "            self.axs[1].set_xlabel('t [s]')\n",
    "            self.axs[1].set_xlim([np.min(self.t), np.max(self.t)])\n",
    "            self.axs[1].set_ylim([np.min(self.s), np.max(self.s)])\n",
    "            self.axs[1].get_yaxis().set_visible(False)\n",
    "            \n",
    "            # Plot the filtered waveform\n",
    "            self.axs.append(self.fig.add_subplot(self.gs[1, -1]))\n",
    "            self.axs[2].set_title(\"Filtered signal\")\n",
    "            self.axs[2].plot(self.t, self.s_filtered, color='blue', linewidth=0.2)\n",
    "            self.axs[2].set_xlabel('t [s]')\n",
    "            self.axs[2].set_xlim([np.min(self.t), np.max(self.t)])\n",
    "            self.axs[2].set_ylim([np.min(self.s), np.max(self.s)])\n",
    "            self.axs[2].get_yaxis().set_visible(False)\n",
    "\n",
    "    def update_filter(self, init=False):\n",
    "        # Constructing the filter\n",
    "        if self.filter_method == 'ellip':\n",
    "            # Elliptic\n",
    "            b, a = signal.ellip(N=5, rp=0.01, rs=100, Wn=self.f_crit, btype=self.filter, fs=self.SF)\n",
    "        elif self.filter_method == 'cheby':\n",
    "            # Chebychev\n",
    "            b, a = signal.cheby1(N=5, rp=0.01, Wn=self.f_crit, btype=self.filter, fs=SF)\n",
    "        else:\n",
    "            # Butterworth\n",
    "            b, a = signal.butter(N=5, Wn=self.f_crit, btype=self.filter, fs=self.SF)\n",
    "        # Frequency response\n",
    "        w, h = signal.freqz(b, a, whole=True, fs=self.SF)\n",
    "        self.h = np.abs(np.fft.fftshift(h))\n",
    "        self.w = w - self.SF//2\n",
    "        # Filtering\n",
    "        self.s_filtered = signal.lfilter(b, a, self.s)\n",
    "        if not init:\n",
    "            self.axs[0].lines[1].set_data(self.w, self.h)\n",
    "            x_lim = self.axs[0].get_xlim()\n",
    "            y_lim = self.axs[0].get_ylim()\n",
    "            # Clear the fill by over-filling with white\n",
    "            self.axs[0].fill([-self.SF, -self.SF+1, self.SF-1, self.SF], [-1, 2, 2, -1], facecolor='white')\n",
    "            # Create new fill\n",
    "            if self.filter_idx % 2 == 1:\n",
    "                self.axs[0].fill(self.w, np.concatenate([[0], self.h[1:-1], [0]]), facecolor=self.fill_color)\n",
    "            else:\n",
    "                self.axs[0].fill(self.w, self.h, facecolor=self.fill_color)\n",
    "            self.axs[0].set_xlim(x_lim)\n",
    "            self.axs[0].set_ylim(y_lim)\n",
    "\n",
    "    def f0_callback(self, value):\n",
    "        if self.filter_idx < 2:\n",
    "            self.f_crit = value['new']\n",
    "        else:\n",
    "            self.f_crit[0] = value['new']\n",
    "        self.update_filter()\n",
    "    def f1_callback(self, value):\n",
    "        if self.filter_idx > 1:\n",
    "            self.f_crit[1] = value['new']\n",
    "        self.update_filter()\n",
    "        \n",
    "    def apply_filter_callback(self, value=None):\n",
    "        self.axs[2].lines[0].set_data(self.t, self.s_filtered)\n",
    "        self.play_filt.clear_output()\n",
    "        self.play_filt.append_display_data(IPython.display.Audio(self.s_filtered, rate=self.SF))\n",
    "        \n",
    "    def menu_callback(self, value):\n",
    "        self.filter = value['new']\n",
    "        self.filter_idx = self.filter_types[self.filter]\n",
    "        if self.filter_idx < 2:\n",
    "            self.f1_slider.disabled = True\n",
    "            self.f_crit = self.f0_slider.value\n",
    "        else:\n",
    "            self.f1_slider.disabled = False\n",
    "            self.f_crit = [self.f0_slider.value, self.f1_slider.value]\n",
    "        self.update_filter()\n",
    "        \n",
    "    def method_callback(self, value):\n",
    "        self.filter_method = value['new']\n",
    "        self.update_filter()"
   ]
  },
  {
   "cell_type": "markdown",
   "metadata": {},
   "source": [
    "# Demo"
   ]
  },
  {
   "cell_type": "code",
   "execution_count": 10,
   "metadata": {},
   "outputs": [
    {
     "data": {
      "application/vnd.jupyter.widget-view+json": {
       "model_id": "19df18493fdc4d31ba58ac0442bb24c3",
       "version_major": 2,
       "version_minor": 0
      },
      "text/plain": [
       "VBox(children=(Output(layout=Layout(height='380px', width='980px')), HBox(children=(VBox(children=(Dropdown(de…"
      ]
     },
     "metadata": {},
     "output_type": "display_data"
    }
   ],
   "source": [
    "plt.close('all')\n",
    "fd = Filter_Demo('audiofile.wav')"
   ]
  },
  {
   "cell_type": "code",
   "execution_count": null,
   "metadata": {},
   "outputs": [],
   "source": []
  }
 ],
 "metadata": {
  "kernelspec": {
   "display_name": "Python 3",
   "language": "python",
   "name": "python3"
  },
  "language_info": {
   "codemirror_mode": {
    "name": "ipython",
    "version": 3
   },
   "file_extension": ".py",
   "mimetype": "text/x-python",
   "name": "python",
   "nbconvert_exporter": "python",
   "pygments_lexer": "ipython3",
   "version": "3.8.5"
  }
 },
 "nbformat": 4,
 "nbformat_minor": 5
}
