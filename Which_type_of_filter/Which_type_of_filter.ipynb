{
 "cells": [
  {
   "cell_type": "markdown",
   "id": "convertible-certificate",
   "metadata": {},
   "source": [
    "# Preparation"
   ]
  },
  {
   "cell_type": "code",
   "execution_count": 1,
   "id": "athletic-reason",
   "metadata": {},
   "outputs": [],
   "source": [
    "from Which_type_of_filter_utils import WhichTypeOfFilter\n",
    "%matplotlib widget\n",
    "\n",
    "WTOF = WhichTypeOfFilter()"
   ]
  },
  {
   "cell_type": "markdown",
   "id": "operating-silly",
   "metadata": {},
   "source": [
    "# Exercise\n",
    "\n",
    "The objective of this exercise is to see the effect of the zeros and poles on the amplitude response and type of filter.\n",
    "\n",
    "The implemented system contains two zeros, $z_1$ and $z_2$, and two poles, $p_1$ and $p_2$ with\n",
    "$$|z_1| = |z_2| = |p_1| = |p_2| \\lt 1$$\n",
    "\n",
    "In the following exercises, you will analyze this system depending on the phase $\\theta$ of the poles and zeros.\n",
    "\n",
    "## 1. Placing poles\n",
    "In this first scenario, two real zeros ($\\theta=0$ or $\\pm\\pi$) are given and the two poles are related by $\\theta(p_1) = -\\theta(p_2)$. Your job is to place the poles (change only their phase $\\theta$) such that the resulting filter corresponds to\n",
    "* A low-pass filter\n",
    "\n",
    "<div class='alert alert-info'>\n",
    "    <b>Hint:</b> Drag and drop the zeros to the correct location and press the <code>submit</code> button. If it turns green, your choice is correct, otherwise try again.\n",
    "</div>"
   ]
  },
  {
   "cell_type": "code",
   "execution_count": 2,
   "id": "coated-somerset",
   "metadata": {},
   "outputs": [
    {
     "data": {
      "application/vnd.jupyter.widget-view+json": {
       "model_id": "cf7dcc6283184fe5b252f74d2c9fa499",
       "version_major": 2,
       "version_minor": 0
      },
      "text/plain": [
       "VBox(children=(Output(layout=Layout(height='450px', width='980px')), HBox(children=(IntSlider(value=2, descrip…"
      ]
     },
     "metadata": {},
     "output_type": "display_data"
    },
    {
     "data": {
      "application/vnd.jupyter.widget-view+json": {
       "model_id": "e460089ed0a940da82ec237b22cb762f",
       "version_major": 2,
       "version_minor": 0
      },
      "text/plain": [
       "Button(description='Submit', layout=Layout(width='100px'), style=ButtonStyle())"
      ]
     },
     "metadata": {},
     "output_type": "display_data"
    }
   ],
   "source": [
    "Ex1 = WTOF.Ex1()"
   ]
  },
  {
   "cell_type": "markdown",
   "id": "sought-phrase",
   "metadata": {},
   "source": [
    "* A high-pass filter"
   ]
  },
  {
   "cell_type": "code",
   "execution_count": 3,
   "id": "worldwide-robin",
   "metadata": {
    "scrolled": false
   },
   "outputs": [
    {
     "data": {
      "application/vnd.jupyter.widget-view+json": {
       "model_id": "f1a1bc9b94104af5981923ddb9871c26",
       "version_major": 2,
       "version_minor": 0
      },
      "text/plain": [
       "VBox(children=(Output(layout=Layout(height='450px', width='980px')), HBox(children=(IntSlider(value=2, descrip…"
      ]
     },
     "metadata": {},
     "output_type": "display_data"
    },
    {
     "data": {
      "application/vnd.jupyter.widget-view+json": {
       "model_id": "9aceb05f7391418a88d305cdbf761baa",
       "version_major": 2,
       "version_minor": 0
      },
      "text/plain": [
       "Button(description='Submit', layout=Layout(width='100px'), style=ButtonStyle())"
      ]
     },
     "metadata": {},
     "output_type": "display_data"
    }
   ],
   "source": [
    "Ex2 = WTOF.Ex2()"
   ]
  },
  {
   "cell_type": "markdown",
   "id": "sharp-shepherd",
   "metadata": {},
   "source": [
    "* What kind of filter do we have for $\\theta=\\dfrac{\\pi}{4}, \\dfrac{\\pi}{2}, \\dfrac{3\\pi}{4}$?"
   ]
  },
  {
   "cell_type": "code",
   "execution_count": 4,
   "id": "massive-sussex",
   "metadata": {},
   "outputs": [
    {
     "data": {
      "application/vnd.jupyter.widget-view+json": {
       "model_id": "1470f670d94442439b17709398e669d7",
       "version_major": 2,
       "version_minor": 0
      },
      "text/plain": [
       "VBox(children=(RadioButtons(layout=Layout(width='max-content'), options=('low-pass', 'high-pass', 'band-pass',…"
      ]
     },
     "metadata": {},
     "output_type": "display_data"
    }
   ],
   "source": [
    "WTOF.Ex3()"
   ]
  },
  {
   "cell_type": "markdown",
   "id": "grave-fancy",
   "metadata": {},
   "source": [
    "* How does the center frequency $\\omega_0$ of the filter (where it achieves its maximum) relate to $\\theta$?"
   ]
  },
  {
   "cell_type": "code",
   "execution_count": 5,
   "id": "silver-structure",
   "metadata": {},
   "outputs": [
    {
     "data": {
      "application/vnd.jupyter.widget-view+json": {
       "model_id": "0db4c4240cf74d05ba57d778620135d8",
       "version_major": 2,
       "version_minor": 0
      },
      "text/plain": [
       "VBox(children=(RadioButtons(layout=Layout(width='max-content'), options=('𝜔0 < 𝜃', '𝜔0 ≈ 𝜃', '𝜔0 = 𝜃', '𝜔0 > 𝜃…"
      ]
     },
     "metadata": {},
     "output_type": "display_data"
    }
   ],
   "source": [
    "WTOF.Ex4()"
   ]
  },
  {
   "cell_type": "markdown",
   "id": "western-demographic",
   "metadata": {},
   "source": [
    "## 2. Placing zeros\n",
    "In this second scenario, two real poles ($\\theta=0$ or $\\pm\\pi$) are given and the two zeros are related by $\\theta(z_1) = -\\theta(z_2)$. Your job is to place the zeros (change only their phase $\\theta$) such that the resulting filter corresponds to\n",
    "* A low-pass filter"
   ]
  },
  {
   "cell_type": "code",
   "execution_count": 6,
   "id": "vulnerable-password",
   "metadata": {},
   "outputs": [
    {
     "data": {
      "application/vnd.jupyter.widget-view+json": {
       "model_id": "bba5ea1025444b94a32fb19812c02887",
       "version_major": 2,
       "version_minor": 0
      },
      "text/plain": [
       "VBox(children=(Output(layout=Layout(height='450px', width='980px')), HBox(children=(IntSlider(value=2, descrip…"
      ]
     },
     "metadata": {},
     "output_type": "display_data"
    },
    {
     "data": {
      "application/vnd.jupyter.widget-view+json": {
       "model_id": "a5ea3c1c0f014c0e85c7a123c0ff5343",
       "version_major": 2,
       "version_minor": 0
      },
      "text/plain": [
       "Button(description='Submit', layout=Layout(width='100px'), style=ButtonStyle())"
      ]
     },
     "metadata": {},
     "output_type": "display_data"
    }
   ],
   "source": [
    "Ex5 = WTOF.Ex5()"
   ]
  },
  {
   "cell_type": "markdown",
   "id": "concrete-output",
   "metadata": {},
   "source": [
    "* A high-pass filter"
   ]
  },
  {
   "cell_type": "code",
   "execution_count": 7,
   "id": "ambient-attachment",
   "metadata": {
    "scrolled": false
   },
   "outputs": [
    {
     "data": {
      "application/vnd.jupyter.widget-view+json": {
       "model_id": "bf82d0b1d69347769f5d3b161d92a048",
       "version_major": 2,
       "version_minor": 0
      },
      "text/plain": [
       "VBox(children=(Output(layout=Layout(height='450px', width='980px')), HBox(children=(IntSlider(value=2, descrip…"
      ]
     },
     "metadata": {},
     "output_type": "display_data"
    },
    {
     "data": {
      "application/vnd.jupyter.widget-view+json": {
       "model_id": "989d92adf8914a22985b55cb13d3ed12",
       "version_major": 2,
       "version_minor": 0
      },
      "text/plain": [
       "Button(description='Submit', layout=Layout(width='100px'), style=ButtonStyle())"
      ]
     },
     "metadata": {},
     "output_type": "display_data"
    }
   ],
   "source": [
    "Ex6 = WTOF.Ex6()"
   ]
  },
  {
   "cell_type": "markdown",
   "id": "demanding-toner",
   "metadata": {},
   "source": [
    "* What kind of filter do we have for $\\theta=\\dfrac{\\pi}{4}, \\dfrac{\\pi}{2}, \\dfrac{3\\pi}{4}$?"
   ]
  },
  {
   "cell_type": "code",
   "execution_count": 8,
   "id": "minute-trinidad",
   "metadata": {},
   "outputs": [
    {
     "data": {
      "application/vnd.jupyter.widget-view+json": {
       "model_id": "b1ad6a994c9a462093b5cf6982f1ece5",
       "version_major": 2,
       "version_minor": 0
      },
      "text/plain": [
       "VBox(children=(RadioButtons(layout=Layout(width='max-content'), options=('low-pass', 'high-pass', 'band-pass',…"
      ]
     },
     "metadata": {},
     "output_type": "display_data"
    }
   ],
   "source": [
    "WTOF.Ex7()"
   ]
  },
  {
   "cell_type": "markdown",
   "id": "relative-worcester",
   "metadata": {},
   "source": [
    "* How does the center cut frequency $\\omega_c$ of the filter (where it achieves its minimum) relate to relate to $\\theta$?"
   ]
  },
  {
   "cell_type": "code",
   "execution_count": 9,
   "id": "configured-northeast",
   "metadata": {},
   "outputs": [
    {
     "data": {
      "application/vnd.jupyter.widget-view+json": {
       "model_id": "89786f0c138b4b1db81e07a10d249087",
       "version_major": 2,
       "version_minor": 0
      },
      "text/plain": [
       "VBox(children=(RadioButtons(layout=Layout(width='max-content'), options=('𝜔c < 𝜃', '𝜔c ≈ 𝜃', '𝜔c = 𝜃', '𝜔c > 𝜃…"
      ]
     },
     "metadata": {},
     "output_type": "display_data"
    }
   ],
   "source": [
    "WTOF.Ex8()"
   ]
  },
  {
   "cell_type": "code",
   "execution_count": null,
   "id": "overhead-tribune",
   "metadata": {},
   "outputs": [],
   "source": []
  }
 ],
 "metadata": {
  "kernelspec": {
   "display_name": "Python 3",
   "language": "python",
   "name": "python3"
  },
  "language_info": {
   "codemirror_mode": {
    "name": "ipython",
    "version": 3
   },
   "file_extension": ".py",
   "mimetype": "text/x-python",
   "name": "python",
   "nbconvert_exporter": "python",
   "pygments_lexer": "ipython3",
   "version": "3.7.9"
  }
 },
 "nbformat": 4,
 "nbformat_minor": 5
}
