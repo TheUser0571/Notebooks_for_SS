{
 "cells": [
  {
   "cell_type": "markdown",
   "id": "convertible-certificate",
   "metadata": {},
   "source": [
    "# Preparation"
   ]
  },
  {
   "cell_type": "code",
   "execution_count": 1,
   "id": "athletic-reason",
   "metadata": {},
   "outputs": [],
   "source": [
    "from Which_type_of_filter_utils import WhichTypeOfFilter\n",
    "%matplotlib widget\n",
    "\n",
    "WTOF = WhichTypeOfFilter()"
   ]
  },
  {
   "cell_type": "markdown",
   "id": "operating-silly",
   "metadata": {},
   "source": [
    "# Exercise\n",
    "\n",
    "The objective of this exercise is to see the effect of the zeros and poles on the amplitude response and type of filter.\n",
    "\n",
    "The implemented system contains two zeros, $z_1$ and $z_2$, and two poles, $p_1$ and $p_2$ with\n",
    "$$|z_1| = |z_2| = |p_1| = |p_2| \\lt 1$$\n",
    "\n",
    "In the following exercises, you will analyze this system depending on the phase $\\theta$ of the poles and zeros.\n",
    "\n",
    "## 1. Placing poles\n",
    "In this first scenario, two real zeros ($\\theta=0$ or $\\pm\\pi$) are given and the two poles are related by $\\theta(p_1) = -\\theta(p_2)$. Your job is to place the poles (change only their phase $\\theta$) such that the resulting filter corresponds to\n",
    "* A low-pass filter\n",
    "\n",
    "<div class='alert alert-info'>\n",
    "    <b>Hint:</b> Drag and drop the zeros to the correct location and press the <code>submit</code> button. If it turns green, your choice is correct, otherwise try again.\n",
    "</div>"
   ]
  },
  {
   "cell_type": "code",
   "execution_count": 2,
   "id": "coated-somerset",
   "metadata": {},
   "outputs": [
    {
     "data": {
      "application/vnd.jupyter.widget-view+json": {
       "model_id": "35fdc7b9329a4d2099da05e634955624",
       "version_major": 2,
       "version_minor": 0
      },
      "text/plain": [
       "VBox(children=(Output(layout=Layout(height='450px', width='980px')), HBox(children=(IntSlider(value=2, descrip…"
      ]
     },
     "metadata": {},
     "output_type": "display_data"
    },
    {
     "data": {
      "application/vnd.jupyter.widget-view+json": {
       "model_id": "f3c6a4fcf52d4be8b5fa55ea6c22cb73",
       "version_major": 2,
       "version_minor": 0
      },
      "text/plain": [
       "Button(description='Submit', layout=Layout(width='100px'), style=ButtonStyle())"
      ]
     },
     "metadata": {},
     "output_type": "display_data"
    }
   ],
   "source": [
    "Ex1 = WTOF.Ex1()"
   ]
  },
  {
   "cell_type": "markdown",
   "id": "sought-phrase",
   "metadata": {},
   "source": [
    "* A high-pass filter"
   ]
  },
  {
   "cell_type": "code",
   "execution_count": 3,
   "id": "worldwide-robin",
   "metadata": {},
   "outputs": [
    {
     "data": {
      "application/vnd.jupyter.widget-view+json": {
       "model_id": "5348c63ebf274383ace8bbc48b0f9429",
       "version_major": 2,
       "version_minor": 0
      },
      "text/plain": [
       "VBox(children=(Output(layout=Layout(height='450px', width='980px')), HBox(children=(IntSlider(value=2, descrip…"
      ]
     },
     "metadata": {},
     "output_type": "display_data"
    },
    {
     "data": {
      "application/vnd.jupyter.widget-view+json": {
       "model_id": "94d9062819c44508b541d1dcdaf7cf5a",
       "version_major": 2,
       "version_minor": 0
      },
      "text/plain": [
       "Button(description='Submit', layout=Layout(width='100px'), style=ButtonStyle())"
      ]
     },
     "metadata": {},
     "output_type": "display_data"
    }
   ],
   "source": [
    "Ex2 = WTOF.Ex2()"
   ]
  },
  {
   "cell_type": "markdown",
   "id": "sharp-shepherd",
   "metadata": {},
   "source": [
    "* What kind of filter do we have for $\\theta=\\dfrac{\\pi}{4}, \\dfrac{\\pi}{2}, \\dfrac{3\\pi}{4}$?"
   ]
  },
  {
   "cell_type": "code",
   "execution_count": 4,
   "id": "massive-sussex",
   "metadata": {},
   "outputs": [
    {
     "data": {
      "application/vnd.jupyter.widget-view+json": {
       "model_id": "e53e087c303c4a2c96bb2fd5e80fdcca",
       "version_major": 2,
       "version_minor": 0
      },
      "text/plain": [
       "VBox(children=(RadioButtons(layout=Layout(width='max-content'), options=('low-pass', 'high-pass', 'band-pass',…"
      ]
     },
     "metadata": {},
     "output_type": "display_data"
    }
   ],
   "source": [
    "WTOF.Ex3()"
   ]
  },
  {
   "cell_type": "markdown",
   "id": "grave-fancy",
   "metadata": {},
   "source": [
    "* How does the center frequency $\\omega_0$ of the filter (where it achieves its maximum) relate to $\\theta$?"
   ]
  },
  {
   "cell_type": "code",
   "execution_count": 5,
   "id": "silver-structure",
   "metadata": {},
   "outputs": [
    {
     "data": {
      "application/vnd.jupyter.widget-view+json": {
       "model_id": "93615754cd5c450484b464b04171974a",
       "version_major": 2,
       "version_minor": 0
      },
      "text/plain": [
       "VBox(children=(RadioButtons(layout=Layout(width='max-content'), options=('𝜔0 < 𝜃', '𝜔0 ≈ 𝜃', '𝜔0 = 𝜃', '𝜔0 > 𝜃…"
      ]
     },
     "metadata": {},
     "output_type": "display_data"
    }
   ],
   "source": [
    "WTOF.Ex4()"
   ]
  },
  {
   "cell_type": "markdown",
   "id": "western-demographic",
   "metadata": {},
   "source": [
    "## 2. Placing zeros\n",
    "In this second scenario, two real poles ($\\theta=0$ or $\\pm\\pi$) are given and the two zeros are related by $\\theta(z_1) = -\\theta(z_2)$. Your job is to place the zeros (change only their phase $\\theta$) such that the resulting filter corresponds to\n",
    "* A low-pass filter"
   ]
  },
  {
   "cell_type": "code",
   "execution_count": 6,
   "id": "vulnerable-password",
   "metadata": {},
   "outputs": [
    {
     "data": {
      "application/vnd.jupyter.widget-view+json": {
       "model_id": "5b8a2862c1854149b8d6a2f9773c1de6",
       "version_major": 2,
       "version_minor": 0
      },
      "text/plain": [
       "VBox(children=(Output(layout=Layout(height='450px', width='980px')), HBox(children=(IntSlider(value=2, descrip…"
      ]
     },
     "metadata": {},
     "output_type": "display_data"
    },
    {
     "data": {
      "application/vnd.jupyter.widget-view+json": {
       "model_id": "244da3b8a0df4327821f85016fc05768",
       "version_major": 2,
       "version_minor": 0
      },
      "text/plain": [
       "Button(description='Submit', layout=Layout(width='100px'), style=ButtonStyle())"
      ]
     },
     "metadata": {},
     "output_type": "display_data"
    }
   ],
   "source": [
    "Ex5 = WTOF.Ex5()"
   ]
  },
  {
   "cell_type": "markdown",
   "id": "concrete-output",
   "metadata": {},
   "source": [
    "* A high-pass filter"
   ]
  },
  {
   "cell_type": "code",
   "execution_count": 7,
   "id": "ambient-attachment",
   "metadata": {},
   "outputs": [
    {
     "data": {
      "application/vnd.jupyter.widget-view+json": {
       "model_id": "b9f40c7ee0304277aadc75c13742ae84",
       "version_major": 2,
       "version_minor": 0
      },
      "text/plain": [
       "VBox(children=(Output(layout=Layout(height='450px', width='980px')), HBox(children=(IntSlider(value=2, descrip…"
      ]
     },
     "metadata": {},
     "output_type": "display_data"
    },
    {
     "data": {
      "application/vnd.jupyter.widget-view+json": {
       "model_id": "63c3026cb1a6476997eb8864d794ff86",
       "version_major": 2,
       "version_minor": 0
      },
      "text/plain": [
       "Button(description='Submit', layout=Layout(width='100px'), style=ButtonStyle())"
      ]
     },
     "metadata": {},
     "output_type": "display_data"
    }
   ],
   "source": [
    "Ex6 = WTOF.Ex6()"
   ]
  },
  {
   "cell_type": "markdown",
   "id": "demanding-toner",
   "metadata": {},
   "source": [
    "* What kind of filter do we have for $\\theta=\\dfrac{\\pi}{4}, \\dfrac{\\pi}{2}, \\dfrac{3\\pi}{4}$?"
   ]
  },
  {
   "cell_type": "code",
   "execution_count": 8,
   "id": "minute-trinidad",
   "metadata": {},
   "outputs": [
    {
     "data": {
      "application/vnd.jupyter.widget-view+json": {
       "model_id": "7065f573718d4cdcbd3e1c4f587c3ffd",
       "version_major": 2,
       "version_minor": 0
      },
      "text/plain": [
       "VBox(children=(RadioButtons(layout=Layout(width='max-content'), options=('low-pass', 'high-pass', 'band-pass',…"
      ]
     },
     "metadata": {},
     "output_type": "display_data"
    }
   ],
   "source": [
    "WTOF.Ex7()"
   ]
  },
  {
   "cell_type": "markdown",
   "id": "relative-worcester",
   "metadata": {},
   "source": [
    "* How does the center cut frequency $\\omega_c$ of the filter (where it achieves its minimum) relate to relate to $\\theta$?"
   ]
  },
  {
   "cell_type": "code",
   "execution_count": 9,
   "id": "configured-northeast",
   "metadata": {},
   "outputs": [
    {
     "data": {
      "application/vnd.jupyter.widget-view+json": {
       "model_id": "a7ab54ce50eb402aa000e152152e49e6",
       "version_major": 2,
       "version_minor": 0
      },
      "text/plain": [
       "VBox(children=(RadioButtons(layout=Layout(width='max-content'), options=('𝜔c < 𝜃', '𝜔c ≈ 𝜃', '𝜔c = 𝜃', '𝜔c > 𝜃…"
      ]
     },
     "metadata": {},
     "output_type": "display_data"
    }
   ],
   "source": [
    "WTOF.Ex8()"
   ]
  }
 ],
 "metadata": {
  "kernelspec": {
   "display_name": "Python 3 (ipykernel)",
   "language": "python",
   "name": "python3"
  },
  "language_info": {
   "codemirror_mode": {
    "name": "ipython",
    "version": 3
   },
   "file_extension": ".py",
   "mimetype": "text/x-python",
   "name": "python",
   "nbconvert_exporter": "python",
   "pygments_lexer": "ipython3",
   "version": "3.8.10"
  }
 },
 "nbformat": 4,
 "nbformat_minor": 5
}
