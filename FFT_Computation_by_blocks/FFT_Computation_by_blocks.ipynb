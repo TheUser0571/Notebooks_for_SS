{
 "cells": [
  {
   "cell_type": "code",
   "execution_count": 2,
   "id": "obvious-business",
   "metadata": {},
   "outputs": [],
   "source": [
    "import numpy as np\n",
    "import matplotlib.pyplot as plt\n",
    "from scipy import signal\n",
    "\n",
    "%matplotlib widget"
   ]
  },
  {
   "cell_type": "markdown",
   "id": "persistent-safety",
   "metadata": {},
   "source": [
    "# Creating the signal and kernel"
   ]
  },
  {
   "cell_type": "code",
   "execution_count": 3,
   "id": "common-canyon",
   "metadata": {},
   "outputs": [
    {
     "data": {
      "text/plain": [
       "(3000,)"
      ]
     },
     "execution_count": 3,
     "metadata": {},
     "output_type": "execute_result"
    }
   ],
   "source": [
    "num_samples = 3000\n",
    "x = np.random.normal(0, 1, size=num_samples)\n",
    "x.shape"
   ]
  },
  {
   "cell_type": "code",
   "execution_count": 4,
   "id": "cellular-communist",
   "metadata": {},
   "outputs": [
    {
     "data": {
      "application/vnd.jupyter.widget-view+json": {
       "model_id": "38bf0594eded4d72b3766980417fd908",
       "version_major": 2,
       "version_minor": 0
      },
      "text/plain": [
       "Canvas(toolbar=Toolbar(toolitems=[('Home', 'Reset original view', 'home', 'home'), ('Back', 'Back to previous …"
      ]
     },
     "metadata": {},
     "output_type": "display_data"
    }
   ],
   "source": [
    "plt.close('all')\n",
    "plt.title('Random Noise ($\\mu=0$, $\\sigma=1$)')\n",
    "plt.plot(x)\n",
    "plt.show()"
   ]
  },
  {
   "cell_type": "code",
   "execution_count": 5,
   "id": "liberal-whale",
   "metadata": {},
   "outputs": [
    {
     "data": {
      "text/plain": [
       "(100,)"
      ]
     },
     "execution_count": 5,
     "metadata": {},
     "output_type": "execute_result"
    }
   ],
   "source": [
    "kernel = signal.gaussian(100, 10)\n",
    "kernel.shape"
   ]
  },
  {
   "cell_type": "code",
   "execution_count": 6,
   "id": "radio-enough",
   "metadata": {},
   "outputs": [
    {
     "data": {
      "application/vnd.jupyter.widget-view+json": {
       "model_id": "14fa2a1b328f42e6be9c0f22b45e3415",
       "version_major": 2,
       "version_minor": 0
      },
      "text/plain": [
       "Canvas(toolbar=Toolbar(toolitems=[('Home', 'Reset original view', 'home', 'home'), ('Back', 'Back to previous …"
      ]
     },
     "metadata": {},
     "output_type": "display_data"
    }
   ],
   "source": [
    "plt.close('all')\n",
    "plt.title('Gaussian Kernel ($\\sigma=10$)')\n",
    "plt.plot(kernel)\n",
    "plt.show()"
   ]
  },
  {
   "cell_type": "markdown",
   "id": "executed-effects",
   "metadata": {},
   "source": [
    "# Traditional filtering (Convolution)"
   ]
  },
  {
   "cell_type": "code",
   "execution_count": 7,
   "id": "essential-supplement",
   "metadata": {},
   "outputs": [
    {
     "data": {
      "text/plain": [
       "(3099,)"
      ]
     },
     "execution_count": 7,
     "metadata": {},
     "output_type": "execute_result"
    }
   ],
   "source": [
    "M = kernel.shape[0]\n",
    "x_filtered = np.convolve(x, kernel, mode='full')\n",
    "x_filtered.shape"
   ]
  },
  {
   "cell_type": "code",
   "execution_count": 8,
   "id": "fiscal-percentage",
   "metadata": {},
   "outputs": [
    {
     "data": {
      "application/vnd.jupyter.widget-view+json": {
       "model_id": "93a9022ea9064c9eac28f77ce77370ba",
       "version_major": 2,
       "version_minor": 0
      },
      "text/plain": [
       "Canvas(toolbar=Toolbar(toolitems=[('Home', 'Reset original view', 'home', 'home'), ('Back', 'Back to previous …"
      ]
     },
     "metadata": {},
     "output_type": "display_data"
    }
   ],
   "source": [
    "plt.close('all')\n",
    "plt.title('Filtered signal')\n",
    "plt.plot(x_filtered)\n",
    "plt.show()"
   ]
  },
  {
   "cell_type": "markdown",
   "id": "spanish-russian",
   "metadata": {},
   "source": [
    "# DFT filtering"
   ]
  },
  {
   "cell_type": "code",
   "execution_count": 9,
   "id": "ranking-fountain",
   "metadata": {},
   "outputs": [
    {
     "name": "stdout",
     "output_type": "stream",
     "text": [
      "(3099,)\n",
      "(3099,)\n"
     ]
    }
   ],
   "source": [
    "# Zero padding\n",
    "x_padded = np.hstack([x, np.zeros(M-1)])\n",
    "print(x_padded.shape)\n",
    "kernel_padded = np.hstack([kernel, np.zeros(x.shape[0]-1)])\n",
    "print(kernel_padded.shape)"
   ]
  },
  {
   "cell_type": "code",
   "execution_count": 10,
   "id": "sticky-walnut",
   "metadata": {},
   "outputs": [
    {
     "data": {
      "application/vnd.jupyter.widget-view+json": {
       "model_id": "42fdace81b0745b0b6378c69d879fbe2",
       "version_major": 2,
       "version_minor": 0
      },
      "text/plain": [
       "Canvas(toolbar=Toolbar(toolitems=[('Home', 'Reset original view', 'home', 'home'), ('Back', 'Back to previous …"
      ]
     },
     "metadata": {},
     "output_type": "display_data"
    }
   ],
   "source": [
    "plt.close('all')\n",
    "plt.figure(figsize=(9,3))\n",
    "plt.subplot(121)\n",
    "plt.title('Padded Random Noise ($\\mu=0$, $\\sigma=1$)')\n",
    "plt.plot(x_padded)\n",
    "plt.subplot(122)\n",
    "plt.title('Padded Gaussian Kernel ($\\sigma=10$)')\n",
    "plt.plot(kernel_padded)\n",
    "plt.show()"
   ]
  },
  {
   "cell_type": "code",
   "execution_count": 11,
   "id": "orange-editing",
   "metadata": {},
   "outputs": [
    {
     "name": "stdout",
     "output_type": "stream",
     "text": [
      "(3099,)\n",
      "(3099,)\n",
      "(3099,)\n"
     ]
    }
   ],
   "source": [
    "# Filtering by multiplying in the Fourier domain\n",
    "x_FT = np.fft.fft(x_padded)\n",
    "print(x_FT.shape)\n",
    "kernel_FT = np.fft.fft(kernel_padded)\n",
    "print(kernel_FT.shape)\n",
    "x_filtered_FT = np.fft.ifft(x_FT * kernel_FT).real\n",
    "print(x_filtered_FT.shape)"
   ]
  },
  {
   "cell_type": "code",
   "execution_count": 19,
   "id": "cooperative-importance",
   "metadata": {
    "scrolled": false
   },
   "outputs": [
    {
     "data": {
      "application/vnd.jupyter.widget-view+json": {
       "model_id": "d8a62a1b4f864bef887fa5c639e2c7c3",
       "version_major": 2,
       "version_minor": 0
      },
      "text/plain": [
       "Canvas(toolbar=Toolbar(toolitems=[('Home', 'Reset original view', 'home', 'home'), ('Back', 'Back to previous …"
      ]
     },
     "metadata": {},
     "output_type": "display_data"
    }
   ],
   "source": [
    "plt.close('all')\n",
    "plt.figure(figsize=(9,4))\n",
    "plt.subplot(211)\n",
    "plt.title('Traditional filtering')\n",
    "plt.plot(x_filtered)\n",
    "plt.subplot(212)\n",
    "plt.title('DFT filtering')\n",
    "plt.plot(x_filtered_FT)\n",
    "plt.tight_layout()\n",
    "plt.show()"
   ]
  },
  {
   "cell_type": "markdown",
   "id": "remarkable-cherry",
   "metadata": {},
   "source": [
    "# DFT filtering by blocks"
   ]
  },
  {
   "cell_type": "code",
   "execution_count": 20,
   "id": "cloudy-kitty",
   "metadata": {},
   "outputs": [
    {
     "name": "stdout",
     "output_type": "stream",
     "text": [
      "(1000,) (1000,) (1000,)\n"
     ]
    }
   ],
   "source": [
    "# Block separation\n",
    "x_1 = x[:x.shape[0]//3]\n",
    "x_2 = x[x.shape[0]//3:2*x.shape[0]//3]\n",
    "x_3 = x[2*x.shape[0]//3:]\n",
    "print(x_1.shape, x_2.shape, x_3.shape)"
   ]
  },
  {
   "cell_type": "markdown",
   "id": "compact-centre",
   "metadata": {},
   "source": [
    "## Method 1: Overlap add\n",
    "<img src=\"images/slide_11-5.png\" alt=\"slide 11-5\" width=\"800\">"
   ]
  },
  {
   "cell_type": "code",
   "execution_count": 21,
   "id": "romantic-force",
   "metadata": {},
   "outputs": [
    {
     "name": "stdout",
     "output_type": "stream",
     "text": [
      "(1099,)\n",
      "(1099,)\n",
      "(1099,)\n",
      "(1099,)\n"
     ]
    }
   ],
   "source": [
    "# Zero padding\n",
    "kernel_padded = np.hstack([kernel, np.zeros(x_1.shape[0]-1)])\n",
    "print(kernel_padded.shape)\n",
    "x_1_padded = np.hstack([x_1, np.zeros(M-1)])\n",
    "print(x_1_padded.shape)\n",
    "x_2_padded = np.hstack([x_2, np.zeros(M-1)])\n",
    "print(x_2_padded.shape)\n",
    "x_3_padded = np.hstack([x_3, np.zeros(M-1)])\n",
    "print(x_3_padded.shape)\n",
    "\n",
    "# DFT filtering\n",
    "kernel_FT = np.fft.fft(kernel_padded)\n",
    "x_1_FT = np.fft.fft(x_1_padded)\n",
    "x_1_filtered_FT = np.fft.ifft(x_1_FT * kernel_FT).real\n",
    "x_2_FT = np.fft.fft(x_2_padded)\n",
    "x_2_filtered_FT = np.fft.ifft(x_2_FT * kernel_FT).real\n",
    "x_3_FT = np.fft.fft(x_3_padded)\n",
    "x_3_filtered_FT = np.fft.ifft(x_3_FT * kernel_FT).real"
   ]
  },
  {
   "cell_type": "code",
   "execution_count": 22,
   "id": "interracial-luxury",
   "metadata": {},
   "outputs": [
    {
     "data": {
      "application/vnd.jupyter.widget-view+json": {
       "model_id": "d74f962a4e8a48169c10638d847323b0",
       "version_major": 2,
       "version_minor": 0
      },
      "text/plain": [
       "Canvas(toolbar=Toolbar(toolitems=[('Home', 'Reset original view', 'home', 'home'), ('Back', 'Back to previous …"
      ]
     },
     "metadata": {},
     "output_type": "display_data"
    }
   ],
   "source": [
    "plt.close('all')\n",
    "fig, axs = plt.subplots(1, 3, figsize=(9,3))\n",
    "axs[0].plot(x_1_filtered_FT)\n",
    "axs[0].set_title('$x_1$')\n",
    "axs[1].plot(x_2_filtered_FT)\n",
    "axs[1].set_title('$x_2$')\n",
    "axs[2].plot(x_3_filtered_FT)\n",
    "axs[2].set_title('$x_3$')\n",
    "plt.tight_layout()\n",
    "plt.show()"
   ]
  },
  {
   "cell_type": "code",
   "execution_count": 23,
   "id": "empty-indication",
   "metadata": {},
   "outputs": [],
   "source": [
    "x_1_filtered_FT_padded = np.zeros(3*x_1.shape[0]+M-1)\n",
    "x_2_filtered_FT_padded = np.zeros(3*x_1.shape[0]+M-1)\n",
    "x_3_filtered_FT_padded = np.zeros(3*x_1.shape[0]+M-1)\n",
    "\n",
    "# Index shifting\n",
    "x_1_filtered_FT_padded[:x_1_filtered_FT.shape[0]] = x_1_filtered_FT\n",
    "x_2_filtered_FT_padded[x_1_filtered_FT.shape[0]-(M-1):2*x_1_filtered_FT.shape[0]-(M-1)] = x_2_filtered_FT\n",
    "x_3_filtered_FT_padded[2*x_1_filtered_FT.shape[0]-2*(M-1):] = x_3_filtered_FT\n",
    "\n",
    "# Creation of the final signal by addition of the index-shifted blocks\n",
    "x_filtered_blocks = x_1_filtered_FT_padded + x_2_filtered_FT_padded + x_3_filtered_FT_padded"
   ]
  },
  {
   "cell_type": "code",
   "execution_count": 24,
   "id": "narrow-disclosure",
   "metadata": {},
   "outputs": [
    {
     "data": {
      "application/vnd.jupyter.widget-view+json": {
       "model_id": "0d3b1894cf67478792da75399eee64f9",
       "version_major": 2,
       "version_minor": 0
      },
      "text/plain": [
       "Canvas(toolbar=Toolbar(toolitems=[('Home', 'Reset original view', 'home', 'home'), ('Back', 'Back to previous …"
      ]
     },
     "metadata": {},
     "output_type": "display_data"
    }
   ],
   "source": [
    "indices = np.linspace(0, x_1_filtered_FT_padded.shape[0]-1, x_1_filtered_FT_padded.shape[0])\n",
    "plt.close('all')\n",
    "fig, axs = plt.subplots(3, 1, figsize=(9,6))\n",
    "\n",
    "# Only display the non-zero components of the index-shifted blocks\n",
    "axs[0].plot(indices[x_1_filtered_FT_padded != 0], x_1_filtered_FT_padded[x_1_filtered_FT_padded != 0], label='$x_1$')\n",
    "axs[0].plot(indices[x_2_filtered_FT_padded != 0], x_2_filtered_FT_padded[x_2_filtered_FT_padded != 0], label='$x_2$')\n",
    "axs[0].plot(indices[x_3_filtered_FT_padded != 0], x_3_filtered_FT_padded[x_3_filtered_FT_padded != 0], label='$x_3$')\n",
    "axs[0].set_title('DFT filtered blocks')\n",
    "axs[0].legend(loc='upper right')\n",
    "\n",
    "axs[1].plot(x_filtered_blocks)\n",
    "axs[1].set_title('DFT filtered signal')\n",
    "\n",
    "axs[2].plot(x_filtered)\n",
    "axs[2].set_title('Traditionally filtered signal')\n",
    "\n",
    "plt.tight_layout()\n",
    "plt.show()"
   ]
  },
  {
   "cell_type": "markdown",
   "id": "external-given",
   "metadata": {},
   "source": [
    "## Method 2: Overlap save\n",
    "<img src=\"images/slide_11-6.png\" alt=\"slide 11-6\" width=\"900\">"
   ]
  },
  {
   "cell_type": "code",
   "execution_count": 25,
   "id": "clean-butterfly",
   "metadata": {},
   "outputs": [
    {
     "name": "stdout",
     "output_type": "stream",
     "text": [
      "(1099,)\n",
      "(1099,)\n",
      "(1099,)\n",
      "(1099,)\n",
      "(1099,)\n"
     ]
    }
   ],
   "source": [
    "# Creation of extended blocks\n",
    "kernel_padded = np.hstack([kernel, np.zeros(x_1.shape[0]-1)])\n",
    "print(kernel_padded.shape)\n",
    "x_1_extended = np.hstack([np.zeros(M-1), x_1])\n",
    "print(x_1_extended.shape)\n",
    "x_2_extended = np.hstack([x_1[-(M-1):], x_2])\n",
    "print(x_2_extended.shape)\n",
    "x_3_extended = np.hstack([x_2[-(M-1):], x_3])\n",
    "print(x_3_extended.shape)\n",
    "# A 4th block is necessary to get the last M-1-1 values (because of 'full' convolution)\n",
    "x_4_extended = np.hstack([x_3[-(M-1):], np.zeros(x_3.shape[0])])\n",
    "print(x_4_extended.shape)\n",
    "\n",
    "# DFT filtering\n",
    "x_1_FT = np.fft.fft(x_1_extended)\n",
    "x_1_filtered_FT = np.fft.ifft(x_1_FT * kernel_FT).real\n",
    "x_2_FT = np.fft.fft(x_2_extended)\n",
    "x_2_filtered_FT = np.fft.ifft(x_2_FT * kernel_FT).real\n",
    "x_3_FT = np.fft.fft(x_3_extended)\n",
    "x_3_filtered_FT = np.fft.ifft(x_3_FT * kernel_FT).real\n",
    "x_4_FT = np.fft.fft(x_4_extended)\n",
    "x_4_filtered_FT = np.fft.ifft(x_4_FT * kernel_FT).real"
   ]
  },
  {
   "cell_type": "code",
   "execution_count": 26,
   "id": "widespread-birmingham",
   "metadata": {},
   "outputs": [
    {
     "data": {
      "application/vnd.jupyter.widget-view+json": {
       "model_id": "4d0c2136ecbe463fb684b61d4bf24be9",
       "version_major": 2,
       "version_minor": 0
      },
      "text/plain": [
       "Canvas(toolbar=Toolbar(toolitems=[('Home', 'Reset original view', 'home', 'home'), ('Back', 'Back to previous …"
      ]
     },
     "metadata": {},
     "output_type": "display_data"
    }
   ],
   "source": [
    "plt.close('all')\n",
    "fig, axs = plt.subplots(2, 2, figsize=(9,5))\n",
    "\n",
    "axs[0][0].plot(x_1_filtered_FT)\n",
    "axs[0][0].set_title('$x_1$')\n",
    "\n",
    "axs[0][1].plot(x_2_filtered_FT)\n",
    "axs[0][1].set_title('$x_2$')\n",
    "\n",
    "axs[1][0].plot(x_3_filtered_FT)\n",
    "axs[1][0].set_title('$x_3$')\n",
    "\n",
    "axs[1][1].plot(x_4_filtered_FT)\n",
    "axs[1][1].set_title('$x_4$')\n",
    "\n",
    "plt.tight_layout()\n",
    "plt.show()"
   ]
  },
  {
   "cell_type": "code",
   "execution_count": 27,
   "id": "rocky-greece",
   "metadata": {},
   "outputs": [
    {
     "data": {
      "text/plain": [
       "(3099,)"
      ]
     },
     "execution_count": 27,
     "metadata": {},
     "output_type": "execute_result"
    }
   ],
   "source": [
    "# Combining the blocks to form the final filtered signal (remove the first M-1 values from all blocks).\n",
    "x_filtered_blocks = np.hstack([x_1_filtered_FT[M-1:], x_2_filtered_FT[M-1:], x_3_filtered_FT[M-1:], x_4_filtered_FT[M-1:2*(M-1)]])\n",
    "x_filtered_blocks.shape"
   ]
  },
  {
   "cell_type": "code",
   "execution_count": 28,
   "id": "interracial-asset",
   "metadata": {},
   "outputs": [
    {
     "data": {
      "application/vnd.jupyter.widget-view+json": {
       "model_id": "939e7b79db954f7386f88ce7ba597524",
       "version_major": 2,
       "version_minor": 0
      },
      "text/plain": [
       "Canvas(toolbar=Toolbar(toolitems=[('Home', 'Reset original view', 'home', 'home'), ('Back', 'Back to previous …"
      ]
     },
     "metadata": {},
     "output_type": "display_data"
    }
   ],
   "source": [
    "indices = np.linspace(-(M-1), x_filtered_blocks.shape[0]-1, x_filtered_blocks.shape[0]+(M-1))\n",
    "plt.close('all')\n",
    "fig, axs = plt.subplots(3, 1, figsize=(9,6))\n",
    "\n",
    "# Discard the first M-1 values since we don't need them\n",
    "axs[0].plot(indices[M-1:x_1_filtered_FT.shape[0]], x_1_filtered_FT[M-1:], label='$x_1$')\n",
    "axs[0].plot(indices[x_1_filtered_FT.shape[0]-(M-1):2*x_1_filtered_FT.shape[0]-(M-1)], x_2_filtered_FT, label='$x_2$')\n",
    "axs[0].plot(indices[2*(x_1_filtered_FT.shape[0]-(M-1)):3*x_1_filtered_FT.shape[0]-2*(M-1)], x_3_filtered_FT, label='$x_3$')\n",
    "# Only keep the first 2*(M-1) values from the last block since we don't need the rest\n",
    "axs[0].plot(indices[3*(x_1_filtered_FT.shape[0]-(M-1)):], x_4_filtered_FT[:2*(M-1)], label='$x_4$')\n",
    "axs[0].set_title('DFT filtered blocks')\n",
    "axs[0].legend(loc='upper right')\n",
    "\n",
    "axs[1].plot(x_filtered_blocks)\n",
    "axs[1].set_title('DFT filtered signal')\n",
    "\n",
    "axs[2].plot(x_filtered)\n",
    "axs[2].set_title('Traditionally filtered signal')\n",
    "\n",
    "plt.tight_layout()\n",
    "plt.show()"
   ]
  },
  {
   "cell_type": "code",
   "execution_count": null,
   "id": "logical-penguin",
   "metadata": {},
   "outputs": [],
   "source": []
  }
 ],
 "metadata": {
  "kernelspec": {
   "display_name": "Python 3",
   "language": "python",
   "name": "python3"
  },
  "language_info": {
   "codemirror_mode": {
    "name": "ipython",
    "version": 3
   },
   "file_extension": ".py",
   "mimetype": "text/x-python",
   "name": "python",
   "nbconvert_exporter": "python",
   "pygments_lexer": "ipython3",
   "version": "3.7.9"
  }
 },
 "nbformat": 4,
 "nbformat_minor": 5
}
