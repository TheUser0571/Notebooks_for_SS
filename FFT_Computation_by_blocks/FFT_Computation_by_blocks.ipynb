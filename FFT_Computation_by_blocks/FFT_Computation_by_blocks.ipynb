{
 "cells": [
  {
   "cell_type": "code",
   "execution_count": 1,
   "id": "obvious-business",
   "metadata": {},
   "outputs": [],
   "source": [
    "import numpy as np\n",
    "import matplotlib.pyplot as plt\n",
    "from FFT_Computation_by_blocks_utils import *\n",
    "\n",
    "%matplotlib widget"
   ]
  },
  {
   "cell_type": "markdown",
   "id": "persistent-safety",
   "metadata": {},
   "source": [
    "# Creating the signal and kernel"
   ]
  },
  {
   "cell_type": "code",
   "execution_count": 2,
   "id": "cloudy-playlist",
   "metadata": {},
   "outputs": [
    {
     "data": {
      "application/vnd.jupyter.widget-view+json": {
       "model_id": "8db086f3f8ca4b1085acaea2b0423c12",
       "version_major": 2,
       "version_minor": 0
      },
      "text/plain": [
       "Canvas(toolbar=Toolbar(toolitems=[('Home', 'Reset original view', 'home', 'home'), ('Back', 'Back to previous …"
      ]
     },
     "metadata": {},
     "output_type": "display_data"
    }
   ],
   "source": [
    "x, kernel = create_signal_and_kernel(num_samples=3000, mu=0, sig=1, kernel_size=100, kernel_sig=10)"
   ]
  },
  {
   "cell_type": "markdown",
   "id": "executed-effects",
   "metadata": {},
   "source": [
    "# Traditional filtering (Convolution)"
   ]
  },
  {
   "cell_type": "code",
   "execution_count": 3,
   "id": "stuffed-forth",
   "metadata": {},
   "outputs": [],
   "source": [
    "x_filtered = convolution_filter(x, kernel)"
   ]
  },
  {
   "cell_type": "markdown",
   "id": "spanish-russian",
   "metadata": {
    "tags": []
   },
   "source": [
    "# DFT filtering"
   ]
  },
  {
   "cell_type": "code",
   "execution_count": 4,
   "id": "available-enforcement",
   "metadata": {},
   "outputs": [
    {
     "data": {
      "application/vnd.jupyter.widget-view+json": {
       "model_id": "cd7b78543cca4d269d1a27006ccbfa9f",
       "version_major": 2,
       "version_minor": 0
      },
      "text/plain": [
       "Canvas(toolbar=Toolbar(toolitems=[('Home', 'Reset original view', 'home', 'home'), ('Back', 'Back to previous …"
      ]
     },
     "metadata": {},
     "output_type": "display_data"
    }
   ],
   "source": [
    "visualize_zero_padding(x, kernel)"
   ]
  },
  {
   "cell_type": "code",
   "execution_count": 5,
   "id": "experienced-august",
   "metadata": {},
   "outputs": [
    {
     "data": {
      "application/vnd.jupyter.widget-view+json": {
       "model_id": "0d04e3d2620b436f8a92f467169e07b6",
       "version_major": 2,
       "version_minor": 0
      },
      "text/plain": [
       "Canvas(toolbar=Toolbar(toolitems=[('Home', 'Reset original view', 'home', 'home'), ('Back', 'Back to previous …"
      ]
     },
     "metadata": {},
     "output_type": "display_data"
    }
   ],
   "source": [
    "x_filtered_FT = DFT_filtering(x, kernel)\n",
    "visualize_DFT_filtering(x_filtered_FT, x_filtered)"
   ]
  },
  {
   "cell_type": "markdown",
   "id": "remarkable-cherry",
   "metadata": {},
   "source": [
    "# DFT filtering by blocks"
   ]
  },
  {
   "cell_type": "code",
   "execution_count": 6,
   "id": "opened-continent",
   "metadata": {},
   "outputs": [],
   "source": [
    "number_of_blocks = 3"
   ]
  },
  {
   "cell_type": "markdown",
   "id": "compact-centre",
   "metadata": {},
   "source": [
    "## Method 1: Overlap add\n",
    "<img src=\"images/slide_11-5.png\" alt=\"slide 11-5\" width=\"800\">"
   ]
  },
  {
   "cell_type": "code",
   "execution_count": 7,
   "id": "conventional-convention",
   "metadata": {},
   "outputs": [
    {
     "data": {
      "application/vnd.jupyter.widget-view+json": {
       "model_id": "37e580675fd3484caf7ddc5165b0ada8",
       "version_major": 2,
       "version_minor": 0
      },
      "text/plain": [
       "Canvas(toolbar=Toolbar(toolitems=[('Home', 'Reset original view', 'home', 'home'), ('Back', 'Back to previous …"
      ]
     },
     "metadata": {},
     "output_type": "display_data"
    }
   ],
   "source": [
    "x_filtered_blocks, x_filtered_overlap_add = overlap_add(x, kernel, n=number_of_blocks)\n",
    "visualize_overlap_add(x_filtered_blocks, x_filtered_overlap_add, x_filtered, kernel.shape[0])"
   ]
  },
  {
   "cell_type": "markdown",
   "id": "external-given",
   "metadata": {},
   "source": [
    "## Method 2: Overlap save\n",
    "<img src=\"images/slide_11-6.png\" alt=\"slide 11-6\" width=\"900\">"
   ]
  },
  {
   "cell_type": "code",
   "execution_count": 8,
   "id": "later-mustang",
   "metadata": {},
   "outputs": [
    {
     "data": {
      "application/vnd.jupyter.widget-view+json": {
       "model_id": "2136fae80e7140939b29fa121b9f3521",
       "version_major": 2,
       "version_minor": 0
      },
      "text/plain": [
       "Canvas(toolbar=Toolbar(toolitems=[('Home', 'Reset original view', 'home', 'home'), ('Back', 'Back to previous …"
      ]
     },
     "metadata": {},
     "output_type": "display_data"
    }
   ],
   "source": [
    "x_filtered_blocks, x_filtered_overlap_save = overlap_save(x, kernel, number_of_blocks)   \n",
    "visualize_overlap_save(x_filtered_blocks, x_filtered_overlap_save, x_filtered, kernel.shape[0])"
   ]
  },
  {
   "cell_type": "markdown",
   "id": "eligible-converter",
   "metadata": {},
   "source": [
    "# Error and execution time"
   ]
  },
  {
   "cell_type": "code",
   "execution_count": 9,
   "id": "marine-devon",
   "metadata": {},
   "outputs": [
    {
     "data": {
      "application/vnd.jupyter.widget-view+json": {
       "model_id": "3de24271c72e41f18dea2dbdfc5fdca2",
       "version_major": 2,
       "version_minor": 0
      },
      "text/plain": [
       "Canvas(toolbar=Toolbar(toolitems=[('Home', 'Reset original view', 'home', 'home'), ('Back', 'Back to previous …"
      ]
     },
     "metadata": {},
     "output_type": "display_data"
    }
   ],
   "source": [
    "visualize_time_and_error(x, kernel, runs=100, ns=[1, 2, 3, 4, 5, 6, 8, 10])"
   ]
  }
 ],
 "metadata": {
  "kernelspec": {
   "display_name": "Python",
   "language": "python",
   "name": "python3"
  },
  "language_info": {
   "codemirror_mode": {
    "name": "ipython",
    "version": 3
   },
   "file_extension": ".py",
   "mimetype": "text/x-python",
   "name": "python",
   "nbconvert_exporter": "python",
   "pygments_lexer": "ipython3",
   "version": "3.8.10"
  }
 },
 "nbformat": 4,
 "nbformat_minor": 5
}
