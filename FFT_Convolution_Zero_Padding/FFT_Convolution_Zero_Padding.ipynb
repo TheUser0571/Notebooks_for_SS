{
 "cells": [
  {
   "cell_type": "code",
   "execution_count": 1,
   "id": "framed-chick",
   "metadata": {},
   "outputs": [],
   "source": [
    "from FFT_Convolution_Zero_Padding_utils import Conv_Zero_Padding\n",
    "\n",
    "%matplotlib widget"
   ]
  },
  {
   "cell_type": "markdown",
   "id": "satisfied-spread",
   "metadata": {},
   "source": [
    "# Load the image"
   ]
  },
  {
   "cell_type": "code",
   "execution_count": 2,
   "id": "fewer-stations",
   "metadata": {},
   "outputs": [
    {
     "data": {
      "application/vnd.jupyter.widget-view+json": {
       "model_id": "c494f90f12524ed8916b63a642444bd4",
       "version_major": 2,
       "version_minor": 0
      },
      "text/plain": [
       "HBox(children=(Output(layout=Layout(width='80%')), Output(), Output(layout=Layout(width='25%'))))"
      ]
     },
     "metadata": {},
     "output_type": "display_data"
    },
    {
     "data": {
      "application/vnd.jupyter.widget-view+json": {
       "model_id": "850eadcd5cae4955ac28e8da959b0a23",
       "version_major": 2,
       "version_minor": 0
      },
      "text/plain": [
       "Button(description='Show Widgets', style=ButtonStyle())"
      ]
     },
     "metadata": {},
     "output_type": "display_data"
    }
   ],
   "source": [
    "CZP = Conv_Zero_Padding()"
   ]
  },
  {
   "cell_type": "markdown",
   "id": "satisfied-favorite",
   "metadata": {},
   "source": [
    "# Create the Gaussian kernel"
   ]
  },
  {
   "cell_type": "code",
   "execution_count": 3,
   "id": "bored-gentleman",
   "metadata": {},
   "outputs": [
    {
     "data": {
      "application/vnd.jupyter.widget-view+json": {
       "model_id": "89dde1a2d6d6418aa14de7a5ca590685",
       "version_major": 2,
       "version_minor": 0
      },
      "text/plain": [
       "HBox(children=(Output(layout=Layout(width='80%')), Output(), Output(layout=Layout(width='25%'))))"
      ]
     },
     "metadata": {},
     "output_type": "display_data"
    },
    {
     "data": {
      "application/vnd.jupyter.widget-view+json": {
       "model_id": "e7ec9320b4ba4244abb9f054e76d8fa3",
       "version_major": 2,
       "version_minor": 0
      },
      "text/plain": [
       "Button(description='Show Widgets', style=ButtonStyle())"
      ]
     },
     "metadata": {},
     "output_type": "display_data"
    }
   ],
   "source": [
    "CZP.display_kernel()"
   ]
  },
  {
   "cell_type": "markdown",
   "id": "dynamic-physiology",
   "metadata": {},
   "source": [
    "# Perform convolution of image and kernel (classical filtering technique)"
   ]
  },
  {
   "cell_type": "code",
   "execution_count": 4,
   "id": "southern-crawford",
   "metadata": {},
   "outputs": [
    {
     "data": {
      "application/vnd.jupyter.widget-view+json": {
       "model_id": "1fea4502775f4dcdba4a7ed7382c712a",
       "version_major": 2,
       "version_minor": 0
      },
      "text/plain": [
       "HBox(children=(Output(layout=Layout(width='80%')), Output(), Output(layout=Layout(width='25%'))))"
      ]
     },
     "metadata": {},
     "output_type": "display_data"
    },
    {
     "data": {
      "application/vnd.jupyter.widget-view+json": {
       "model_id": "c8b5f40c689d49579382a8fdc52b52b8",
       "version_major": 2,
       "version_minor": 0
      },
      "text/plain": [
       "Button(description='Show Widgets', style=ButtonStyle())"
      ]
     },
     "metadata": {},
     "output_type": "display_data"
    }
   ],
   "source": [
    "_ = CZP.convolve_2d(mode='same', display=True, save=True)"
   ]
  },
  {
   "cell_type": "markdown",
   "id": "atmospheric-stable",
   "metadata": {},
   "source": [
    "## Compare the results of convolution and FFT filtering, with and without zero-padding"
   ]
  },
  {
   "cell_type": "code",
   "execution_count": 5,
   "id": "actual-guide",
   "metadata": {},
   "outputs": [
    {
     "data": {
      "application/vnd.jupyter.widget-view+json": {
       "model_id": "27148381499443b681eda0a6ee721494",
       "version_major": 2,
       "version_minor": 0
      },
      "text/plain": [
       "HBox(children=(Output(layout=Layout(width='80%')), Output(), Output(layout=Layout(width='25%'))))"
      ]
     },
     "metadata": {},
     "output_type": "display_data"
    },
    {
     "data": {
      "application/vnd.jupyter.widget-view+json": {
       "model_id": "80038f9081f049b58231839cacee2648",
       "version_major": 2,
       "version_minor": 0
      },
      "text/plain": [
       "Button(description='Show Widgets', style=ButtonStyle())"
      ]
     },
     "metadata": {},
     "output_type": "display_data"
    }
   ],
   "source": [
    "CZP.visual_comparison(use_saved=True)b"
   ]
  },
  {
   "cell_type": "markdown",
   "id": "dynamic-hearing",
   "metadata": {},
   "source": [
    "# Calculate the error of both methods"
   ]
  },
  {
   "cell_type": "code",
   "execution_count": 6,
   "id": "ethical-drink",
   "metadata": {
    "scrolled": false
   },
   "outputs": [
    {
     "name": "stdout",
     "output_type": "stream",
     "text": [
      "The RMS error between the convolution and padded FFT filter is 2.216e-10\n",
      "The RMS error between the convolution and non-padded FFT filter is 14355.188\n"
     ]
    }
   ],
   "source": [
    "CZP.calc_error()"
   ]
  },
  {
   "cell_type": "markdown",
   "id": "demanding-headline",
   "metadata": {},
   "source": [
    "# Compare execution time as a function of kernel size"
   ]
  },
  {
   "cell_type": "code",
   "execution_count": 7,
   "id": "announced-politics",
   "metadata": {
    "scrolled": false
   },
   "outputs": [
    {
     "data": {
      "application/vnd.jupyter.widget-view+json": {
       "model_id": "f85296448b8e45f385d1e7da244436e0",
       "version_major": 2,
       "version_minor": 0
      },
      "text/plain": [
       "Canvas(toolbar=Toolbar(toolitems=[('Home', 'Reset original view', 'home', 'home'), ('Pan', 'Pan axes with left…"
      ]
     },
     "metadata": {},
     "output_type": "display_data"
    }
   ],
   "source": [
    "CZP.display_time_comparison()"
   ]
  },
  {
   "cell_type": "code",
   "execution_count": null,
   "id": "potential-scholarship",
   "metadata": {},
   "outputs": [],
   "source": []
  }
 ],
 "metadata": {
  "kernelspec": {
   "display_name": "Python 3",
   "language": "python",
   "name": "python3"
  },
  "language_info": {
   "codemirror_mode": {
    "name": "ipython",
    "version": 3
   },
   "file_extension": ".py",
   "mimetype": "text/x-python",
   "name": "python",
   "nbconvert_exporter": "python",
   "pygments_lexer": "ipython3",
   "version": "3.7.9"
  }
 },
 "nbformat": 4,
 "nbformat_minor": 5
}
