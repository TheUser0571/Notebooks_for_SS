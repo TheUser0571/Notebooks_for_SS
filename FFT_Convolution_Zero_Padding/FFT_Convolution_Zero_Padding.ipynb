{
 "cells": [
  {
   "cell_type": "code",
   "execution_count": 1,
   "id": "framed-chick",
   "metadata": {},
   "outputs": [],
   "source": [
    "from FFT_Convolution_Zero_Padding_utils import Conv_Zero_Padding\n",
    "\n",
    "%matplotlib widget"
   ]
  },
  {
   "cell_type": "markdown",
   "id": "satisfied-spread",
   "metadata": {},
   "source": [
    "# Load the image"
   ]
  },
  {
   "cell_type": "code",
   "execution_count": 2,
   "id": "fewer-stations",
   "metadata": {},
   "outputs": [
    {
     "data": {
      "application/vnd.jupyter.widget-view+json": {
       "model_id": "8ed3a1bd62424b9abf0aaafcdc112878",
       "version_major": 2,
       "version_minor": 0
      },
      "text/plain": [
       "HBox(children=(Output(layout=Layout(width='80%')), Output(), Output(layout=Layout(width='25%'))))"
      ]
     },
     "metadata": {},
     "output_type": "display_data"
    },
    {
     "data": {
      "application/vnd.jupyter.widget-view+json": {
       "model_id": "626d6939341841778939c39ccd0fc1e8",
       "version_major": 2,
       "version_minor": 0
      },
      "text/plain": [
       "Button(description='Show Widgets', style=ButtonStyle())"
      ]
     },
     "metadata": {},
     "output_type": "display_data"
    }
   ],
   "source": [
    "CZP = Conv_Zero_Padding()"
   ]
  },
  {
   "cell_type": "markdown",
   "id": "satisfied-favorite",
   "metadata": {},
   "source": [
    "# Create the Gaussian kernel"
   ]
  },
  {
   "cell_type": "code",
   "execution_count": 3,
   "id": "bored-gentleman",
   "metadata": {},
   "outputs": [
    {
     "data": {
      "application/vnd.jupyter.widget-view+json": {
       "model_id": "290f35598fa540f7bd7b736fde311856",
       "version_major": 2,
       "version_minor": 0
      },
      "text/plain": [
       "HBox(children=(Output(layout=Layout(width='80%')), Output(), Output(layout=Layout(width='25%'))))"
      ]
     },
     "metadata": {},
     "output_type": "display_data"
    },
    {
     "data": {
      "application/vnd.jupyter.widget-view+json": {
       "model_id": "2454da4dd83c47fb9b5ba6298300df8a",
       "version_major": 2,
       "version_minor": 0
      },
      "text/plain": [
       "Button(description='Show Widgets', style=ButtonStyle())"
      ]
     },
     "metadata": {},
     "output_type": "display_data"
    }
   ],
   "source": [
    "CZP.display_kernel()"
   ]
  },
  {
   "cell_type": "markdown",
   "id": "dynamic-physiology",
   "metadata": {},
   "source": [
    "# Perform convolution of image and kernel (classical filtering technique)"
   ]
  },
  {
   "cell_type": "code",
   "execution_count": 4,
   "id": "southern-crawford",
   "metadata": {},
   "outputs": [
    {
     "data": {
      "application/vnd.jupyter.widget-view+json": {
       "model_id": "01bba2edceaa464ba3a4b18d7c3739a2",
       "version_major": 2,
       "version_minor": 0
      },
      "text/plain": [
       "HBox(children=(Output(layout=Layout(width='80%')), Output(), Output(layout=Layout(width='25%'))))"
      ]
     },
     "metadata": {},
     "output_type": "display_data"
    },
    {
     "data": {
      "application/vnd.jupyter.widget-view+json": {
       "model_id": "99dc3a88ad804bfdb03655b4630e3dd1",
       "version_major": 2,
       "version_minor": 0
      },
      "text/plain": [
       "Button(description='Show Widgets', style=ButtonStyle())"
      ]
     },
     "metadata": {},
     "output_type": "display_data"
    }
   ],
   "source": [
    "_ = CZP.convolve_2d(mode='same', display=True, save=True)"
   ]
  },
  {
   "cell_type": "markdown",
   "id": "atmospheric-stable",
   "metadata": {},
   "source": [
    "## Compare the results of convolution and FFT filtering, with and without zero-padding"
   ]
  },
  {
   "cell_type": "code",
   "execution_count": 5,
   "id": "actual-guide",
   "metadata": {},
   "outputs": [
    {
     "data": {
      "application/vnd.jupyter.widget-view+json": {
       "model_id": "b2108a62414b415ca337d2e3baf20c98",
       "version_major": 2,
       "version_minor": 0
      },
      "text/plain": [
       "HBox(children=(Output(layout=Layout(width='80%')), Output(), Output(layout=Layout(width='25%'))))"
      ]
     },
     "metadata": {},
     "output_type": "display_data"
    },
    {
     "data": {
      "application/vnd.jupyter.widget-view+json": {
       "model_id": "caeca987185b4fe5a0c00066bdd26665",
       "version_major": 2,
       "version_minor": 0
      },
      "text/plain": [
       "Button(description='Show Widgets', style=ButtonStyle())"
      ]
     },
     "metadata": {},
     "output_type": "display_data"
    }
   ],
   "source": [
    "CZP.visual_comparison(use_saved=True)"
   ]
  },
  {
   "cell_type": "markdown",
   "id": "dynamic-hearing",
   "metadata": {},
   "source": [
    "# Calculate the error of both methods"
   ]
  },
  {
   "cell_type": "code",
   "execution_count": 6,
   "id": "ethical-drink",
   "metadata": {},
   "outputs": [
    {
     "name": "stdout",
     "output_type": "stream",
     "text": [
      "The RMS error between the convolution and padded FFT filter is 2.216e-10\n",
      "The RMS error between the convolution and non-padded FFT filter is 14355.188\n"
     ]
    }
   ],
   "source": [
    "CZP.calc_error()"
   ]
  },
  {
   "cell_type": "markdown",
   "id": "demanding-headline",
   "metadata": {},
   "source": [
    "# Compare execution time as a function of kernel size"
   ]
  },
  {
   "cell_type": "code",
   "execution_count": 7,
   "id": "announced-politics",
   "metadata": {},
   "outputs": [
    {
     "data": {
      "application/vnd.jupyter.widget-view+json": {
       "model_id": "d148bc208c4b4c408856ccfb55d646d7",
       "version_major": 2,
       "version_minor": 0
      },
      "text/plain": [
       "Canvas(toolbar=Toolbar(toolitems=[('Home', 'Reset original view', 'home', 'home'), ('Pan', 'Pan axes with left…"
      ]
     },
     "metadata": {},
     "output_type": "display_data"
    }
   ],
   "source": [
    "CZP.display_time_comparison()"
   ]
  }
 ],
 "metadata": {
  "kernelspec": {
   "display_name": "Python",
   "language": "python",
   "name": "python3"
  },
  "language_info": {
   "codemirror_mode": {
    "name": "ipython",
    "version": 3
   },
   "file_extension": ".py",
   "mimetype": "text/x-python",
   "name": "python",
   "nbconvert_exporter": "python",
   "pygments_lexer": "ipython3",
   "version": "3.8.10"
  }
 },
 "nbformat": 4,
 "nbformat_minor": 5
}
