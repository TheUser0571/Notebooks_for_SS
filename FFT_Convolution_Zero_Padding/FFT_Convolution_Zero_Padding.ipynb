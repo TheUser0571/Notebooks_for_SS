{
 "cells": [
  {
   "cell_type": "code",
   "execution_count": 1,
   "id": "framed-chick",
   "metadata": {},
   "outputs": [],
   "source": [
    "from FFT_Convolution_Zero_Padding_utils import Conv_Zero_Padding\n",
    "\n",
    "%matplotlib widget"
   ]
  },
  {
   "cell_type": "markdown",
   "id": "satisfied-spread",
   "metadata": {},
   "source": [
    "# Load the image"
   ]
  },
  {
   "cell_type": "code",
   "execution_count": 2,
   "id": "fewer-stations",
   "metadata": {},
   "outputs": [
    {
     "data": {
      "application/vnd.jupyter.widget-view+json": {
       "model_id": "61c07c2b79c940b1b3b80cbab1ff4eae",
       "version_major": 2,
       "version_minor": 0
      },
      "text/plain": [
       "HBox(children=(Output(layout=Layout(width='80%')), Output(), Output(layout=Layout(width='25%'))))"
      ]
     },
     "metadata": {},
     "output_type": "display_data"
    },
    {
     "data": {
      "application/vnd.jupyter.widget-view+json": {
       "model_id": "7277ffb1b0bf4699af24444881860aec",
       "version_major": 2,
       "version_minor": 0
      },
      "text/plain": [
       "Button(description='Show Widgets', style=ButtonStyle())"
      ]
     },
     "metadata": {},
     "output_type": "display_data"
    }
   ],
   "source": [
    "CZP = Conv_Zero_Padding()"
   ]
  },
  {
   "cell_type": "markdown",
   "id": "satisfied-favorite",
   "metadata": {},
   "source": [
    "# Create the Gaussian kernel"
   ]
  },
  {
   "cell_type": "code",
   "execution_count": 3,
   "id": "bored-gentleman",
   "metadata": {},
   "outputs": [
    {
     "data": {
      "application/vnd.jupyter.widget-view+json": {
       "model_id": "ffbac59ed8ce47fd99bd5b338d935674",
       "version_major": 2,
       "version_minor": 0
      },
      "text/plain": [
       "HBox(children=(Output(layout=Layout(width='80%')), Output(), Output(layout=Layout(width='25%'))))"
      ]
     },
     "metadata": {},
     "output_type": "display_data"
    },
    {
     "data": {
      "application/vnd.jupyter.widget-view+json": {
       "model_id": "d749a6d33100426d9f0630aebef1ea99",
       "version_major": 2,
       "version_minor": 0
      },
      "text/plain": [
       "Button(description='Show Widgets', style=ButtonStyle())"
      ]
     },
     "metadata": {},
     "output_type": "display_data"
    }
   ],
   "source": [
    "CZP.display_kernel()"
   ]
  },
  {
   "cell_type": "markdown",
   "id": "dynamic-physiology",
   "metadata": {},
   "source": [
    "# Perform convolution of image and kernel (classical filtering technique)"
   ]
  },
  {
   "cell_type": "code",
   "execution_count": 4,
   "id": "southern-crawford",
   "metadata": {},
   "outputs": [
    {
     "data": {
      "application/vnd.jupyter.widget-view+json": {
       "model_id": "d247a8c8af1e46378d7652c3bb3e3fe3",
       "version_major": 2,
       "version_minor": 0
      },
      "text/plain": [
       "HBox(children=(Output(layout=Layout(width='80%')), Output(), Output(layout=Layout(width='25%'))))"
      ]
     },
     "metadata": {},
     "output_type": "display_data"
    },
    {
     "data": {
      "application/vnd.jupyter.widget-view+json": {
       "model_id": "c9a0fb9b010a46b4b513b7eb1b4b9a94",
       "version_major": 2,
       "version_minor": 0
      },
      "text/plain": [
       "Button(description='Show Widgets', style=ButtonStyle())"
      ]
     },
     "metadata": {},
     "output_type": "display_data"
    }
   ],
   "source": [
    "_ = CZP.convolve_2d(mode='same', display=True, save=True)"
   ]
  },
  {
   "cell_type": "markdown",
   "id": "atmospheric-stable",
   "metadata": {},
   "source": [
    "## Compare the results of convolution and FFT filtering, with and without zero-padding"
   ]
  },
  {
   "cell_type": "code",
   "execution_count": 6,
   "id": "actual-guide",
   "metadata": {},
   "outputs": [
    {
     "data": {
      "application/vnd.jupyter.widget-view+json": {
       "model_id": "aa43acd585434fe1a016883d4ce75135",
       "version_major": 2,
       "version_minor": 0
      },
      "text/plain": [
       "HBox(children=(Output(layout=Layout(width='80%')), Output(), Output(layout=Layout(width='25%'))))"
      ]
     },
     "metadata": {},
     "output_type": "display_data"
    },
    {
     "data": {
      "application/vnd.jupyter.widget-view+json": {
       "model_id": "8933cc07f97549b6b38616acd5514293",
       "version_major": 2,
       "version_minor": 0
      },
      "text/plain": [
       "Button(description='Show Widgets', style=ButtonStyle())"
      ]
     },
     "metadata": {},
     "output_type": "display_data"
    }
   ],
   "source": [
    "CZP.visual_comparison(use_saved=True)"
   ]
  },
  {
   "cell_type": "markdown",
   "id": "dynamic-hearing",
   "metadata": {},
   "source": [
    "# Calculate the error of both methods"
   ]
  },
  {
   "cell_type": "code",
   "execution_count": 7,
   "id": "ethical-drink",
   "metadata": {
    "scrolled": false
   },
   "outputs": [
    {
     "name": "stdout",
     "output_type": "stream",
     "text": [
      "The RMS error between the convolution and padded FFT filter is 2.216e-10\n",
      "The RMS error between the convolution and non-padded FFT filter is 14355.188\n"
     ]
    }
   ],
   "source": [
    "CZP.calc_error()"
   ]
  },
  {
   "cell_type": "markdown",
   "id": "demanding-headline",
   "metadata": {},
   "source": [
    "# Compare execution time as a function of kernel size"
   ]
  },
  {
   "cell_type": "code",
   "execution_count": 8,
   "id": "announced-politics",
   "metadata": {
    "scrolled": false
   },
   "outputs": [
    {
     "data": {
      "application/vnd.jupyter.widget-view+json": {
       "model_id": "ed2a8079a88e41669254dcaeefc258b7",
       "version_major": 2,
       "version_minor": 0
      },
      "text/plain": [
       "Canvas(toolbar=Toolbar(toolitems=[('Home', 'Reset original view', 'home', 'home'), ('Pan', 'Pan axes with left…"
      ]
     },
     "metadata": {},
     "output_type": "display_data"
    }
   ],
   "source": [
    "CZP.display_time_comparison()"
   ]
  },
  {
   "cell_type": "code",
   "execution_count": null,
   "id": "potential-scholarship",
   "metadata": {},
   "outputs": [],
   "source": []
  }
 ],
 "metadata": {
  "kernelspec": {
   "display_name": "Python 3",
   "language": "python",
   "name": "python3"
  },
  "language_info": {
   "codemirror_mode": {
    "name": "ipython",
    "version": 3
   },
   "file_extension": ".py",
   "mimetype": "text/x-python",
   "name": "python",
   "nbconvert_exporter": "python",
   "pygments_lexer": "ipython3",
   "version": "3.7.9"
  }
 },
 "nbformat": 4,
 "nbformat_minor": 5
}
