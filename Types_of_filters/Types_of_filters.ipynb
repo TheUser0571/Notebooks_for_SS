{
 "cells": [
  {
   "cell_type": "code",
   "execution_count": 1,
   "id": "photographic-pitch",
   "metadata": {},
   "outputs": [],
   "source": [
    "from Types_of_filters_utils import *\n",
    "\n",
    "%matplotlib widget"
   ]
  },
  {
   "cell_type": "code",
   "execution_count": 2,
   "id": "ranking-pastor",
   "metadata": {},
   "outputs": [
    {
     "data": {
      "application/vnd.jupyter.widget-view+json": {
       "model_id": "4eab8111155c47b69540f8b70078ad90",
       "version_major": 2,
       "version_minor": 0
      },
      "text/plain": [
       "VBox(children=(Output(layout=Layout(height='400px', width='980px')), HBox(children=(VBox(children=(Dropdown(de…"
      ]
     },
     "metadata": {},
     "output_type": "display_data"
    }
   ],
   "source": [
    "plt.close('all')\n",
    "fd = Filter_Demo('audiofile.wav')"
   ]
  },
  {
   "cell_type": "code",
   "execution_count": null,
   "id": "quick-simple",
   "metadata": {},
   "outputs": [],
   "source": []
  }
 ],
 "metadata": {
  "kernelspec": {
   "display_name": "Python 3",
   "language": "python",
   "name": "python3"
  },
  "language_info": {
   "codemirror_mode": {
    "name": "ipython",
    "version": 3
   },
   "file_extension": ".py",
   "mimetype": "text/x-python",
   "name": "python",
   "nbconvert_exporter": "python",
   "pygments_lexer": "ipython3",
   "version": "3.7.9"
  }
 },
 "nbformat": 4,
 "nbformat_minor": 5
}
