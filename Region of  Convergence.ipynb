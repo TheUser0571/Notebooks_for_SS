{
 "cells": [
  {
   "cell_type": "code",
   "execution_count": 38,
   "metadata": {},
   "outputs": [],
   "source": [
    "import numpy as np\n",
    "import matplotlib.gridspec\n",
    "import matplotlib.pyplot as plt\n",
    "from ipywidgets import interact, fixed, IntSlider, HBox, Layout, Output, VBox\n",
    "import ipywidgets as widgets\n",
    "from scipy import signal\n",
    "\n",
    "%matplotlib widget"
   ]
  },
  {
   "cell_type": "code",
   "execution_count": 39,
   "metadata": {},
   "outputs": [],
   "source": [
    "def unit_circle():\n",
    "    x1 = np.linspace(-1, 1, 1000)\n",
    "    y1 = np.sqrt(1-x1**2)\n",
    "    x2 = np.linspace(0.999, -1, 1000)\n",
    "    y2 = np.sqrt(1-x2**2)\n",
    "    x = np.concatenate([x1, x2])\n",
    "    y = np.concatenate([y1, -y2])\n",
    "    labels = ['-2j', '-1.5j', '-j', '-0.5j', '0', '0.5j', 'j','1.5j','2j']\n",
    "    position=[-2,-1.5,-1,-0.5,0,0.5,1,1.5,2]\n",
    "    plt.yticks(position, labels, rotation='horizontal')\n",
    "    return x, y\n",
    "\n",
    "def first_circle():\n",
    "    x1 = np.linspace(-0.25, 0.25, 1000)\n",
    "    y1 = np.sqrt(1/16-x1**2)\n",
    "    x2 = np.linspace(0.25, -0.25, 1000)\n",
    "    y2 = np.sqrt(1/16-x2**2)\n",
    "    x = np.concatenate([x1, x2])\n",
    "    y = np.concatenate([y1, -y2])\n",
    "    #labels = ['-2j', '-1.5j', '-j', '-0.5j', '0', '0.5j', 'j','1.5j','2j']\n",
    "    #position=[-2,-1.5,-1,-0.5,0,0.5,1,1.5,2]\n",
    "    #plt.yticks(position, labels, rotation='horizontal')\n",
    "    return x, y\n",
    "\n",
    "def second_circle():\n",
    "    x1 = np.linspace(-2/3, 2/3, 1000)\n",
    "    y1 = np.sqrt(4/9-x1**2)\n",
    "    x2 = np.linspace(2/3, -2/3, 1000)\n",
    "    y2 = np.sqrt(4/9-x2**2)\n",
    "    x = np.concatenate([x1, x2])\n",
    "    y = np.concatenate([y1, -y2])\n",
    "    #labels = ['-2j', '-1.5j', '-j', '-0.5j', '0', '0.5j', 'j','1.5j','2j']\n",
    "    #position=[-2,-1.5,-1,-0.5,0,0.5,1,1.5,2]\n",
    "    #plt.yticks(position, labels, rotation='horizontal')\n",
    "    return x, y"
   ]
  },
  {
   "cell_type": "code",
   "execution_count": 40,
   "metadata": {},
   "outputs": [
    {
     "data": {
      "application/vnd.jupyter.widget-view+json": {
       "model_id": "46c7c533a01f4550a9120bc6a08fa719",
       "version_major": 2,
       "version_minor": 0
      },
      "text/plain": [
       "Canvas(toolbar=Toolbar(toolitems=[('Home', 'Reset original view', 'home', 'home'), ('Back', 'Back to previous …"
      ]
     },
     "metadata": {},
     "output_type": "display_data"
    }
   ],
   "source": [
    "plt.figure(figsize=(5,5))\n",
    "uc = unit_circle()\n",
    "\n",
    "x=[0.25,2/3]\n",
    "y=[0.,0.]\n",
    "# Pad margins so that markers don't get clipped by the axes\n",
    "#plt.margins(5)\n",
    "# Tweak spacing to prevent clipping of tick-labels\n",
    "#plt.subplots_adjust(bottom=0.5)\n",
    "plt.plot(uc[0], uc[1])\n",
    "plt.plot(x,y)\n",
    "plt.grid()\n",
    "#plt.close('all')\n",
    "plt.show()"
   ]
  },
  {
   "cell_type": "code",
   "execution_count": 43,
   "metadata": {},
   "outputs": [
    {
     "data": {
      "application/vnd.jupyter.widget-view+json": {
       "model_id": "e841c2101e994dba91da62dcb337bd91",
       "version_major": 2,
       "version_minor": 0
      },
      "text/plain": [
       "Canvas(toolbar=Toolbar(toolitems=[('Home', 'Reset original view', 'home', 'home'), ('Back', 'Back to previous …"
      ]
     },
     "metadata": {},
     "output_type": "display_data"
    },
    {
     "data": {
      "text/plain": [
       "[<matplotlib.patches.Polygon at 0x7f20ebd94760>]"
      ]
     },
     "execution_count": 43,
     "metadata": {},
     "output_type": "execute_result"
    }
   ],
   "source": [
    "plt.close('all')\n",
    "fig, ax = plt.subplots(figsize=(5,5))\n",
    "uc = unit_circle()\n",
    "fc = first_circle()\n",
    "sc = second_circle()\n",
    "ax.plot(uc[0],uc[1])\n",
    "ax.plot(fc[0],fc[1],':')\n",
    "ax.plot(sc[0], sc[1],':')\n",
    "ax.grid()\n",
    "ax.plot(x,y, 'xr')\n",
    "#x = [0.5, 0.5, 0.5, 0.5, 0.5]\n",
    "#y = -np.array([0.5, 0.5, 0.5, 0.5, 0.5])\n",
    "#ax.plot(x, y, 'ob', fillstyle='none')\n",
    "ax.set_xlim([-2,2])\n",
    "ax.set_ylim([-2,2])\n",
    "ax.fill(uc[0],uc[1],facecolor='lightsalmon')\n",
    "ax.fill(sc[0],sc[1],facecolor='y')\n",
    "ax.fill(fc[0],fc[1],facecolor='gray')\n",
    "\n"
   ]
  },
  {
   "cell_type": "code",
   "execution_count": null,
   "metadata": {},
   "outputs": [],
   "source": []
  }
 ],
 "metadata": {
  "kernelspec": {
   "display_name": "Python 3",
   "language": "python",
   "name": "python3"
  },
  "language_info": {
   "codemirror_mode": {
    "name": "ipython",
    "version": 3
   },
   "file_extension": ".py",
   "mimetype": "text/x-python",
   "name": "python",
   "nbconvert_exporter": "python",
   "pygments_lexer": "ipython3",
   "version": "3.8.5"
  }
 },
 "nbformat": 4,
 "nbformat_minor": 4
}
