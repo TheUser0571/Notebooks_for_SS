{
 "cells": [
  {
   "cell_type": "code",
   "execution_count": 1,
   "id": "modular-correction",
   "metadata": {},
   "outputs": [],
   "source": [
    "import numpy as np\n",
    "from Optimal_Detector_utils import *\n",
    "\n",
    "%matplotlib widget"
   ]
  },
  {
   "cell_type": "markdown",
   "id": "monthly-dragon",
   "metadata": {},
   "source": [
    "# Define signal and noise"
   ]
  },
  {
   "cell_type": "code",
   "execution_count": 2,
   "id": "front-teach",
   "metadata": {},
   "outputs": [
    {
     "name": "stdout",
     "output_type": "stream",
     "text": [
      "P(X=0) = 0.8\n",
      "P(X=4) = 0.2\n"
     ]
    }
   ],
   "source": [
    "x = get_x()\n",
    "print(f'P(X=0) = {(len(x)-np.count_nonzero(x)) / len(x)}')\n",
    "print(f'P(X=4) = {np.count_nonzero(x) / len(x)}')"
   ]
  },
  {
   "cell_type": "code",
   "execution_count": 3,
   "id": "dominant-circle",
   "metadata": {
    "scrolled": false
   },
   "outputs": [
    {
     "data": {
      "application/vnd.jupyter.widget-view+json": {
       "model_id": "b2e4c948e38d456589f0e42d1f481b93",
       "version_major": 2,
       "version_minor": 0
      },
      "text/plain": [
       "Canvas(toolbar=Toolbar(toolitems=[('Home', 'Reset original view', 'home', 'home'), ('Back', 'Back to previous …"
      ]
     },
     "metadata": {},
     "output_type": "display_data"
    }
   ],
   "source": [
    "pdf = get_pdf()\n",
    "pdf.disp()"
   ]
  },
  {
   "cell_type": "markdown",
   "id": "asian-belle",
   "metadata": {},
   "source": [
    "# Exercises"
   ]
  },
  {
   "cell_type": "markdown",
   "id": "revised-mixture",
   "metadata": {},
   "source": [
    "1. Compute $g(0)$"
   ]
  },
  {
   "cell_type": "code",
   "execution_count": 4,
   "id": "alone-blind",
   "metadata": {},
   "outputs": [
    {
     "data": {
      "application/vnd.jupyter.widget-view+json": {
       "model_id": "7df866fe835c4f6bb47f6819d5d739ae",
       "version_major": 2,
       "version_minor": 0
      },
      "text/plain": [
       "HBox(children=(FloatText(value=0.0, description='Value:', layout=Layout(width='120px'), style=DescriptionStyle…"
      ]
     },
     "metadata": {},
     "output_type": "display_data"
    }
   ],
   "source": [
    "ODEx.Q1"
   ]
  },
  {
   "cell_type": "markdown",
   "id": "deluxe-fraction",
   "metadata": {},
   "source": [
    "2. Which is the correct analytical expression of $p_{Y\\mid X}(y\\mid x=0)$ ?\n",
    "\n",
    "_Hint: Use the graph below_"
   ]
  },
  {
   "cell_type": "code",
   "execution_count": 5,
   "id": "handmade-apollo",
   "metadata": {},
   "outputs": [
    {
     "data": {
      "application/vnd.jupyter.widget-view+json": {
       "model_id": "29b69897d99a4616b4737cf162da2327",
       "version_major": 2,
       "version_minor": 0
      },
      "text/plain": [
       "VBox(children=(RadioButtons(layout=Layout(width='max-content'), options=('4/5 tri(3y)', '4/15 tri(3y)', '1/3 t…"
      ]
     },
     "metadata": {},
     "output_type": "display_data"
    }
   ],
   "source": [
    "ODEx.Q2"
   ]
  },
  {
   "cell_type": "code",
   "execution_count": 6,
   "id": "surprising-growth",
   "metadata": {},
   "outputs": [
    {
     "data": {
      "application/vnd.jupyter.widget-view+json": {
       "model_id": "a4e15f65297a4d0e9478b84c79afa143",
       "version_major": 2,
       "version_minor": 0
      },
      "text/plain": [
       "Canvas(toolbar=Toolbar(toolitems=[('Home', 'Reset original view', 'home', 'home'), ('Back', 'Back to previous …"
      ]
     },
     "metadata": {},
     "output_type": "display_data"
    }
   ],
   "source": [
    "OptimalDetecor(np.zeros(10000), pdf).hist()"
   ]
  },
  {
   "cell_type": "markdown",
   "id": "apparent-alloy",
   "metadata": {},
   "source": [
    "3. Which is the correct analytical expression of  $p_{Y\\mid X}(y\\mid x=4)$ ?\n",
    "\n",
    "_Hint: Use the graph below_"
   ]
  },
  {
   "cell_type": "code",
   "execution_count": 7,
   "id": "practical-driving",
   "metadata": {},
   "outputs": [
    {
     "data": {
      "application/vnd.jupyter.widget-view+json": {
       "model_id": "dad7e6788bf543d194dce1080d5027e2",
       "version_major": 2,
       "version_minor": 0
      },
      "text/plain": [
       "VBox(children=(RadioButtons(layout=Layout(width='max-content'), options=('1/15 tri((y-4) / 3)', '1/3 tri((y-4)…"
      ]
     },
     "metadata": {},
     "output_type": "display_data"
    }
   ],
   "source": [
    "ODEx.Q3"
   ]
  },
  {
   "cell_type": "code",
   "execution_count": 8,
   "id": "german-sterling",
   "metadata": {
    "scrolled": false
   },
   "outputs": [
    {
     "data": {
      "application/vnd.jupyter.widget-view+json": {
       "model_id": "da8997994ae44c27be0b56cd44f06e21",
       "version_major": 2,
       "version_minor": 0
      },
      "text/plain": [
       "Canvas(toolbar=Toolbar(toolitems=[('Home', 'Reset original view', 'home', 'home'), ('Back', 'Back to previous …"
      ]
     },
     "metadata": {},
     "output_type": "display_data"
    }
   ],
   "source": [
    "OptimalDetecor(np.ones(10000)*4, pdf).hist()"
   ]
  },
  {
   "cell_type": "markdown",
   "id": "communist-instrumentation",
   "metadata": {},
   "source": [
    "4. Which is the correct analytical expression of  $p_{Y}(y)$ ?\n",
    "\n",
    "_Hint: Use the graph below_"
   ]
  },
  {
   "cell_type": "code",
   "execution_count": 9,
   "id": "unexpected-emerald",
   "metadata": {},
   "outputs": [
    {
     "data": {
      "application/vnd.jupyter.widget-view+json": {
       "model_id": "5864fd6bcd3f40a7afaa0f53a3565c86",
       "version_major": 2,
       "version_minor": 0
      },
      "text/plain": [
       "VBox(children=(RadioButtons(layout=Layout(width='max-content'), options=('1/3 tri(y/3) + 4/5', '2/3 tri(y/3) +…"
      ]
     },
     "metadata": {},
     "output_type": "display_data"
    }
   ],
   "source": [
    "ODEx.Q4"
   ]
  },
  {
   "cell_type": "code",
   "execution_count": 10,
   "id": "correct-section",
   "metadata": {},
   "outputs": [
    {
     "data": {
      "application/vnd.jupyter.widget-view+json": {
       "model_id": "07294f0d5580430887f1d58902c88402",
       "version_major": 2,
       "version_minor": 0
      },
      "text/plain": [
       "Canvas(toolbar=Toolbar(toolitems=[('Home', 'Reset original view', 'home', 'home'), ('Back', 'Back to previous …"
      ]
     },
     "metadata": {},
     "output_type": "display_data"
    }
   ],
   "source": [
    "OptimalDetecor(x, pdf).hist()"
   ]
  },
  {
   "cell_type": "markdown",
   "id": "existing-atlantic",
   "metadata": {},
   "source": [
    "5. Let $\\beta$ be a threshold value such that our detector predicts $x=0$ when $y\\le\\beta$ and $x=4$ when $y>\\beta$. Compute the optimal value of $\\beta$ (in the sense that it minimizes the prediction error).\n",
    "\n",
    "_Hint: Use the graph below_"
   ]
  },
  {
   "cell_type": "code",
   "execution_count": 11,
   "id": "accurate-shareware",
   "metadata": {},
   "outputs": [
    {
     "data": {
      "application/vnd.jupyter.widget-view+json": {
       "model_id": "3b8776bfbac64ff4bdfbf1493dcedd8f",
       "version_major": 2,
       "version_minor": 0
      },
      "text/plain": [
       "HBox(children=(FloatText(value=0.0, description='Value:', layout=Layout(width='100px'), style=DescriptionStyle…"
      ]
     },
     "metadata": {},
     "output_type": "display_data"
    }
   ],
   "source": [
    "ODEx.Q5"
   ]
  },
  {
   "cell_type": "code",
   "execution_count": 12,
   "id": "exciting-alpha",
   "metadata": {
    "scrolled": false
   },
   "outputs": [
    {
     "data": {
      "application/vnd.jupyter.widget-view+json": {
       "model_id": "598b9732e96c42a7b14a20178fd6eb37",
       "version_major": 2,
       "version_minor": 0
      },
      "text/plain": [
       "VBox(children=(Output(layout=Layout(height='500px', width='980px')), FloatSlider(value=2.0, continuous_update=…"
      ]
     },
     "metadata": {},
     "output_type": "display_data"
    }
   ],
   "source": [
    "OptimalDetecor(x, pdf).hist_beta(2)"
   ]
  },
  {
   "cell_type": "markdown",
   "id": "skilled-generic",
   "metadata": {},
   "source": [
    "6. What is the corresponding probability of error?"
   ]
  },
  {
   "cell_type": "code",
   "execution_count": 13,
   "id": "alpine-thriller",
   "metadata": {},
   "outputs": [
    {
     "data": {
      "application/vnd.jupyter.widget-view+json": {
       "model_id": "af2b887add6b4a1d962a10ba9fb1c34f",
       "version_major": 2,
       "version_minor": 0
      },
      "text/plain": [
       "HBox(children=(FloatText(value=0.0, description='Value:', layout=Layout(width='100px'), style=DescriptionStyle…"
      ]
     },
     "metadata": {},
     "output_type": "display_data"
    }
   ],
   "source": [
    "ODEx.Q6"
   ]
  }
 ],
 "metadata": {
  "kernelspec": {
   "display_name": "Python 3",
   "language": "python",
   "name": "python3"
  },
  "language_info": {
   "codemirror_mode": {
    "name": "ipython",
    "version": 3
   },
   "file_extension": ".py",
   "mimetype": "text/x-python",
   "name": "python",
   "nbconvert_exporter": "python",
   "pygments_lexer": "ipython3",
   "version": "3.7.9"
  }
 },
 "nbformat": 4,
 "nbformat_minor": 5
}
